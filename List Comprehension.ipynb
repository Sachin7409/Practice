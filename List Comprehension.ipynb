{
 "cells": [
  {
   "cell_type": "markdown",
   "id": "9e0cd642",
   "metadata": {},
   "source": [
    "## Ways to create list"
   ]
  },
  {
   "cell_type": "markdown",
   "id": "1d4528f8",
   "metadata": {},
   "source": [
    "### Method -1"
   ]
  },
  {
   "cell_type": "code",
   "execution_count": 84,
   "id": "9d45804a",
   "metadata": {},
   "outputs": [],
   "source": [
    "a = ['Sachin','Arun','Sai','data Science']"
   ]
  },
  {
   "cell_type": "code",
   "execution_count": 85,
   "id": "e44f0525",
   "metadata": {},
   "outputs": [
    {
     "name": "stdout",
     "output_type": "stream",
     "text": [
      "['Sachin', 'Arun', 'Sai', 'data Science']\n",
      "<class 'list'>\n"
     ]
    }
   ],
   "source": [
    "print(a)\n",
    "print(type(a))"
   ]
  },
  {
   "cell_type": "markdown",
   "id": "15515318",
   "metadata": {},
   "source": [
    "### Method -2\n",
    " Using for loop."
   ]
  },
  {
   "cell_type": "code",
   "execution_count": 80,
   "id": "95ab1cfd",
   "metadata": {
    "scrolled": true
   },
   "outputs": [
    {
     "name": "stdout",
     "output_type": "stream",
     "text": [
      "Enter size of list : 5\n",
      "Enter elements of list : 1\n",
      "Enter elements of list : 2\n",
      "Enter elements of list : 3\n",
      "Enter elements of list : 4\n",
      "Enter elements of list : 4\n",
      "\n",
      "\n",
      "The list with elements is \n",
      "['1', '2', '3', '4', '4']\n"
     ]
    }
   ],
   "source": [
    "b = [] # declare an empty list and then we will append the elements of list from user input.\n",
    "elements = int(input('Enter size of list : '))\n",
    "for i in range(elements):\n",
    "    variable = input('Enter elements of list : ')\n",
    "    b.append(variable)\n",
    "print('\\n')\n",
    "print('The list with elements is ')\n",
    "print(b)"
   ]
  },
  {
   "cell_type": "markdown",
   "id": "e2adf4dd",
   "metadata": {},
   "source": [
    "#### Another example  ---  Find out the even numbers from a given list."
   ]
  },
  {
   "cell_type": "code",
   "execution_count": 81,
   "id": "7eae2981",
   "metadata": {},
   "outputs": [
    {
     "name": "stdout",
     "output_type": "stream",
     "text": [
      "[2, 4, 6, 8, 10, 12, 14, 16, 18]\n"
     ]
    }
   ],
   "source": [
    "list2 = [2,3,4,5,6,7,8,9,10,11,12,1,3,14,1,5,16,1,17,18]\n",
    "list3 = []\n",
    "for x in list2:\n",
    "    if x%2==0:\n",
    "        list3.append(x)\n",
    "print(list3)"
   ]
  },
  {
   "cell_type": "code",
   "execution_count": 82,
   "id": "340d647a",
   "metadata": {},
   "outputs": [
    {
     "name": "stdout",
     "output_type": "stream",
     "text": [
      "[1, 3, 5, 7, 9, 11, 13, 15, 17, 19, 21, 23, 25, 27, 29, 31, 33, 35, 37, 39, 41, 43, 45, 47, 49, 51, 53, 55, 57, 59, 61, 63, 65, 67, 69, 71, 73, 75, 77, 79, 81, 83, 85, 87, 89, 91, 93, 95, 97, 99]\n"
     ]
    }
   ],
   "source": [
    "list4 = []\n",
    "for z in range(100):\n",
    "    if z%2!=0:\n",
    "        list4.append(z)\n",
    "print(list4)"
   ]
  },
  {
   "cell_type": "markdown",
   "id": "65efad88",
   "metadata": {},
   "source": [
    "### Method -3\n",
    "Using List Comprehension"
   ]
  },
  {
   "cell_type": "code",
   "execution_count": 33,
   "id": "208a33e7",
   "metadata": {
    "scrolled": true
   },
   "outputs": [
    {
     "name": "stdout",
     "output_type": "stream",
     "text": [
      "Enter a limit : 100\n",
      "[1, 2, 3, 4, 5, 6, 7, 8, 9, 10, 11, 12, 13, 14, 15, 16, 17, 18, 19, 20, 21, 22, 23, 24, 25, 26, 27, 28, 29, 30, 31, 32, 33, 34, 35, 36, 37, 38, 39, 40, 41, 42, 43, 44, 45, 46, 47, 48, 49, 50, 51, 52, 53, 54, 55, 56, 57, 58, 59, 60, 61, 62, 63, 64, 65, 66, 67, 68, 69, 70, 71, 72, 73, 74, 75, 76, 77, 78, 79, 80, 81, 82, 83, 84, 85, 86, 87, 88, 89, 90, 91, 92, 93, 94, 95, 96, 97, 98, 99]\n"
     ]
    }
   ],
   "source": [
    "list5 = [element for element in range(1,int(input('Enter a limit : ')))]\n",
    "print(list5)"
   ]
  },
  {
   "cell_type": "markdown",
   "id": "f3b9ddf1",
   "metadata": {},
   "source": [
    "### More examples on list comprehension"
   ]
  },
  {
   "cell_type": "code",
   "execution_count": 89,
   "id": "99595204",
   "metadata": {},
   "outputs": [
    {
     "name": "stdout",
     "output_type": "stream",
     "text": [
      "['SACHIN', 'ARUN', 'SAI', 'DATA SCIENCE']\n"
     ]
    }
   ],
   "source": [
    "# program to print the list element in capital letters\n",
    "list1 = [elem.upper() for elem in a]\n",
    "print(list1)"
   ]
  },
  {
   "cell_type": "code",
   "execution_count": 91,
   "id": "8bcb5552",
   "metadata": {},
   "outputs": [
    {
     "name": "stdout",
     "output_type": "stream",
     "text": [
      "['Sachin', 'Sachin', 'Sachin', 'Sachin']\n"
     ]
    }
   ],
   "source": [
    "# Set all elements to one.\n",
    "newlist1 = ['Sachin' for item in a]\n",
    "print(newlist1)"
   ]
  },
  {
   "cell_type": "code",
   "execution_count": null,
   "id": "d53cc4cf",
   "metadata": {},
   "outputs": [],
   "source": []
  },
  {
   "cell_type": "code",
   "execution_count": null,
   "id": "a009bf65",
   "metadata": {},
   "outputs": [],
   "source": []
  },
  {
   "cell_type": "markdown",
   "id": "48b0c480",
   "metadata": {},
   "source": [
    "## Opening a file and perform some operation using list comprehension.\n",
    "Before performing any operation on the file like read or write, first we have to open that file. For this, we should use Python’s inbuilt function open()."
   ]
  },
  {
   "cell_type": "code",
   "execution_count": 64,
   "id": "322bf825",
   "metadata": {},
   "outputs": [],
   "source": [
    "# Declare a variable to store filepath with filename.\n",
    "file = '/Users/manishkumar/Downloads/sample1.txt'"
   ]
  },
  {
   "cell_type": "code",
   "execution_count": 68,
   "id": "96a468d6",
   "metadata": {},
   "outputs": [],
   "source": [
    "# opening a file\n",
    "file_ = open(file,'r')"
   ]
  },
  {
   "cell_type": "code",
   "execution_count": 69,
   "id": "9453ba7a",
   "metadata": {
    "scrolled": false
   },
   "outputs": [
    {
     "data": {
      "text/plain": [
       "'Businesses and organisations collect a lot of data on a daily basis in many forms and figures. Most of it used to be in the form of transcripts and customer reviews, but with the advancement into the digital age, this data has taken the form of ones and zeros. Some professionals realised that this collected data has a more applicable purpose than just tracking the company’s assets. It was understood that when cleaned and organised the information obtained can be used to gain important insight into businesses progress, sales of the product, customers reaction to the product and current market trends.\\n\\nThe Data Analytics course includes a balanced combination of mathematics and computing technology. Mathematically, students will be taught subjects like statistics, probability, permutation and combination as these topics deal with plotting data. Computing technology has become a need since the data has become digital and increased in size. In order to organise the data professionals, need to learn machine language and algorithm writing. Other than these, other subjects may need to study if the professionals work in specific fields, for example, if involved in Business Analytics, the professionals need to have a certain amount of business acumen.'"
      ]
     },
     "execution_count": 69,
     "metadata": {},
     "output_type": "execute_result"
    }
   ],
   "source": [
    "# read file with read()function\n",
    "file_.read()"
   ]
  },
  {
   "cell_type": "code",
   "execution_count": 70,
   "id": "9748d955",
   "metadata": {},
   "outputs": [],
   "source": [
    "# close the file after opening and is compulsory\n",
    "file_.close()"
   ]
  },
  {
   "cell_type": "markdown",
   "id": "81900d0d",
   "metadata": {},
   "source": [
    ".\n",
    ".\n",
    "."
   ]
  },
  {
   "cell_type": "code",
   "execution_count": 61,
   "id": "90419db1",
   "metadata": {},
   "outputs": [
    {
     "name": "stdout",
     "output_type": "stream",
     "text": [
      "Businesses and organisations collect a lot of data on a daily basis in many forms and figures. Most of it used to be in the form of transcripts and customer reviews, but with the advancement into the digital age, this data has taken the form of ones and zeros. Some professionals realised that this collected data has a more applicable purpose than just tracking the company’s assets. It was understood that when cleaned and organised the information obtained can be used to gain important insight into businesses progress, sales of the product, customers reaction to the product and current market trends.\n",
      "\n",
      "\n",
      "\n",
      "The Data Analytics course includes a balanced combination of mathematics and computing technology. Mathematically, students will be taught subjects like statistics, probability, permutation and combination as these topics deal with plotting data. Computing technology has become a need since the data has become digital and increased in size. In order to organise the data professionals, need to learn machine language and algorithm writing. Other than these, other subjects may need to study if the professionals work in specific fields, for example, if involved in Business Analytics, the professionals need to have a certain amount of business acumen.\n"
     ]
    }
   ],
   "source": [
    "# Read file using for loop. line by line will be read.\n",
    "file_ = open(file,'r')\n",
    "for line in file_:\n",
    "    print(line)\n",
    "file_.close()"
   ]
  },
  {
   "cell_type": "markdown",
   "id": "85304bcf",
   "metadata": {},
   "source": [
    ".\n",
    ".\n",
    "."
   ]
  },
  {
   "cell_type": "code",
   "execution_count": 55,
   "id": "b2ce9a72",
   "metadata": {
    "scrolled": true
   },
   "outputs": [
    {
     "name": "stdout",
     "output_type": "stream",
     "text": [
      "['Businesses and organisations collect a lot of data on a daily basis in many forms and figures. Most of it used to be in the form of transcripts and customer reviews, but with the advancement into the digital age, this data has taken the form of ones and zeros. Some professionals realised that this collected data has a more applicable purpose than just tracking the company’s assets. It was understood that when cleaned and organised the information obtained can be used to gain important insight into businesses progress, sales of the product, customers reaction to the product and current market trends.\\n', '\\n', 'The Data Analytics course includes a balanced combination of mathematics and computing technology. Mathematically, students will be taught subjects like statistics, probability, permutation and combination as these topics deal with plotting data. Computing technology has become a need since the data has become digital and increased in size. In order to organise the data professionals, need to learn machine language and algorithm writing. Other than these, other subjects may need to study if the professionals work in specific fields, for example, if involved in Business Analytics, the professionals need to have a certain amount of business acumen.']\n"
     ]
    }
   ],
   "source": [
    "# open file and read and then put in a list.\n",
    "list6 = []\n",
    "file_ = open(file,'r')\n",
    "for line in file_:\n",
    "    list6.append(line)\n",
    "print(list6)"
   ]
  },
  {
   "cell_type": "markdown",
   "id": "52a23b64",
   "metadata": {},
   "source": [
    " .\n",
    " .\n",
    " .\n",
    " \n",
    " "
   ]
  },
  {
   "cell_type": "code",
   "execution_count": 76,
   "id": "95f222aa",
   "metadata": {},
   "outputs": [
    {
     "name": "stdout",
     "output_type": "stream",
     "text": [
      "['Businesses and organisations collect a lot of data on a daily basis in many forms and figures. Most of it used to be in the form of transcripts and customer reviews, but with the advancement into the digital age, this data has taken the form of ones and zeros. Some professionals realised that this collected data has a more applicable purpose than just tracking the company’s assets. It was understood that when cleaned and organised the information obtained can be used to gain important insight into businesses progress, sales of the product, customers reaction to the product and current market trends.\\n', '\\n', 'The Data Analytics course includes a balanced combination of mathematics and computing technology. Mathematically, students will be taught subjects like statistics, probability, permutation and combination as these topics deal with plotting data. Computing technology has become a need since the data has become digital and increased in size. In order to organise the data professionals, need to learn machine language and algorithm writing. Other than these, other subjects may need to study if the professionals work in specific fields, for example, if involved in Business Analytics, the professionals need to have a certain amount of business acumen.']\n"
     ]
    }
   ],
   "source": [
    "# open a file using list comprehension.\n",
    "file_list = [line for line in open(file,'r')]\n",
    "print(file_list)"
   ]
  },
  {
   "cell_type": "markdown",
   "id": "eec0137f",
   "metadata": {},
   "source": [
    "## use of 'with' in file handling.\n",
    "\n",
    "When we use with keyword in file then we do not need to close the file explicitly."
   ]
  },
  {
   "cell_type": "code",
   "execution_count": 75,
   "id": "f073b36c",
   "metadata": {
    "scrolled": true
   },
   "outputs": [
    {
     "name": "stdout",
     "output_type": "stream",
     "text": [
      "['Businesses and organisations collect a lot of data on a daily basis in many forms and figures. Most of it used to be in the form of transcripts and customer reviews, but with the advancement into the digital age, this data has taken the form of ones and zeros. Some professionals realised that this collected data has a more applicable purpose than just tracking the company’s assets. It was understood that when cleaned and organised the information obtained can be used to gain important insight into businesses progress, sales of the product, customers reaction to the product and current market trends.', '', 'The Data Analytics course includes a balanced combination of mathematics and computing technology. Mathematically, students will be taught subjects like statistics, probability, permutation and combination as these topics deal with plotting data. Computing technology has become a need since the data has become digital and increased in size. In order to organise the data professionals, need to learn machine language and algorithm writing. Other than these, other subjects may need to study if the professionals work in specific fields, for example, if involved in Business Analytics, the professionals need to have a certain amount of business acumen.']\n"
     ]
    }
   ],
   "source": [
    "# this will give you a list of strings\n",
    "with open(file) as f:\n",
    "    lines = f.read().splitlines()\n",
    "print(lines)"
   ]
  },
  {
   "cell_type": "code",
   "execution_count": null,
   "id": "035bf98d",
   "metadata": {},
   "outputs": [],
   "source": []
  }
 ],
 "metadata": {
  "kernelspec": {
   "display_name": "Python 3",
   "language": "python",
   "name": "python3"
  },
  "language_info": {
   "codemirror_mode": {
    "name": "ipython",
    "version": 3
   },
   "file_extension": ".py",
   "mimetype": "text/x-python",
   "name": "python",
   "nbconvert_exporter": "python",
   "pygments_lexer": "ipython3",
   "version": "3.8.8"
  }
 },
 "nbformat": 4,
 "nbformat_minor": 5
}
