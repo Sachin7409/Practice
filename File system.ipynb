{
 "cells": [
  {
   "cell_type": "markdown",
   "id": "f5535e1b",
   "metadata": {},
   "source": [
    "Upto now, we take input from console and interact with user by writting back to console.\n",
    "Sometime it is not sufficient.\n",
    "For example, You have some 10000 words than it is not possible with console or not feasible as memory is volatile and it is time consuming.\n",
    "\n",
    "\n",
    "Here File Handling comes to rescue. In file handling data can be stored permanently in file.\n",
    "1. **A file is a named location on disk to store related information.** \n",
    "2. We can access the stored information after the program termination.\n",
    "3. This memory is not volatile because it is in your **hard drive not in RAM**."
   ]
  },
  {
   "cell_type": "markdown",
   "id": "858a4bdd",
   "metadata": {},
   "source": [
    "Files are used in two modes in Python\n",
    "1. Text\n",
    "2. Binary\n",
    "##### Property\n",
    "* Each line in a file is ended with special character"
   ]
  },
  {
   "cell_type": "markdown",
   "id": "81515854",
   "metadata": {},
   "source": [
    "### Order of File operation.\n",
    "* Open the file\n",
    "* Read or Write operation\n",
    "* Close the file"
   ]
  },
  {
   "cell_type": "markdown",
   "id": "944f6b00",
   "metadata": {},
   "source": [
    "## Open a file \n",
    "\n",
    "1. open( ) method ---> open() method take two arguments (file name, mode)\n",
    "2. With block"
   ]
  },
  {
   "cell_type": "code",
   "execution_count": 3,
   "id": "2d12bbe0",
   "metadata": {},
   "outputs": [],
   "source": [
    "# open(). The function returns a file object\n",
    "\n",
    "file1 = open('/Users/manishkumar/Downloads/sample1.txt','rt')\n"
   ]
  },
  {
   "cell_type": "code",
   "execution_count": 4,
   "id": "2fab4736",
   "metadata": {
    "scrolled": true
   },
   "outputs": [
    {
     "data": {
      "text/plain": [
       "'Businesses and organisations collect a lot of data on a daily basis in many forms and figures. Most of it used to be in the form of transcripts and customer reviews, but with the advancement into the digital age, this data has taken the form of ones and zeros. Some professionals realised that this collected data has a more applicable purpose than just tracking the company’s assets. It was understood that when cleaned and organised the information obtained can be used to gain important insight into businesses progress, sales of the product, customers reaction to the product and current market trends.\\n\\nThe Data Analytics course includes a balanced combination of mathematics and computing technology. Mathematically, students will be taught subjects like statistics, probability, permutation and combination as these topics deal with plotting data. Computing technology has become a need since the data has become digital and increased in size. In order to organise the data professionals, need to learn machine language and algorithm writing. Other than these, other subjects may need to study if the professionals work in specific fields, for example, if involved in Business Analytics, the professionals need to have a certain amount of business acumen.'"
      ]
     },
     "execution_count": 4,
     "metadata": {},
     "output_type": "execute_result"
    }
   ],
   "source": [
    "file1.read()"
   ]
  },
  {
   "cell_type": "code",
   "execution_count": 7,
   "id": "354c5c4b",
   "metadata": {},
   "outputs": [],
   "source": [
    "file1.close()"
   ]
  },
  {
   "cell_type": "markdown",
   "id": "79607a59",
   "metadata": {},
   "source": [
    "## Using with keyword"
   ]
  },
  {
   "cell_type": "code",
   "execution_count": 9,
   "id": "b84ce8d6",
   "metadata": {},
   "outputs": [
    {
     "name": "stdout",
     "output_type": "stream",
     "text": [
      "Businesses and organisations collect a lot of data on a daily basis in many forms and figures. Most of it used to be in the form of transcripts and customer reviews, but with the advancement into the digital age, this data has taken the form of ones and zeros. Some professionals realised that this collected data has a more applicable purpose than just tracking the company’s assets. It was understood that when cleaned and organised the information obtained can be used to gain important insight into businesses progress, sales of the product, customers reaction to the product and current market trends.\n",
      "\n",
      "The Data Analytics course includes a balanced combination of mathematics and computing technology. Mathematically, students will be taught subjects like statistics, probability, permutation and combination as these topics deal with plotting data. Computing technology has become a need since the data has become digital and increased in size. In order to organise the data professionals, need to learn machine language and algorithm writing. Other than these, other subjects may need to study if the professionals work in specific fields, for example, if involved in Business Analytics, the professionals need to have a certain amount of business acumen.\n"
     ]
    }
   ],
   "source": [
    "# when you use with there is no need to close the file.\n",
    "with open('/Users/manishkumar/Downloads/sample1.txt','r') as f:\n",
    "    data = f.read()\n",
    "print(data)"
   ]
  },
  {
   "cell_type": "markdown",
   "id": "1dc48b2c",
   "metadata": {},
   "source": [
    "## Create file"
   ]
  },
  {
   "cell_type": "code",
   "execution_count": 10,
   "id": "5ab4496b",
   "metadata": {},
   "outputs": [],
   "source": [
    "file2 = open('/Users/manishkumar/Downloads/file1.txt','w')"
   ]
  },
  {
   "cell_type": "code",
   "execution_count": 12,
   "id": "5f3c9a67",
   "metadata": {},
   "outputs": [],
   "source": [
    "s = 'Hello Everyone! My name is Sachin Chaudhary and I welcome you all in this Python classes.'"
   ]
  },
  {
   "cell_type": "code",
   "execution_count": 13,
   "id": "d3c1cb67",
   "metadata": {},
   "outputs": [
    {
     "data": {
      "text/plain": [
       "89"
      ]
     },
     "execution_count": 13,
     "metadata": {},
     "output_type": "execute_result"
    }
   ],
   "source": [
    "file2.write(s)"
   ]
  },
  {
   "cell_type": "code",
   "execution_count": 15,
   "id": "cc263f3c",
   "metadata": {},
   "outputs": [],
   "source": [
    "file2.close()"
   ]
  },
  {
   "cell_type": "code",
   "execution_count": 23,
   "id": "a6da55fb",
   "metadata": {},
   "outputs": [
    {
     "ename": "TypeError",
     "evalue": "expected str, bytes or os.PathLike object, not _io.TextIOWrapper",
     "output_type": "error",
     "traceback": [
      "\u001b[0;31m---------------------------------------------------------------------------\u001b[0m",
      "\u001b[0;31mTypeError\u001b[0m                                 Traceback (most recent call last)",
      "\u001b[0;32m<ipython-input-23-edd839ddde52>\u001b[0m in \u001b[0;36m<module>\u001b[0;34m\u001b[0m\n\u001b[0;32m----> 1\u001b[0;31m \u001b[0mmyfile\u001b[0m \u001b[0;34m=\u001b[0m \u001b[0mopen\u001b[0m\u001b[0;34m(\u001b[0m\u001b[0mfile2\u001b[0m\u001b[0;34m,\u001b[0m\u001b[0;34m'r'\u001b[0m\u001b[0;34m)\u001b[0m\u001b[0;34m\u001b[0m\u001b[0;34m\u001b[0m\u001b[0m\n\u001b[0m",
      "\u001b[0;31mTypeError\u001b[0m: expected str, bytes or os.PathLike object, not _io.TextIOWrapper"
     ]
    }
   ],
   "source": [
    "myfile = open(file2,'r')"
   ]
  },
  {
   "cell_type": "code",
   "execution_count": 22,
   "id": "b686c1f4",
   "metadata": {},
   "outputs": [
    {
     "data": {
      "text/plain": [
       "'Hello Everyone! My name is Sachin Chaudhary and I welcome you all in this Python classes.'"
      ]
     },
     "execution_count": 22,
     "metadata": {},
     "output_type": "execute_result"
    }
   ],
   "source": [
    "myfile.read()"
   ]
  },
  {
   "cell_type": "code",
   "execution_count": null,
   "id": "8c3a9401",
   "metadata": {},
   "outputs": [],
   "source": []
  },
  {
   "cell_type": "code",
   "execution_count": null,
   "id": "9eaf75c6",
   "metadata": {},
   "outputs": [],
   "source": []
  },
  {
   "cell_type": "code",
   "execution_count": null,
   "id": "a7508dde",
   "metadata": {},
   "outputs": [],
   "source": []
  },
  {
   "cell_type": "code",
   "execution_count": null,
   "id": "b7e2cde4",
   "metadata": {},
   "outputs": [],
   "source": []
  },
  {
   "cell_type": "code",
   "execution_count": null,
   "id": "25cc1894",
   "metadata": {},
   "outputs": [],
   "source": []
  }
 ],
 "metadata": {
  "kernelspec": {
   "display_name": "Python 3",
   "language": "python",
   "name": "python3"
  },
  "language_info": {
   "codemirror_mode": {
    "name": "ipython",
    "version": 3
   },
   "file_extension": ".py",
   "mimetype": "text/x-python",
   "name": "python",
   "nbconvert_exporter": "python",
   "pygments_lexer": "ipython3",
   "version": "3.8.8"
  }
 },
 "nbformat": 4,
 "nbformat_minor": 5
}
