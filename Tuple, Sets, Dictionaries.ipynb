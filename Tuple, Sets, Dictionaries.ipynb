{
 "cells": [
  {
   "cell_type": "markdown",
   "id": "991dcc13",
   "metadata": {},
   "source": [
    "# Tuple\n",
    "\n",
    "* ordered\n",
    "* immutable\n",
    "* allows duplicates"
   ]
  },
  {
   "cell_type": "code",
   "execution_count": 1,
   "id": "066e3083",
   "metadata": {},
   "outputs": [
    {
     "data": {
      "text/plain": [
       "(1, 0.2, 3, 3, 'sachin', 'arun')"
      ]
     },
     "execution_count": 1,
     "metadata": {},
     "output_type": "execute_result"
    }
   ],
   "source": [
    "# check whether it allows duplicacy or not\n",
    "tuple1 = (1,0.2,3,3,'sachin','arun')\n",
    "tuple1"
   ]
  },
  {
   "cell_type": "code",
   "execution_count": 2,
   "id": "27ff13e9",
   "metadata": {},
   "outputs": [
    {
     "data": {
      "text/plain": [
       "'arun'"
      ]
     },
     "execution_count": 2,
     "metadata": {},
     "output_type": "execute_result"
    }
   ],
   "source": [
    "# accessing elements \n",
    "tuple1[5]"
   ]
  },
  {
   "cell_type": "code",
   "execution_count": 3,
   "id": "2c0915e9",
   "metadata": {},
   "outputs": [
    {
     "data": {
      "text/plain": [
       "3"
      ]
     },
     "execution_count": 3,
     "metadata": {},
     "output_type": "execute_result"
    }
   ],
   "source": [
    "# negative indexing\n",
    "tuple1[-3]"
   ]
  },
  {
   "cell_type": "code",
   "execution_count": 4,
   "id": "7052aa68",
   "metadata": {},
   "outputs": [
    {
     "data": {
      "text/plain": [
       "(3, 3, 'sachin')"
      ]
     },
     "execution_count": 4,
     "metadata": {},
     "output_type": "execute_result"
    }
   ],
   "source": [
    "# tuple slicing            tuple[ start element  :  end element  :  step element]\n",
    "tuple1[2:5]"
   ]
  },
  {
   "cell_type": "code",
   "execution_count": 5,
   "id": "6368c100",
   "metadata": {},
   "outputs": [
    {
     "data": {
      "text/plain": [
       "(0.2, 3, 3, 'sachin', 'arun')"
      ]
     },
     "execution_count": 5,
     "metadata": {},
     "output_type": "execute_result"
    }
   ],
   "source": [
    "# slicing with step\n",
    "tuple1[1:6:1]"
   ]
  },
  {
   "cell_type": "code",
   "execution_count": 6,
   "id": "7837e373",
   "metadata": {},
   "outputs": [],
   "source": [
    "# Slicing with steps\n",
    "tuple6 = ('sachin','pavan','raghavendra','arun','ksr','sai','kavya','naveen')"
   ]
  },
  {
   "cell_type": "code",
   "execution_count": 7,
   "id": "8907edb6",
   "metadata": {},
   "outputs": [
    {
     "data": {
      "text/plain": [
       "('sachin', 'arun', 'kavya')"
      ]
     },
     "execution_count": 7,
     "metadata": {},
     "output_type": "execute_result"
    }
   ],
   "source": [
    "tuple6[  :   :   3]"
   ]
  },
  {
   "cell_type": "code",
   "execution_count": 8,
   "id": "6ecf1b0a",
   "metadata": {},
   "outputs": [
    {
     "data": {
      "text/plain": [
       "(1, 3, 'sachin')"
      ]
     },
     "execution_count": 8,
     "metadata": {},
     "output_type": "execute_result"
    }
   ],
   "source": [
    "tuple1[::2]"
   ]
  },
  {
   "cell_type": "code",
   "execution_count": 9,
   "id": "37ef8754",
   "metadata": {},
   "outputs": [],
   "source": [
    "#Check the immutable property\n",
    "# tuple1[3] = \"Raghavendra\""
   ]
  },
  {
   "cell_type": "code",
   "execution_count": 10,
   "id": "5b62f9af",
   "metadata": {},
   "outputs": [
    {
     "data": {
      "text/plain": [
       "6"
      ]
     },
     "execution_count": 10,
     "metadata": {},
     "output_type": "execute_result"
    }
   ],
   "source": [
    "len(tuple1)"
   ]
  },
  {
   "cell_type": "code",
   "execution_count": 11,
   "id": "712a69f1",
   "metadata": {},
   "outputs": [],
   "source": [
    "dsd = 2,2,'string'"
   ]
  },
  {
   "cell_type": "code",
   "execution_count": 12,
   "id": "b3e9625d",
   "metadata": {},
   "outputs": [
    {
     "data": {
      "text/plain": [
       "(2, 2, 'string')"
      ]
     },
     "execution_count": 12,
     "metadata": {},
     "output_type": "execute_result"
    }
   ],
   "source": [
    "dsd"
   ]
  },
  {
   "cell_type": "code",
   "execution_count": 13,
   "id": "c66effd3",
   "metadata": {},
   "outputs": [
    {
     "name": "stdout",
     "output_type": "stream",
     "text": [
      "<class 'tuple'>\n"
     ]
    }
   ],
   "source": [
    "print(type(dsd))"
   ]
  },
  {
   "cell_type": "code",
   "execution_count": 14,
   "id": "651d5462",
   "metadata": {},
   "outputs": [
    {
     "name": "stdout",
     "output_type": "stream",
     "text": [
      "<class 'tuple'>\n"
     ]
    }
   ],
   "source": [
    "tuple2 = (1,)\n",
    "print(type(tuple2))"
   ]
  },
  {
   "cell_type": "code",
   "execution_count": 15,
   "id": "e4eb5b64",
   "metadata": {},
   "outputs": [],
   "source": [
    "tuple3 = ()"
   ]
  },
  {
   "cell_type": "code",
   "execution_count": 16,
   "id": "04f70d21",
   "metadata": {},
   "outputs": [
    {
     "data": {
      "text/plain": [
       "tuple"
      ]
     },
     "execution_count": 16,
     "metadata": {},
     "output_type": "execute_result"
    }
   ],
   "source": [
    "type(tuple3)"
   ]
  },
  {
   "cell_type": "code",
   "execution_count": 26,
   "id": "7f55e94a",
   "metadata": {},
   "outputs": [
    {
     "data": {
      "text/plain": [
       "(1,\n",
       " 2.3,\n",
       " 'minutes ago',\n",
       " [1, 2, 3],\n",
       " ('sachin', 'raghavendra', 'are mentor and student'))"
      ]
     },
     "execution_count": 26,
     "metadata": {},
     "output_type": "execute_result"
    }
   ],
   "source": [
    "# tuple hold any item data type\n",
    "tuple4 = (1,2.3,'minutes ago',[1,2,3],('sachin','raghavendra','are mentor and student'))\n",
    "tuple4"
   ]
  },
  {
   "cell_type": "markdown",
   "id": "26656ea9",
   "metadata": {},
   "source": [
    "# tuple.  ------>.  list------->tuple"
   ]
  },
  {
   "cell_type": "code",
   "execution_count": 30,
   "id": "fabe0ff8",
   "metadata": {},
   "outputs": [
    {
     "data": {
      "text/plain": [
       "(1,\n",
       " 2.3,\n",
       " 'minutes ago',\n",
       " [1, 2, 3],\n",
       " ('sachin', 'raghavendra', 'are mentor and student'))"
      ]
     },
     "execution_count": 30,
     "metadata": {},
     "output_type": "execute_result"
    }
   ],
   "source": [
    "tuple4 = (1,2.3,'minutes ago',[1,2,3],('sachin','raghavendra','are mentor and student'))\n",
    "#x = list(tuple4)\n",
    "#x\n",
    "tuple4"
   ]
  },
  {
   "cell_type": "code",
   "execution_count": 28,
   "id": "74099fcc",
   "metadata": {},
   "outputs": [
    {
     "data": {
      "text/plain": [
       "[1,\n",
       " 2.3,\n",
       " 'seconds ago',\n",
       " [1, 2, 3],\n",
       " ('sachin', 'raghavendra', 'are mentor and student')]"
      ]
     },
     "execution_count": 28,
     "metadata": {},
     "output_type": "execute_result"
    }
   ],
   "source": [
    "x[2] = 'seconds ago'\n",
    "x"
   ]
  },
  {
   "cell_type": "code",
   "execution_count": 32,
   "id": "3da1f483",
   "metadata": {},
   "outputs": [
    {
     "data": {
      "text/plain": [
       "(1,\n",
       " 2.3,\n",
       " 'seconds ago',\n",
       " [1, 2, 3],\n",
       " ('sachin', 'raghavendra', 'are mentor and student'))"
      ]
     },
     "execution_count": 32,
     "metadata": {},
     "output_type": "execute_result"
    }
   ],
   "source": [
    "y = tuple(x)\n",
    "y"
   ]
  },
  {
   "cell_type": "code",
   "execution_count": 36,
   "id": "18f68705",
   "metadata": {},
   "outputs": [
    {
     "data": {
      "text/plain": [
       "(1,\n",
       " 2.3,\n",
       " 'minutes ago',\n",
       " [1, 2, 3],\n",
       " ('sachin', 'raghavendra', 'are mentor and student'),\n",
       " 1,\n",
       " 0.2,\n",
       " 3,\n",
       " 3,\n",
       " 'sachin',\n",
       " 'arun')"
      ]
     },
     "execution_count": 36,
     "metadata": {},
     "output_type": "execute_result"
    }
   ],
   "source": [
    "tuple_multiply = tuple4 + tuple1\n",
    "tuple_multiply"
   ]
  },
  {
   "cell_type": "code",
   "execution_count": 37,
   "id": "b49d3a79",
   "metadata": {},
   "outputs": [
    {
     "data": {
      "text/plain": [
       "tuple"
      ]
     },
     "execution_count": 37,
     "metadata": {},
     "output_type": "execute_result"
    }
   ],
   "source": [
    "# tuple packing unpacking\n",
    "tuple8 = 'naresh','suresh','aman','raman'\n",
    "type(tuple8)"
   ]
  },
  {
   "cell_type": "code",
   "execution_count": 38,
   "id": "6d34838b",
   "metadata": {},
   "outputs": [
    {
     "name": "stdout",
     "output_type": "stream",
     "text": [
      "naresh\n",
      "suresh\n",
      "aman\n",
      "raman\n"
     ]
    }
   ],
   "source": [
    "w = tuple8[0]\n",
    "x = tuple8[1]\n",
    "y = tuple8[2]\n",
    "z = tuple8[3]\n",
    "print(w)\n",
    "print(x)\n",
    "print(y)\n",
    "print(z)"
   ]
  },
  {
   "cell_type": "code",
   "execution_count": 39,
   "id": "d2a1e142",
   "metadata": {},
   "outputs": [
    {
     "data": {
      "text/plain": [
       "('naresh', 'suresh', 'aman', 'raman')"
      ]
     },
     "execution_count": 39,
     "metadata": {},
     "output_type": "execute_result"
    }
   ],
   "source": [
    "w,x,y,z = ('naresh','suresh','aman','raman')\n",
    "tuple9 = w,x,y,z\n",
    "tuple9"
   ]
  },
  {
   "cell_type": "code",
   "execution_count": null,
   "id": "81f3f213",
   "metadata": {},
   "outputs": [],
   "source": []
  }
 ],
 "metadata": {
  "kernelspec": {
   "display_name": "Python 3",
   "language": "python",
   "name": "python3"
  },
  "language_info": {
   "codemirror_mode": {
    "name": "ipython",
    "version": 3
   },
   "file_extension": ".py",
   "mimetype": "text/x-python",
   "name": "python",
   "nbconvert_exporter": "python",
   "pygments_lexer": "ipython3",
   "version": "3.8.8"
  }
 },
 "nbformat": 4,
 "nbformat_minor": 5
}
