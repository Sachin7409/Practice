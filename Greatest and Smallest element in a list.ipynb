{
 "cells": [
  {
   "cell_type": "markdown",
   "id": "d27a38ae",
   "metadata": {},
   "source": [
    "# Greatest "
   ]
  },
  {
   "cell_type": "code",
   "execution_count": 1,
   "id": "58e5023b",
   "metadata": {},
   "outputs": [],
   "source": [
    "alist = [1,2,4,3,52,6,4,77,5,4,33,3,4,5,6,7,7,54,9]"
   ]
  },
  {
   "cell_type": "markdown",
   "id": "f3a49898",
   "metadata": {},
   "source": [
    "## Method-1. Using built-in function max( )"
   ]
  },
  {
   "cell_type": "code",
   "execution_count": 4,
   "id": "3b19d16c",
   "metadata": {},
   "outputs": [
    {
     "name": "stdout",
     "output_type": "stream",
     "text": [
      "77\n"
     ]
    }
   ],
   "source": [
    "print(max(alist))"
   ]
  },
  {
   "cell_type": "markdown",
   "id": "575842b3",
   "metadata": {},
   "source": [
    "## Method-2. Without  using built-in function"
   ]
  },
  {
   "cell_type": "code",
   "execution_count": null,
   "id": "22477f23",
   "metadata": {},
   "outputs": [],
   "source": [
    "# define a function to find greatest element in a list\n",
    "\n",
    "def max_element(alist):\n",
    "\n",
    "# assign the max to first index of list and then compare with other elements    \n",
    "    \n",
    "    max = alist[0]\n",
    "\n",
    "# for loop to iterate each element in list\n",
    "    \n",
    "    for q in alist:\n",
    "\n",
    "# if condition to compare elements with max which is first element \n",
    "        \n",
    "        if q > max:\n",
    "\n",
    "# reference the max to greatest if true\n",
    "           \n",
    "            max = q\n",
    "\n",
    "# return the greatest element\n",
    "    \n",
    "    return max\n",
    "\n",
    "# function call\n",
    "\n",
    "print('The greatest element in alist is')\n",
    "max_element(alist)\n"
   ]
  },
  {
   "cell_type": "markdown",
   "id": "d51956c2",
   "metadata": {},
   "source": [
    "## Method-3. Find greatest element in a list on provided by user"
   ]
  },
  {
   "cell_type": "code",
   "execution_count": 47,
   "id": "3d09a605",
   "metadata": {},
   "outputs": [
    {
     "name": "stdout",
     "output_type": "stream",
     "text": [
      "Enter the number of elements in list :- 4\n",
      "Enter elements 23\n",
      "Enter elements 232\n",
      "Enter elements 444\n",
      "Enter elements 33\n",
      "Enter elements 444\n",
      "largest number is  444\n"
     ]
    }
   ],
   "source": [
    "# Create an empty list.\n",
    "\n",
    "list1 = []\n",
    "\n",
    "# Asking the number of elements in list\n",
    "\n",
    "element = int(input('Enter the number of elements in list :- '))\n",
    "\n",
    "# Iterate through for loop\n",
    "\n",
    "for i in range(element+1):\n",
    "\n",
    "# Append element to empty list\n",
    "\n",
    "    values = int(input('Enter elements '))\n",
    "    list1.append(values)\n",
    "    \n",
    "list1.sort()\n",
    "print('largest number is ',list1[-1])"
   ]
  },
  {
   "cell_type": "markdown",
   "id": "0dcb41f9",
   "metadata": {},
   "source": [
    "## Method-4. Create array by list comprehension and find greatest by sorting "
   ]
  },
  {
   "cell_type": "code",
   "execution_count": 54,
   "id": "b86dbd04",
   "metadata": {},
   "outputs": [
    {
     "name": "stdout",
     "output_type": "stream",
     "text": [
      "9\n"
     ]
    }
   ],
   "source": [
    "list2 = [i for i in range(10)]    \n",
    "list2.sort()\n",
    "print(list2[-1])"
   ]
  },
  {
   "cell_type": "markdown",
   "id": "4447cc83",
   "metadata": {},
   "source": [
    "# Smallest"
   ]
  },
  {
   "cell_type": "code",
   "execution_count": 55,
   "id": "a535750b",
   "metadata": {},
   "outputs": [
    {
     "name": "stdout",
     "output_type": "stream",
     "text": [
      "Smallest element is  1\n"
     ]
    }
   ],
   "source": [
    "# Define a function to find smallest element in a list\n",
    "\n",
    "def min_element(alist):\n",
    "\n",
    "#assign min to first index of the list    \n",
    "\n",
    "    min = alist[0]\n",
    "\n",
    "# Iterate element of the list using for loop\n",
    "\n",
    "    for m in alist:\n",
    "\n",
    "# If condition to compare elements with each other\n",
    "        if m < min:\n",
    "            min = m\n",
    "    return min\n",
    "\n",
    "print(\"Smallest element is \",min_element(alist))"
   ]
  },
  {
   "cell_type": "code",
   "execution_count": null,
   "id": "c442b0fb",
   "metadata": {},
   "outputs": [],
   "source": []
  }
 ],
 "metadata": {
  "kernelspec": {
   "display_name": "Python 3",
   "language": "python",
   "name": "python3"
  },
  "language_info": {
   "codemirror_mode": {
    "name": "ipython",
    "version": 3
   },
   "file_extension": ".py",
   "mimetype": "text/x-python",
   "name": "python",
   "nbconvert_exporter": "python",
   "pygments_lexer": "ipython3",
   "version": "3.8.8"
  }
 },
 "nbformat": 4,
 "nbformat_minor": 5
}
