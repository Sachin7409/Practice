{
 "cells": [
  {
   "cell_type": "markdown",
   "id": "3ab68013",
   "metadata": {},
   "source": [
    "Write a program to reverse a number."
   ]
  },
  {
   "cell_type": "markdown",
   "id": "22791261",
   "metadata": {},
   "source": [
    "## for loop"
   ]
  },
  {
   "cell_type": "code",
   "execution_count": 6,
   "id": "f2b78508",
   "metadata": {
    "scrolled": true
   },
   "outputs": [
    {
     "name": "stdout",
     "output_type": "stream",
     "text": [
      "Enter a number to reverse :987654\n",
      "4\n",
      "5\n",
      "6\n",
      "7\n",
      "8\n",
      "9\n"
     ]
    }
   ],
   "source": [
    "number = input('Enter a number to reverse :')\n",
    "for i in number[  : :-1]:\n",
    "    print(i)"
   ]
  },
  {
   "cell_type": "markdown",
   "id": "a768c93c",
   "metadata": {},
   "source": [
    "## while loop"
   ]
  },
  {
   "cell_type": "code",
   "execution_count": 13,
   "id": "3ff1fde2",
   "metadata": {},
   "outputs": [
    {
     "name": "stdout",
     "output_type": "stream",
     "text": [
      "Enter a number to reverse :984934\n",
      "439489\n"
     ]
    }
   ],
   "source": [
    "number = int(input('Enter a number to reverse :'))\n",
    "rev = 0\n",
    "while number!=0:\n",
    "    rev = rev*10 + number%10\n",
    "    number = number//10\n",
    "print(rev)"
   ]
  },
  {
   "cell_type": "markdown",
   "id": "fc421e46",
   "metadata": {},
   "source": [
    "## write a program to check whether a given number is prime or not."
   ]
  },
  {
   "cell_type": "code",
   "execution_count": 120,
   "id": "0d057a85",
   "metadata": {},
   "outputs": [
    {
     "name": "stdout",
     "output_type": "stream",
     "text": [
      "Enter a number : 2\n",
      "The number is prime \n"
     ]
    }
   ],
   "source": [
    "number = int(input('Enter a number : '))\n",
    "if number>1:\n",
    "    for i in range(2,int(number/2)+1):\n",
    "        if number%i==0:\n",
    "            print('The number is not prime ')\n",
    "            break\n",
    "    else:\n",
    "        print('The number is prime ')\n",
    "else:\n",
    "    print('The number is not prime ')"
   ]
  },
  {
   "cell_type": "markdown",
   "id": "aba2895b",
   "metadata": {},
   "source": [
    "## write the program to calculate sum of two numbers."
   ]
  },
  {
   "cell_type": "code",
   "execution_count": 27,
   "id": "42a472e3",
   "metadata": {},
   "outputs": [
    {
     "name": "stdout",
     "output_type": "stream",
     "text": [
      "Enter number : 11\n",
      "Enter number : -12\n",
      "-1\n"
     ]
    }
   ],
   "source": [
    "a = int(input('Enter number : ')) \n",
    "b = int(input('Enter number : ')) \n",
    "c = a+b\n",
    "print(c)"
   ]
  },
  {
   "cell_type": "code",
   "execution_count": 29,
   "id": "d53162fa",
   "metadata": {},
   "outputs": [
    {
     "name": "stdout",
     "output_type": "stream",
     "text": [
      "Enter number : 11\n",
      "Enter number : -12\n",
      "11-12\n"
     ]
    }
   ],
   "source": [
    "# Method-2\n",
    "a = input('Enter number : ')\n",
    "b = input('Enter number : ') \n",
    "c = a+b\n",
    "print(c)"
   ]
  },
  {
   "cell_type": "markdown",
   "id": "04e5e9e2",
   "metadata": {},
   "source": [
    "By using function"
   ]
  },
  {
   "cell_type": "code",
   "execution_count": 33,
   "id": "89fadd03",
   "metadata": {},
   "outputs": [
    {
     "name": "stdout",
     "output_type": "stream",
     "text": [
      "enter number :11\n",
      "Enter number :-12\n",
      "<function sum_of at 0x7fdfca442ca0>\n"
     ]
    }
   ],
   "source": [
    "# Method-3\n",
    "def sum_of(a,b):\n",
    "    c = a+b\n",
    "    return c\n",
    "sum_of(a=int(input('enter number :')),b = int(input('Enter number :')))\n",
    "print(sum_of)"
   ]
  },
  {
   "cell_type": "code",
   "execution_count": 32,
   "id": "53530617",
   "metadata": {},
   "outputs": [
    {
     "name": "stdout",
     "output_type": "stream",
     "text": [
      "enter number :11\n",
      "Enter number :-12\n",
      "-1\n"
     ]
    }
   ],
   "source": [
    "# Method-4\n",
    "def sum_of(a,b):\n",
    "    c = a+b\n",
    "    return c\n",
    "D = sum_of(a=int(input('enter number :')),b = int(input('Enter number :')))\n",
    "print(D)"
   ]
  },
  {
   "cell_type": "code",
   "execution_count": 34,
   "id": "1d8d645b",
   "metadata": {},
   "outputs": [
    {
     "name": "stdout",
     "output_type": "stream",
     "text": [
      "enter number :11\n",
      "Enter number :-12\n",
      "11-12\n"
     ]
    }
   ],
   "source": [
    "# Method-5\n",
    "def sum_of(a,b):\n",
    "    c = a+b\n",
    "    return c\n",
    "sum_of(a=int(input('enter number :')),b = int(input('Enter number :')))\n",
    "print(c)"
   ]
  },
  {
   "cell_type": "code",
   "execution_count": 35,
   "id": "6062b6af",
   "metadata": {},
   "outputs": [
    {
     "name": "stdout",
     "output_type": "stream",
     "text": [
      "enter number :11\n",
      "Enter number :-12\n",
      "-1\n"
     ]
    }
   ],
   "source": [
    "# Method-6\n",
    "def sum_of(a,b):\n",
    "    c = a+b\n",
    "    print(c)\n",
    "sum_of(a=int(input('enter number :')),b = int(input('Enter number :')))"
   ]
  },
  {
   "cell_type": "markdown",
   "id": "6bff7f3d",
   "metadata": {},
   "source": [
    "Homework\n",
    "\n",
    "1. Write a code to perform subtraction of two numbers."
   ]
  },
  {
   "cell_type": "markdown",
   "id": "548165f9",
   "metadata": {},
   "source": [
    "## Write a code to calculate simple interest.\n"
   ]
  },
  {
   "cell_type": "code",
   "execution_count": 36,
   "id": "d13e06b0",
   "metadata": {},
   "outputs": [
    {
     "name": "stdout",
     "output_type": "stream",
     "text": [
      "Enter2000\n",
      "Enter10\n",
      "Enter6\n",
      "1200.0\n"
     ]
    }
   ],
   "source": [
    "p = int(input('Enter'))\n",
    "r = int(input('Enter'))\n",
    "t = int(input('Enter'))\n",
    "si = (p*r*t)/100\n",
    "print(si)"
   ]
  },
  {
   "cell_type": "code",
   "execution_count": 37,
   "id": "94c4f36e",
   "metadata": {},
   "outputs": [
    {
     "name": "stdout",
     "output_type": "stream",
     "text": [
      "Enter2000\n",
      "Enter10\n",
      "Enter6\n",
      "1200.0\n"
     ]
    }
   ],
   "source": [
    "# by using function definition\n",
    "def simple(p,r,t):\n",
    "    si = (p*t*r)/100\n",
    "    return si\n",
    "e = simple(p = int(input('Enter')),r = int(input('Enter')),t = int(input('Enter')))\n",
    "print(e)"
   ]
  },
  {
   "cell_type": "code",
   "execution_count": 41,
   "id": "4b3aa0b1",
   "metadata": {},
   "outputs": [
    {
     "name": "stdout",
     "output_type": "stream",
     "text": [
      "Enter2000\n",
      "Enter10\n",
      "Enter6\n",
      "1200.0\n"
     ]
    }
   ],
   "source": [
    "def simple_interest(p,r,t):\n",
    "    p = int(input('Enter'))\n",
    "    r = int(input('Enter'))\n",
    "    t = int(input('Enter'))\n",
    "    si = (p*t*r)/100\n",
    "    return si\n",
    "f = simple_interest(p,r,t)  \n",
    "print(f)"
   ]
  },
  {
   "cell_type": "markdown",
   "id": "c900a777",
   "metadata": {},
   "source": [
    "## Calculate factorial of a natural number.\n"
   ]
  },
  {
   "cell_type": "code",
   "execution_count": 71,
   "id": "ad4b34fe",
   "metadata": {},
   "outputs": [
    {
     "name": "stdout",
     "output_type": "stream",
     "text": [
      "Enter a number : 5\n",
      "Factorial of 5 is 120\n"
     ]
    }
   ],
   "source": [
    "t = int (input('Enter a number : '))\n",
    "def factorial(t):\n",
    "    if t==1 or t==0:\n",
    "        return 1\n",
    "    else:\n",
    "        return t*factorial(t-1)\n",
    "q = factorial(t)\n",
    "print('Factorial of',t,'is',q)"
   ]
  },
  {
   "cell_type": "markdown",
   "id": "c2da549e",
   "metadata": {},
   "source": [
    "## Write a program to print the prime numbers from 1 to N."
   ]
  },
  {
   "cell_type": "code",
   "execution_count": null,
   "id": "84168b9f",
   "metadata": {},
   "outputs": [],
   "source": []
  },
  {
   "cell_type": "markdown",
   "id": "efc43ba0",
   "metadata": {},
   "source": [
    "## Write a program to check whether a given number is a perfect number or not."
   ]
  },
  {
   "cell_type": "code",
   "execution_count": 80,
   "id": "b0ef32fd",
   "metadata": {
    "scrolled": true
   },
   "outputs": [
    {
     "name": "stdout",
     "output_type": "stream",
     "text": [
      "Enter number : 25\n",
      "The number is not perfect. \n"
     ]
    }
   ],
   "source": [
    "# Method-1\n",
    "a = int(input('Enter number : '))\n",
    "def perfect(a):\n",
    "    summ = 0\n",
    "    for var in range(1,int(a/2)+1):\n",
    "        if a%var==0:\n",
    "            summ = summ+var\n",
    "    if summ == a:\n",
    "        print('The number is perfect. ')\n",
    "    else:\n",
    "        print('The number is not perfect. ')\n",
    "r = perfect(a)"
   ]
  },
  {
   "cell_type": "code",
   "execution_count": 83,
   "id": "ecbecfbe",
   "metadata": {
    "scrolled": true
   },
   "outputs": [
    {
     "name": "stdout",
     "output_type": "stream",
     "text": [
      "Enter number : 34\n",
      "False\n"
     ]
    }
   ],
   "source": [
    "# Method-2\n",
    "a = int(input('Enter number : '))\n",
    "def perfect(a):\n",
    "    summ=1\n",
    "    comp = 2\n",
    "    while comp<=(a/2):\n",
    "        if a%comp == 0:\n",
    "            summ = summ+comp\n",
    "        comp += 1\n",
    "    return (True if summ==a else False)\n",
    "num = perfect(a)\n",
    "print(num)"
   ]
  },
  {
   "cell_type": "markdown",
   "id": "343bdebf",
   "metadata": {},
   "source": [
    "## Write a program to print all the perfect numbers for a range."
   ]
  },
  {
   "cell_type": "code",
   "execution_count": null,
   "id": "9b3426f9",
   "metadata": {},
   "outputs": [],
   "source": []
  },
  {
   "cell_type": "code",
   "execution_count": null,
   "id": "039271eb",
   "metadata": {},
   "outputs": [],
   "source": [
    "# Example of while loop working\n",
    "i=2 # intialise i as 2\n",
    "while i<=5:  # In first iteration while loop will check whether i is equal to or less than 5 or not.\n",
    "    i+=1     # After checking it will increment i by 1. then my i variable become 3 now.\n",
    "            # "
   ]
  },
  {
   "cell_type": "code",
   "execution_count": null,
   "id": "2cdcca24",
   "metadata": {},
   "outputs": [],
   "source": [
    "*\n",
    "**\n",
    "***\n",
    "****\n",
    "*****\n",
    "******"
   ]
  },
  {
   "cell_type": "code",
   "execution_count": 85,
   "id": "c0fe9b7f",
   "metadata": {},
   "outputs": [
    {
     "name": "stdout",
     "output_type": "stream",
     "text": [
      "*\n",
      "**\n",
      "***\n",
      "****\n",
      "*****\n"
     ]
    }
   ],
   "source": [
    "print('*')\n",
    "print('**')\n",
    "print('***')\n",
    "print('****')\n",
    "print('*****')"
   ]
  },
  {
   "cell_type": "markdown",
   "id": "2b0f4fb1",
   "metadata": {},
   "source": [
    "## Write a program to print all the natural numbers in a given range.\n"
   ]
  },
  {
   "cell_type": "code",
   "execution_count": 93,
   "id": "7fcf611d",
   "metadata": {},
   "outputs": [
    {
     "name": "stdout",
     "output_type": "stream",
     "text": [
      "Enterr a number : 10\n",
      "1\n",
      "2\n",
      "3\n",
      "4\n",
      "5\n",
      "6\n",
      "7\n",
      "8\n",
      "9\n"
     ]
    }
   ],
   "source": [
    "a = int (input('Enterr a number : '))\n",
    "for i in range(1,a):\n",
    "        print(i)"
   ]
  },
  {
   "cell_type": "code",
   "execution_count": 94,
   "id": "25bc2fec",
   "metadata": {},
   "outputs": [
    {
     "name": "stdout",
     "output_type": "stream",
     "text": [
      "Enter a number : 10\n",
      "1\n",
      "2\n",
      "3\n",
      "4\n",
      "5\n",
      "6\n",
      "7\n",
      "8\n",
      "9\n"
     ]
    }
   ],
   "source": [
    "def natural(a):\n",
    "    for i in range(1,a):\n",
    "        print(i)\n",
    "natural(a=int(input('Enter a number : ')))"
   ]
  },
  {
   "cell_type": "markdown",
   "id": "5c66f1d4",
   "metadata": {},
   "source": [
    "## Write a program to print all the even numbers in a given range."
   ]
  },
  {
   "cell_type": "code",
   "execution_count": 97,
   "id": "7f51187e",
   "metadata": {},
   "outputs": [
    {
     "name": "stdout",
     "output_type": "stream",
     "text": [
      "2\n",
      "4\n",
      "6\n",
      "8\n"
     ]
    }
   ],
   "source": [
    "for i in range(1,10):\n",
    "    if i%2==0:\n",
    "        print(i)"
   ]
  },
  {
   "cell_type": "code",
   "execution_count": 106,
   "id": "60cbcc99",
   "metadata": {},
   "outputs": [
    {
     "name": "stdout",
     "output_type": "stream",
     "text": [
      "Enter a number : 20\n",
      "2\n",
      "4\n",
      "6\n",
      "8\n",
      "10\n",
      "12\n",
      "14\n",
      "16\n",
      "18\n"
     ]
    }
   ],
   "source": [
    "def even(a):\n",
    "    for i in range(1,a):\n",
    "        if i%2==0:\n",
    "            print(i)\n",
    "s = even(a=int(input('Enter a number : ')))"
   ]
  },
  {
   "cell_type": "code",
   "execution_count": 115,
   "id": "aa97693f",
   "metadata": {},
   "outputs": [
    {
     "name": "stdout",
     "output_type": "stream",
     "text": [
      "Enter a number : 20\n",
      "[2, 4, 6, 8, 10, 12, 14, 16, 18]\n"
     ]
    }
   ],
   "source": [
    "list1 = []\n",
    "def even(a):\n",
    "    for i in range(1,a):\n",
    "        if i%2==0:\n",
    "            list1.append(i)\n",
    "    return list1\n",
    "s = even(a=int(input('Enter a number : ')))\n",
    "print(s)"
   ]
  },
  {
   "cell_type": "markdown",
   "id": "02a09621",
   "metadata": {},
   "source": [
    "## Write a program to print all the odd numbers in a given range."
   ]
  },
  {
   "cell_type": "markdown",
   "id": "71f741dc",
   "metadata": {},
   "source": [
    "## Write a program to print n-3 term from a range."
   ]
  },
  {
   "cell_type": "code",
   "execution_count": 146,
   "id": "878c45d3",
   "metadata": {},
   "outputs": [
    {
     "name": "stdout",
     "output_type": "stream",
     "text": [
      "Enter input : 100\n",
      "-3,-2,-1,0,1,2,3,4,5,6,7,8,9,10,11,12,13,14,15,16,17,18,19,20,21,22,23,24,25,26,27,28,29,30,31,32,33,34,35,36,37,38,39,40,41,42,43,44,45,46,47,48,49,50,51,52,53,54,55,56,57,58,59,60,61,62,63,64,65,66,67,68,69,70,71,72,73,74,75,76,77,78,79,80,81,82,83,84,85,86,87,88,89,90,91,92,93,94,95,96,"
     ]
    }
   ],
   "source": [
    "inpt = int(input('Enter input : '))\n",
    "for i in range(inpt):\n",
    "    v = i-3\n",
    "    print(v,end=',')"
   ]
  },
  {
   "cell_type": "code",
   "execution_count": 143,
   "id": "04f0500b",
   "metadata": {},
   "outputs": [
    {
     "name": "stdout",
     "output_type": "stream",
     "text": [
      "[-3, -2, -1, 0, 1, 2, 3, 4, 5, 6, 7, 8, 9, 10, 11, 12, 13, 14, 15, 16, 17, 18, 19, 20, 21, 22, 23, 24, 25, 26, 27, 28, 29, 30, 31, 32, 33, 34, 35, 36, 37, 38, 39, 40, 41, 42, 43, 44, 45, 46, 47, 48, 49, 50, 51, 52, 53, 54, 55, 56, 57, 58, 59, 60, 61, 62, 63, 64, 65, 66, 67, 68, 69, 70, 71, 72, 73, 74, 75, 76, 77, 78, 79, 80, 81, 82, 83, 84, 85, 86, 87, 88, 89, 90, 91, 92, 93, 94, 95, 96]\n"
     ]
    }
   ],
   "source": [
    "# we can put the output in a list as well.\n",
    "listn = []\n",
    "for i in range(inpt):\n",
    "    v = i-3\n",
    "    listn.append(v)\n",
    "print(listn)"
   ]
  },
  {
   "cell_type": "markdown",
   "id": "1b33cba0",
   "metadata": {},
   "source": [
    "## Print the square of n natural numbers."
   ]
  },
  {
   "cell_type": "code",
   "execution_count": 131,
   "id": "b73b1272",
   "metadata": {},
   "outputs": [
    {
     "name": "stdout",
     "output_type": "stream",
     "text": [
      "The square of  1  is  1\n",
      "The square of  2  is  4\n",
      "The square of  3  is  9\n",
      "The square of  4  is  16\n",
      "The square of  5  is  25\n",
      "The square of  6  is  36\n",
      "The square of  7  is  49\n",
      "The square of  8  is  64\n",
      "The square of  9  is  81\n",
      "The square of  10  is  100\n",
      "The square of  11  is  121\n",
      "The square of  12  is  144\n",
      "The square of  13  is  169\n",
      "The square of  14  is  196\n",
      "The square of  15  is  225\n",
      "The square of  16  is  256\n",
      "The square of  17  is  289\n",
      "The square of  18  is  324\n",
      "The square of  19  is  361\n",
      "The square of  20  is  400\n"
     ]
    }
   ],
   "source": [
    "for i in range(1,21):\n",
    "    a = i*i\n",
    "    print('The square of ' ,i, ' is ' ,a)"
   ]
  },
  {
   "cell_type": "markdown",
   "id": "40ce9f3f",
   "metadata": {},
   "source": [
    "## Print the cube of n natural numbers."
   ]
  },
  {
   "cell_type": "code",
   "execution_count": 132,
   "id": "e43b86d2",
   "metadata": {},
   "outputs": [
    {
     "name": "stdout",
     "output_type": "stream",
     "text": [
      "The square of  1  is  1\n",
      "The square of  2  is  8\n",
      "The square of  3  is  27\n",
      "The square of  4  is  64\n",
      "The square of  5  is  125\n",
      "The square of  6  is  216\n",
      "The square of  7  is  343\n",
      "The square of  8  is  512\n",
      "The square of  9  is  729\n",
      "The square of  10  is  1000\n",
      "The square of  11  is  1331\n",
      "The square of  12  is  1728\n",
      "The square of  13  is  2197\n",
      "The square of  14  is  2744\n",
      "The square of  15  is  3375\n",
      "The square of  16  is  4096\n",
      "The square of  17  is  4913\n",
      "The square of  18  is  5832\n",
      "The square of  19  is  6859\n",
      "The square of  20  is  8000\n"
     ]
    }
   ],
   "source": [
    "for i in range(1,21):\n",
    "    a = i*i*i\n",
    "    print('The square of ' ,i, ' is ' ,a)"
   ]
  },
  {
   "cell_type": "code",
   "execution_count": null,
   "id": "a5220dd6",
   "metadata": {},
   "outputs": [],
   "source": []
  }
 ],
 "metadata": {
  "kernelspec": {
   "display_name": "Python 3",
   "language": "python",
   "name": "python3"
  },
  "language_info": {
   "codemirror_mode": {
    "name": "ipython",
    "version": 3
   },
   "file_extension": ".py",
   "mimetype": "text/x-python",
   "name": "python",
   "nbconvert_exporter": "python",
   "pygments_lexer": "ipython3",
   "version": "3.8.8"
  }
 },
 "nbformat": 4,
 "nbformat_minor": 5
}
