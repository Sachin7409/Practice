{
 "cells": [
  {
   "cell_type": "markdown",
   "id": "de580a06",
   "metadata": {},
   "source": [
    "#### Take a integer and print one value in one line such as \n",
    "* if it is divisible by 3, print Scooby.\n",
    "* if it is divisible by 5, print Dooby Do.\n",
    "* if it is divisible by 3 and 5 both, print Scooby Dooby Do.\n",
    "* if it is not divisible by 3 and 5 both , print number as it is.\n"
   ]
  },
  {
   "cell_type": "code",
   "execution_count": null,
   "id": "b1fef9c4",
   "metadata": {},
   "outputs": [],
   "source": []
  }
 ],
 "metadata": {
  "kernelspec": {
   "display_name": "Python 3",
   "language": "python",
   "name": "python3"
  },
  "language_info": {
   "codemirror_mode": {
    "name": "ipython",
    "version": 3
   },
   "file_extension": ".py",
   "mimetype": "text/x-python",
   "name": "python",
   "nbconvert_exporter": "python",
   "pygments_lexer": "ipython3",
   "version": "3.8.8"
  }
 },
 "nbformat": 4,
 "nbformat_minor": 5
}
