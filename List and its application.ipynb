{
 "cells": [
  {
   "cell_type": "code",
   "execution_count": 1,
   "id": "f36050b4",
   "metadata": {},
   "outputs": [
    {
     "name": "stdout",
     "output_type": "stream",
     "text": [
      "[] --->  This is an empty list\n"
     ]
    }
   ],
   "source": [
    "# create a list \n",
    "list1 = []\n",
    "print(list1,'--->  This is an empty list')"
   ]
  },
  {
   "cell_type": "code",
   "execution_count": 2,
   "id": "3ee11b46",
   "metadata": {},
   "outputs": [],
   "source": [
    "# Create a list with items\n",
    "list2 = ['Sachin','Suresh','Jyoti','Avalika','Nikita','Sudha','Sanjay','Arun','Babarahul','Sreenu','Ramatulsi']"
   ]
  },
  {
   "cell_type": "code",
   "execution_count": 3,
   "id": "7a2f353b",
   "metadata": {
    "scrolled": true
   },
   "outputs": [
    {
     "data": {
      "text/plain": [
       "'Jyoti'"
      ]
     },
     "execution_count": 3,
     "metadata": {},
     "output_type": "execute_result"
    }
   ],
   "source": [
    "# accessing list items\n",
    "list2[2]        # single item\n"
   ]
  },
  {
   "cell_type": "code",
   "execution_count": 4,
   "id": "722ca1ca",
   "metadata": {},
   "outputs": [
    {
     "data": {
      "text/plain": [
       "['Suresh', 'Jyoti', 'Avalika', 'Nikita', 'Sudha', 'Sanjay', 'Arun']"
      ]
     },
     "execution_count": 4,
     "metadata": {},
     "output_type": "execute_result"
    }
   ],
   "source": [
    "list2[1:8]      # slicing\n"
   ]
  },
  {
   "cell_type": "code",
   "execution_count": 5,
   "id": "fdb55d06",
   "metadata": {},
   "outputs": [
    {
     "data": {
      "text/plain": [
       "['Avalika',\n",
       " 'Nikita',\n",
       " 'Sudha',\n",
       " 'Sanjay',\n",
       " 'Arun',\n",
       " 'Babarahul',\n",
       " 'Sreenu',\n",
       " 'Ramatulsi']"
      ]
     },
     "execution_count": 5,
     "metadata": {},
     "output_type": "execute_result"
    }
   ],
   "source": [
    "list2[3:]       # slicing without end index\n"
   ]
  },
  {
   "cell_type": "code",
   "execution_count": 6,
   "id": "7193a14f",
   "metadata": {},
   "outputs": [
    {
     "data": {
      "text/plain": [
       "['Sachin',\n",
       " 'Suresh',\n",
       " 'Jyoti',\n",
       " 'Avalika',\n",
       " 'Nikita',\n",
       " 'Sudha',\n",
       " 'Sanjay',\n",
       " 'Arun',\n",
       " 'Babarahul']"
      ]
     },
     "execution_count": 6,
     "metadata": {},
     "output_type": "execute_result"
    }
   ],
   "source": [
    "list2[:9]       # slicing without start index\n"
   ]
  },
  {
   "cell_type": "code",
   "execution_count": 7,
   "id": "9ad7f4ff",
   "metadata": {},
   "outputs": [
    {
     "data": {
      "text/plain": [
       "'Nikita'"
      ]
     },
     "execution_count": 7,
     "metadata": {},
     "output_type": "execute_result"
    }
   ],
   "source": [
    "list2[-7]       # negative index\n"
   ]
  },
  {
   "cell_type": "code",
   "execution_count": 8,
   "id": "8b85d0f4",
   "metadata": {},
   "outputs": [
    {
     "data": {
      "text/plain": [
       "['Jyoti', 'Avalika', 'Nikita', 'Sudha', 'Sanjay', 'Arun', 'Babarahul']"
      ]
     },
     "execution_count": 8,
     "metadata": {},
     "output_type": "execute_result"
    }
   ],
   "source": [
    "list2[-9:-2]    # negative slicing"
   ]
  },
  {
   "cell_type": "code",
   "execution_count": 9,
   "id": "e144ee1a",
   "metadata": {},
   "outputs": [
    {
     "data": {
      "text/plain": [
       "['Sachin', 'Jyoti', 'Nikita', 'Sanjay', 'Babarahul', 'Ramatulsi']"
      ]
     },
     "execution_count": 9,
     "metadata": {},
     "output_type": "execute_result"
    }
   ],
   "source": [
    "list2[0:12:2]   # slicing with steps"
   ]
  },
  {
   "cell_type": "code",
   "execution_count": 10,
   "id": "83ea07e8",
   "metadata": {},
   "outputs": [
    {
     "data": {
      "text/plain": [
       "['Sachin', 'Avalika', 'Sanjay', 'Sreenu']"
      ]
     },
     "execution_count": 10,
     "metadata": {},
     "output_type": "execute_result"
    }
   ],
   "source": [
    "list2[::3]      # slicing with steps but not providing start and end index"
   ]
  },
  {
   "cell_type": "markdown",
   "id": "daacb1fa",
   "metadata": {},
   "source": [
    "## Nested list\n",
    "nested list means list inside a list"
   ]
  },
  {
   "cell_type": "code",
   "execution_count": 11,
   "id": "a9a25657",
   "metadata": {},
   "outputs": [
    {
     "name": "stdout",
     "output_type": "stream",
     "text": [
      "[['Sachin', 'Suresh', 'Avalika', 'Nikita'], [1, 2, 3, 4, 5], ['Data Science', 'Python', 'Pandas', 'Numpy']]\n"
     ]
    }
   ],
   "source": [
    "# Nested list\n",
    "list3 = [['Sachin','Suresh','Avalika','Nikita'],[1,2,3,4,5],    # In list5 there are only 3 items which is 3 lists in itself\n",
    "         ['Data Science','Python','Pandas','Numpy']]\n",
    "print(list3)"
   ]
  },
  {
   "cell_type": "code",
   "execution_count": 12,
   "id": "3f9898b5",
   "metadata": {},
   "outputs": [
    {
     "name": "stdout",
     "output_type": "stream",
     "text": [
      "11\n",
      "3\n"
     ]
    }
   ],
   "source": [
    "# Check length of a list\n",
    "print(len(list2))\n",
    "print(len(list3))"
   ]
  },
  {
   "cell_type": "markdown",
   "id": "95637695",
   "metadata": {},
   "source": [
    "# Adding Elements to a List\n",
    "\n",
    "To do this we are having three ways\n",
    "1. append()\n",
    "2. insert()\n",
    "3. extend()"
   ]
  },
  {
   "cell_type": "code",
   "execution_count": 13,
   "id": "e011d93c",
   "metadata": {},
   "outputs": [
    {
     "name": "stdout",
     "output_type": "stream",
     "text": [
      "[['Sachin', 'Suresh', 'Avalika', 'Nikita'], [1, 2, 3, 4, 5], ['Data Science', 'Python', 'Pandas', 'Numpy'], 'Sachin Chaudhary']\n"
     ]
    }
   ],
   "source": [
    "# append method ---> It will add item at the end of list\n",
    "list3.append('Sachin Chaudhary')\n",
    "print(list3)"
   ]
  },
  {
   "cell_type": "code",
   "execution_count": 14,
   "id": "706d9e9e",
   "metadata": {},
   "outputs": [
    {
     "name": "stdout",
     "output_type": "stream",
     "text": [
      "[['Sachin', 'Suresh', 'Avalika', 'Nikita'], [1, 2, 3, 4, 5], 'Meka Avalika', ['Data Science', 'Python', 'Pandas', 'Numpy'], 'Sachin Chaudhary']\n"
     ]
    }
   ],
   "source": [
    "# insert method  ----> It will add item at the specified index\n",
    "list3.insert(2,'Meka Avalika')\n",
    "print(list3)"
   ]
  },
  {
   "cell_type": "code",
   "execution_count": 15,
   "id": "21d28625",
   "metadata": {},
   "outputs": [
    {
     "data": {
      "text/plain": [
       "'Python'"
      ]
     },
     "execution_count": 15,
     "metadata": {},
     "output_type": "execute_result"
    }
   ],
   "source": [
    "# access item from a nested list\n",
    "list3[3][1]"
   ]
  },
  {
   "cell_type": "code",
   "execution_count": 16,
   "id": "4ad40102",
   "metadata": {},
   "outputs": [],
   "source": [
    "tuple1 = (1,'Nikita',2,'Sreenu',5.5)"
   ]
  },
  {
   "cell_type": "code",
   "execution_count": 17,
   "id": "e9a338c2",
   "metadata": {},
   "outputs": [],
   "source": [
    "# extend method ----> It will add item  of an iterable (list, tuple, string etc.) to the end of the list.\n",
    "list3.extend(tuple1)\n",
    "\n",
    "# extend method will insert item from a collection and put it in list. \n",
    "# Here collection is a tuple but It can be any collection."
   ]
  },
  {
   "cell_type": "code",
   "execution_count": 18,
   "id": "993e9b9a",
   "metadata": {},
   "outputs": [
    {
     "name": "stdout",
     "output_type": "stream",
     "text": [
      "[['Sachin', 'Suresh', 'Avalika', 'Nikita'], [1, 2, 3, 4, 5], 'Meka Avalika', ['Data Science', 'Python', 'Pandas', 'Numpy'], 'Sachin Chaudhary', 1, 'Nikita', 2, 'Sreenu', 5.5]\n"
     ]
    }
   ],
   "source": [
    "print(list3)"
   ]
  },
  {
   "cell_type": "code",
   "execution_count": 19,
   "id": "19287baf",
   "metadata": {},
   "outputs": [],
   "source": [
    "# Using for loop in list and add items in empty list\n",
    "list4 = []    # declare empty \n",
    "for var in tuple1:\n",
    "    list4.append(var)  # all items in tuple collection will be added in list4 one by one in each iteration of for loop."
   ]
  },
  {
   "cell_type": "code",
   "execution_count": 20,
   "id": "034a2807",
   "metadata": {},
   "outputs": [
    {
     "data": {
      "text/plain": [
       "[1, 'Nikita', 2, 'Sreenu', 5.5]"
      ]
     },
     "execution_count": 20,
     "metadata": {},
     "output_type": "execute_result"
    }
   ],
   "source": [
    "list4"
   ]
  },
  {
   "cell_type": "markdown",
   "id": "fc19be87",
   "metadata": {},
   "source": [
    "## Removing Elements from the List\n",
    "\n",
    "To do this we are having 4 ways\n",
    "1. remove()\n",
    "2. pop()\n",
    "3. del\n",
    "4. clear()"
   ]
  },
  {
   "cell_type": "code",
   "execution_count": 21,
   "id": "fa3ff786",
   "metadata": {},
   "outputs": [
    {
     "name": "stdout",
     "output_type": "stream",
     "text": [
      "[['Sachin', 'Avalika', 'Nikita'], [1, 2, 3, 4, 5], 'Meka Avalika', ['Data Science', 'Python', 'Pandas', 'Numpy'], 'Sachin Chaudhary', 1, 'Nikita', 2, 'Sreenu', 5.5]\n"
     ]
    }
   ],
   "source": [
    "# remove method ---> It will remove specified item from the list.\n",
    "\n",
    "list3[0].remove('Suresh')   # Suresh will be removed from the nested list.\n",
    "print(list3)"
   ]
  },
  {
   "cell_type": "code",
   "execution_count": 22,
   "id": "fa5ca338",
   "metadata": {},
   "outputs": [
    {
     "name": "stdout",
     "output_type": "stream",
     "text": [
      "[['Sachin', 'Avalika', 'Nikita'], 'Meka Avalika', ['Data Science', 'Python', 'Pandas', 'Numpy'], 'Sachin Chaudhary', 1, 'Nikita', 2, 'Sreenu', 5.5]\n"
     ]
    }
   ],
   "source": [
    "# pop method ----> this will remove specified index.\n",
    "list3.pop(1)    # It will remove [1, 2, 3, 4, 5] this item from list\n",
    "print(list3)"
   ]
  },
  {
   "cell_type": "code",
   "execution_count": 23,
   "id": "00ad8071",
   "metadata": {},
   "outputs": [
    {
     "name": "stdout",
     "output_type": "stream",
     "text": [
      "['Sachin', 'Suresh', 'Jyoti', 'Avalika', 'Nikita', 'Sanjay', 'Arun', 'Babarahul', 'Sreenu', 'Ramatulsi']\n"
     ]
    }
   ],
   "source": [
    "# del keyword will delete the whole list and specified item both\n",
    "del list2[5]  # Sudha will be removed from the list\n",
    "print(list2)"
   ]
  },
  {
   "cell_type": "code",
   "execution_count": 24,
   "id": "ce71f67a",
   "metadata": {},
   "outputs": [],
   "source": [
    "# clear method will delete all the elements of list and leaves empty list\n",
    "list5 = ['Sudha','Sanjay','Arun','Babarahul','Sreenu','Ramatulsi']"
   ]
  },
  {
   "cell_type": "code",
   "execution_count": 25,
   "id": "34553486",
   "metadata": {},
   "outputs": [
    {
     "name": "stdout",
     "output_type": "stream",
     "text": [
      "[]\n"
     ]
    }
   ],
   "source": [
    "list5.clear()\n",
    "print(list5)  # give you empty list."
   ]
  },
  {
   "cell_type": "markdown",
   "id": "552d67ce",
   "metadata": {},
   "source": [
    "## Loop Through the Index Numbers"
   ]
  },
  {
   "cell_type": "code",
   "execution_count": 26,
   "id": "b9701db0",
   "metadata": {},
   "outputs": [
    {
     "name": "stdout",
     "output_type": "stream",
     "text": [
      "Sachin\n",
      "Suresh\n",
      "Jyoti\n",
      "Avalika\n",
      "Nikita\n",
      "Sanjay\n",
      "Arun\n",
      "Babarahul\n",
      "Sreenu\n",
      "Ramatulsi\n"
     ]
    }
   ],
   "source": [
    "# normal looping over a list.\n",
    "for sac in list2:\n",
    "    print(sac)"
   ]
  },
  {
   "cell_type": "code",
   "execution_count": 27,
   "id": "389be3f2",
   "metadata": {},
   "outputs": [
    {
     "name": "stdout",
     "output_type": "stream",
     "text": [
      "Sachin\n",
      "Suresh\n",
      "Jyoti\n",
      "Avalika\n",
      "Nikita\n",
      "Sanjay\n",
      "Arun\n",
      "Babarahul\n",
      "Sreenu\n",
      "Ramatulsi\n"
     ]
    }
   ],
   "source": [
    "# loop through index. \n",
    "# First we will create index nuber using range and len fucntion\n",
    "for sac in range(len(list2)):    # range(len(list2)) this will convert to index numbers because range starts from 0 as well.\n",
    "    print(list2[sac])"
   ]
  },
  {
   "cell_type": "code",
   "execution_count": 28,
   "id": "5bd21c55",
   "metadata": {},
   "outputs": [
    {
     "name": "stdout",
     "output_type": "stream",
     "text": [
      "['Arun', 'Avalika', 'Babarahul', 'Jyoti', 'Nikita', 'Ramatulsi', 'Sachin', 'Sanjay', 'Sreenu', 'Suresh']\n"
     ]
    }
   ],
   "source": [
    "# Sort method---> to sort the list items\n",
    "list2.sort()\n",
    "print(list2) # list will be sorted."
   ]
  },
  {
   "cell_type": "markdown",
   "id": "b6a27e94",
   "metadata": {},
   "source": [
    "### You cannot copy a list simply by typing list2 = list1,\n",
    "\n",
    "### because: list2 will only be a reference to list1, and changes made in list1 will automatically also be made in list2.\n",
    "\n",
    "1. copy() method\n",
    "2. list() constructor"
   ]
  },
  {
   "cell_type": "code",
   "execution_count": 29,
   "id": "ce5547cb",
   "metadata": {},
   "outputs": [
    {
     "name": "stdout",
     "output_type": "stream",
     "text": [
      "['Arun', 'Avalika', 'Babarahul', 'Jyoti', 'Nikita', 'Ramatulsi', 'Sachin', 'Sanjay', 'Sreenu', 'Suresh']\n",
      "['Arun', 'Avalika', 'Babarahul', 'Jyoti', 'Nikita', 'Ramatulsi', 'Sachin', 'Sanjay', 'Sreenu', 'Suresh']\n"
     ]
    }
   ],
   "source": [
    "list_c = list2\n",
    "print(list2)\n",
    "print(list_c)\n",
    "# here it looks like list has been copied but in real it is not. We just assign the lsit. If we made any changes to old list\n",
    "# it will reflect in copied one as well."
   ]
  },
  {
   "cell_type": "code",
   "execution_count": 30,
   "id": "3824db0d",
   "metadata": {},
   "outputs": [
    {
     "name": "stdout",
     "output_type": "stream",
     "text": [
      "['Arun', 'Avalika', 'Babarahul', 'Jyoti', 'Nikita', 'Ramatulsi', 'Sachin', 'Sanjay', 'Sreenu', 'Suresh', 'Milan']\n"
     ]
    }
   ],
   "source": [
    "list2.append('Milan')\n",
    "print(list_c)  # you can see in output. your copied list will be affected but you have made changein old one."
   ]
  },
  {
   "cell_type": "code",
   "execution_count": 31,
   "id": "2b9e2d11",
   "metadata": {},
   "outputs": [
    {
     "name": "stdout",
     "output_type": "stream",
     "text": [
      "Old list --> ['Arun', 'Avalika', 'Babarahul', 'Jyoti', 'Nikita', 'Ramatulsi', 'Sachin', 'Sanjay', 'Sreenu', 'Suresh', 'Milan']\n",
      "Copied list --> ['Arun', 'Avalika', 'Babarahul', 'Jyoti', 'Nikita', 'Ramatulsi', 'Sachin', 'Sanjay', 'Sreenu', 'Suresh', 'Milan']\n"
     ]
    }
   ],
   "source": [
    "# copy method\n",
    "list_copy = list2.copy()\n",
    "print('Old list -->',list2)\n",
    "print('Copied list -->',list_copy)"
   ]
  },
  {
   "cell_type": "code",
   "execution_count": 32,
   "id": "94b79ef7",
   "metadata": {},
   "outputs": [
    {
     "name": "stdout",
     "output_type": "stream",
     "text": [
      "Old list ---> [['Sachin', 'Avalika', 'Nikita'], 'Meka Avalika', ['Data Science', 'Python', 'Pandas', 'Numpy'], 'Sachin Chaudhary', 1, 'Nikita', 2, 'Sreenu', 5.5]\n",
      "Copylist ---> [['Sachin', 'Avalika', 'Nikita'], 'Meka Avalika', ['Data Science', 'Python', 'Pandas', 'Numpy'], 'Sachin Chaudhary', 1, 'Nikita', 2, 'Sreenu', 5.5]\n"
     ]
    }
   ],
   "source": [
    "# using list constructor\n",
    "list_copy_1 = list(list3)\n",
    "print('Old list --->',list3)\n",
    "print('Copylist --->',list_copy_1)"
   ]
  },
  {
   "cell_type": "code",
   "execution_count": 33,
   "id": "e4cdc6cd",
   "metadata": {},
   "outputs": [
    {
     "name": "stdout",
     "output_type": "stream",
     "text": [
      "['Arun', 'Avalika', 'Babarahul', 'Jyoti', 'Nikita', 'Ramatulsi', 'Sachin', 'Sanjay', 'Sreenu', 'Suresh', 'Milan', 'Arun', 'Avalika', 'Babarahul', 'Jyoti', 'Nikita', 'Ramatulsi', 'Sachin', 'Sanjay', 'Sreenu', 'Suresh', 'Milan']\n"
     ]
    }
   ],
   "source": [
    "# Join two tables using + operator\n",
    "list_join = list2+list_c\n",
    "print(list_join)"
   ]
  },
  {
   "cell_type": "markdown",
   "id": "3fbb0705",
   "metadata": {},
   "source": [
    "## Question on list"
   ]
  },
  {
   "cell_type": "markdown",
   "id": "1d9e0a59",
   "metadata": {},
   "source": [
    "##### Q-1. Sort a list numbers without built-in function"
   ]
  },
  {
   "cell_type": "code",
   "execution_count": 34,
   "id": "02b0a142",
   "metadata": {},
   "outputs": [],
   "source": [
    "list7 = [-11,12,-20,3,-1,15,-25,9,-99]\n",
    "list_sort = []          # declare an empty list to store sorted items one by one.\n",
    "minimum = list7[0]      # assume  first element as smallest and assign it to minimum\n",
    "for abc in list7:       # will use for loop to iterate each element and compare with smallest.\n",
    "    if abc < minimum:   # putting a condition to check with minimum number.\n",
    "        minimum = abc   # if it is greater then smallest item then append it to empty list.\n",
    "        list_sort.append(abc)              "
   ]
  },
  {
   "cell_type": "code",
   "execution_count": 35,
   "id": "7d16aace",
   "metadata": {},
   "outputs": [
    {
     "name": "stdout",
     "output_type": "stream",
     "text": [
      "[-20, -25, -99]\n"
     ]
    }
   ],
   "source": [
    "print(list_sort)    # I am not getting all the items. It gives those items which are greater than first index item.\n",
    "\n",
    "\n",
    "## Solve this with another method."
   ]
  },
  {
   "cell_type": "code",
   "execution_count": 36,
   "id": "1a10c6bb",
   "metadata": {},
   "outputs": [
    {
     "name": "stdout",
     "output_type": "stream",
     "text": [
      "[-99, -25, -20, -11, -1, 3, 9, 12, 15]\n"
     ]
    }
   ],
   "source": [
    "my_list = [-11,12,-20,3,-1,15,-25,9,-99]\n",
    "\n",
    "for i in range(len(my_list)):                   # range(len(my_list)) --> This will give index from 0 to last item\n",
    "    for j in range(i + 1, len(my_list)):        #comparing i with j.\n",
    "\n",
    "        if my_list[i] > my_list[j]:             # i from first for loop and j from 2nd for loop and then compare\n",
    "            my_list[i], my_list[j] = my_list[j], my_list[i]    # assigning or swapping\n",
    "\n",
    "print(my_list)"
   ]
  },
  {
   "cell_type": "markdown",
   "id": "87f62cef",
   "metadata": {},
   "source": [
    "#### Q-2. Check if a list contains an element"
   ]
  },
  {
   "cell_type": "code",
   "execution_count": 37,
   "id": "c4637935",
   "metadata": {},
   "outputs": [
    {
     "name": "stdout",
     "output_type": "stream",
     "text": [
      "Item is present\n"
     ]
    }
   ],
   "source": [
    "list5 = ['Sudha','Sanjay','Arun','Babarahul','Sreenu','Ramatulsi']\n",
    "if 'Sudha' in list5:    #  in operator will be used to check membership\n",
    "    print('Item is present')"
   ]
  },
  {
   "cell_type": "markdown",
   "id": "873a049b",
   "metadata": {},
   "source": [
    "And many more questions needs to be practice"
   ]
  }
 ],
 "metadata": {
  "kernelspec": {
   "display_name": "Python 3 (ipykernel)",
   "language": "python",
   "name": "python3"
  },
  "language_info": {
   "codemirror_mode": {
    "name": "ipython",
    "version": 3
   },
   "file_extension": ".py",
   "mimetype": "text/x-python",
   "name": "python",
   "nbconvert_exporter": "python",
   "pygments_lexer": "ipython3",
   "version": "3.9.7"
  }
 },
 "nbformat": 4,
 "nbformat_minor": 5
}
