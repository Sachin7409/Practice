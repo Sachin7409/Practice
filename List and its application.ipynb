{
 "cells": [
  {
   "cell_type": "code",
   "execution_count": 1,
   "id": "f36050b4",
   "metadata": {},
   "outputs": [
    {
     "name": "stdout",
     "output_type": "stream",
     "text": [
      "[] --->  This is an empty list\n"
     ]
    }
   ],
   "source": [
    "# create a list \n",
    "list1 = []\n",
    "print(list1,'--->  This is an empty list')"
   ]
  },
  {
   "cell_type": "code",
   "execution_count": 2,
   "id": "3ee11b46",
   "metadata": {},
   "outputs": [],
   "source": [
    "# Create a list with items\n",
    "list2 = ['Sachin','Suresh','Jyoti','Avalika','Nikita','Sudha','Sanjay','Arun','Babarahul','Sreenu','Ramatulsi']"
   ]
  },
  {
   "cell_type": "code",
   "execution_count": 3,
   "id": "7a2f353b",
   "metadata": {
    "scrolled": true
   },
   "outputs": [
    {
     "data": {
      "text/plain": [
       "'Jyoti'"
      ]
     },
     "execution_count": 3,
     "metadata": {},
     "output_type": "execute_result"
    }
   ],
   "source": [
    "# accessing list items\n",
    "list2[2]        # single item\n"
   ]
  },
  {
   "cell_type": "code",
   "execution_count": 4,
   "id": "722ca1ca",
   "metadata": {},
   "outputs": [
    {
     "data": {
      "text/plain": [
       "['Suresh', 'Jyoti', 'Avalika', 'Nikita', 'Sudha', 'Sanjay', 'Arun']"
      ]
     },
     "execution_count": 4,
     "metadata": {},
     "output_type": "execute_result"
    }
   ],
   "source": [
    "list2[1:8]      # slicing\n"
   ]
  },
  {
   "cell_type": "code",
   "execution_count": 5,
   "id": "fdb55d06",
   "metadata": {},
   "outputs": [
    {
     "data": {
      "text/plain": [
       "['Avalika',\n",
       " 'Nikita',\n",
       " 'Sudha',\n",
       " 'Sanjay',\n",
       " 'Arun',\n",
       " 'Babarahul',\n",
       " 'Sreenu',\n",
       " 'Ramatulsi']"
      ]
     },
     "execution_count": 5,
     "metadata": {},
     "output_type": "execute_result"
    }
   ],
   "source": [
    "list2[3:]       # slicing without end index\n"
   ]
  },
  {
   "cell_type": "code",
   "execution_count": 6,
   "id": "7193a14f",
   "metadata": {},
   "outputs": [
    {
     "data": {
      "text/plain": [
       "['Sachin',\n",
       " 'Suresh',\n",
       " 'Jyoti',\n",
       " 'Avalika',\n",
       " 'Nikita',\n",
       " 'Sudha',\n",
       " 'Sanjay',\n",
       " 'Arun',\n",
       " 'Babarahul']"
      ]
     },
     "execution_count": 6,
     "metadata": {},
     "output_type": "execute_result"
    }
   ],
   "source": [
    "list2[:9]       # slicing without start index\n"
   ]
  },
  {
   "cell_type": "code",
   "execution_count": 7,
   "id": "9ad7f4ff",
   "metadata": {},
   "outputs": [
    {
     "data": {
      "text/plain": [
       "'Nikita'"
      ]
     },
     "execution_count": 7,
     "metadata": {},
     "output_type": "execute_result"
    }
   ],
   "source": [
    "list2[-7]       # negative index\n"
   ]
  },
  {
   "cell_type": "code",
   "execution_count": 8,
   "id": "8b85d0f4",
   "metadata": {},
   "outputs": [
    {
     "data": {
      "text/plain": [
       "['Jyoti', 'Avalika', 'Nikita', 'Sudha', 'Sanjay', 'Arun', 'Babarahul']"
      ]
     },
     "execution_count": 8,
     "metadata": {},
     "output_type": "execute_result"
    }
   ],
   "source": [
    "list2[-9:-2]    # negative slicing"
   ]
  },
  {
   "cell_type": "code",
   "execution_count": 9,
   "id": "e144ee1a",
   "metadata": {},
   "outputs": [
    {
     "data": {
      "text/plain": [
       "['Sachin', 'Jyoti', 'Nikita', 'Sanjay', 'Babarahul', 'Ramatulsi']"
      ]
     },
     "execution_count": 9,
     "metadata": {},
     "output_type": "execute_result"
    }
   ],
   "source": [
    "list2[0:12:2]   # slicing with steps"
   ]
  },
  {
   "cell_type": "code",
   "execution_count": 10,
   "id": "83ea07e8",
   "metadata": {},
   "outputs": [
    {
     "data": {
      "text/plain": [
       "['Sachin', 'Avalika', 'Sanjay', 'Sreenu']"
      ]
     },
     "execution_count": 10,
     "metadata": {},
     "output_type": "execute_result"
    }
   ],
   "source": [
    "list2[::3]      # slicing with steps but not providing start and end index"
   ]
  },
  {
   "cell_type": "markdown",
   "id": "daacb1fa",
   "metadata": {},
   "source": [
    "## Nested list\n",
    "nested list means list inside a list"
   ]
  },
  {
   "cell_type": "code",
   "execution_count": 11,
   "id": "a9a25657",
   "metadata": {},
   "outputs": [
    {
     "name": "stdout",
     "output_type": "stream",
     "text": [
      "[['Sachin', 'Suresh', 'Avalika', 'Nikita'], [1, 2, 3, 4, 5], ['Data Science', 'Python', 'Pandas', 'Numpy']]\n"
     ]
    }
   ],
   "source": [
    "# Nested list\n",
    "list3 = [['Sachin','Suresh','Avalika','Nikita'],[1,2,3,4,5],    # In list5 there are only 3 items which is 3 lists in itself\n",
    "         ['Data Science','Python','Pandas','Numpy']]\n",
    "print(list3)"
   ]
  },
  {
   "cell_type": "code",
   "execution_count": 12,
   "id": "3f9898b5",
   "metadata": {},
   "outputs": [
    {
     "name": "stdout",
     "output_type": "stream",
     "text": [
      "11\n",
      "3\n"
     ]
    }
   ],
   "source": [
    "# Check length of a list\n",
    "print(len(list2))\n",
    "print(len(list3))"
   ]
  },
  {
   "cell_type": "markdown",
   "id": "95637695",
   "metadata": {},
   "source": [
    "# Adding Elements to a List\n",
    "\n",
    "To do this we are having three ways\n",
    "1. append()\n",
    "2. insert()\n",
    "3. extend()"
   ]
  },
  {
   "cell_type": "code",
   "execution_count": 13,
   "id": "e011d93c",
   "metadata": {},
   "outputs": [
    {
     "name": "stdout",
     "output_type": "stream",
     "text": [
      "[['Sachin', 'Suresh', 'Avalika', 'Nikita'], [1, 2, 3, 4, 5], ['Data Science', 'Python', 'Pandas', 'Numpy'], 'Sachin Chaudhary']\n"
     ]
    }
   ],
   "source": [
    "# append method ---> It will add item at the end of list\n",
    "list3.append('Sachin Chaudhary')\n",
    "print(list3)"
   ]
  },
  {
   "cell_type": "code",
   "execution_count": 14,
   "id": "706d9e9e",
   "metadata": {},
   "outputs": [
    {
     "name": "stdout",
     "output_type": "stream",
     "text": [
      "[['Sachin', 'Suresh', 'Avalika', 'Nikita'], [1, 2, 3, 4, 5], 'Meka Avalika', ['Data Science', 'Python', 'Pandas', 'Numpy'], 'Sachin Chaudhary']\n"
     ]
    }
   ],
   "source": [
    "# insert method  ----> It will add item at the specified index\n",
    "list3.insert(2,'Meka Avalika')\n",
    "print(list3)"
   ]
  },
  {
   "cell_type": "code",
   "execution_count": 15,
   "id": "21d28625",
   "metadata": {},
   "outputs": [
    {
     "data": {
      "text/plain": [
       "'Python'"
      ]
     },
     "execution_count": 15,
     "metadata": {},
     "output_type": "execute_result"
    }
   ],
   "source": [
    "# access item from a nested list\n",
    "list3[3][1]"
   ]
  },
  {
   "cell_type": "code",
   "execution_count": 16,
   "id": "4ad40102",
   "metadata": {},
   "outputs": [],
   "source": [
    "tuple1 = (1,'Nikita',2,'Sreenu',5.5)"
   ]
  },
  {
   "cell_type": "code",
   "execution_count": 17,
   "id": "e9a338c2",
   "metadata": {},
   "outputs": [],
   "source": [
    "# extend method ----> It will add item  of an iterable (list, tuple, string etc.) to the end of the list.\n",
    "list3.extend(tuple1)\n",
    "\n",
    "# extend method will insert item from a collection and put it in list. \n",
    "# Here collection is a tuple but It can be any collection."
   ]
  },
  {
   "cell_type": "code",
   "execution_count": 18,
   "id": "993e9b9a",
   "metadata": {},
   "outputs": [
    {
     "name": "stdout",
     "output_type": "stream",
     "text": [
      "[['Sachin', 'Suresh', 'Avalika', 'Nikita'], [1, 2, 3, 4, 5], 'Meka Avalika', ['Data Science', 'Python', 'Pandas', 'Numpy'], 'Sachin Chaudhary', 1, 'Nikita', 2, 'Sreenu', 5.5]\n"
     ]
    }
   ],
   "source": [
    "print(list3)"
   ]
  },
  {
   "cell_type": "code",
   "execution_count": 19,
   "id": "19287baf",
   "metadata": {},
   "outputs": [],
   "source": [
    "# Using for loop in list and add items in empty list\n",
    "list4 = []    # declare empty \n",
    "for var in tuple1:\n",
    "    list4.append(var)  # all items in tuple collection will be added in list4 one by one in each iteration of for loop."
   ]
  },
  {
   "cell_type": "code",
   "execution_count": 20,
   "id": "034a2807",
   "metadata": {},
   "outputs": [
    {
     "data": {
      "text/plain": [
       "[1, 'Nikita', 2, 'Sreenu', 5.5]"
      ]
     },
     "execution_count": 20,
     "metadata": {},
     "output_type": "execute_result"
    }
   ],
   "source": [
    "list4"
   ]
  },
  {
   "cell_type": "markdown",
   "id": "fc19be87",
   "metadata": {},
   "source": [
    "## Removing Elements from the List\n",
    "\n",
    "To do this we are having 4 ways\n",
    "1. remove()\n",
    "2. pop()\n",
    "3. del\n",
    "4. clear()"
   ]
  },
  {
   "cell_type": "code",
   "execution_count": 21,
   "id": "fa3ff786",
   "metadata": {},
   "outputs": [
    {
     "name": "stdout",
     "output_type": "stream",
     "text": [
      "[['Sachin', 'Avalika', 'Nikita'], [1, 2, 3, 4, 5], 'Meka Avalika', ['Data Science', 'Python', 'Pandas', 'Numpy'], 'Sachin Chaudhary', 1, 'Nikita', 2, 'Sreenu', 5.5]\n"
     ]
    }
   ],
   "source": [
    "# remove method ---> It will remove specified item from the list.\n",
    "\n",
    "list3[0].remove('Suresh')   # Suresh will be removed from the nested list.\n",
    "print(list3)"
   ]
  },
  {
   "cell_type": "code",
   "execution_count": 22,
   "id": "fa5ca338",
   "metadata": {},
   "outputs": [
    {
     "name": "stdout",
     "output_type": "stream",
     "text": [
      "[['Sachin', 'Avalika', 'Nikita'], 'Meka Avalika', ['Data Science', 'Python', 'Pandas', 'Numpy'], 'Sachin Chaudhary', 1, 'Nikita', 2, 'Sreenu', 5.5]\n"
     ]
    }
   ],
   "source": [
    "# pop method ----> this will remove specified index.\n",
    "list3.pop(1)    # It will remove [1, 2, 3, 4, 5] this item from list\n",
    "print(list3)"
   ]
  },
  {
   "cell_type": "code",
   "execution_count": 23,
   "id": "00ad8071",
   "metadata": {},
   "outputs": [
    {
     "name": "stdout",
     "output_type": "stream",
     "text": [
      "['Sachin', 'Suresh', 'Jyoti', 'Avalika', 'Nikita', 'Sanjay', 'Arun', 'Babarahul', 'Sreenu', 'Ramatulsi']\n"
     ]
    }
   ],
   "source": [
    "# del keyword will delete the whole list and specified item both\n",
    "del list2[5]  # Sudha will be removed from the list\n",
    "print(list2)"
   ]
  },
  {
   "cell_type": "code",
   "execution_count": 24,
   "id": "ce71f67a",
   "metadata": {},
   "outputs": [],
   "source": [
    "# clear method will delete all the elements of list and leaves empty list\n",
    "list5 = ['Sudha','Sanjay','Arun','Babarahul','Sreenu','Ramatulsi']"
   ]
  },
  {
   "cell_type": "code",
   "execution_count": 25,
   "id": "34553486",
   "metadata": {},
   "outputs": [
    {
     "name": "stdout",
     "output_type": "stream",
     "text": [
      "[]\n"
     ]
    }
   ],
   "source": [
    "list5.clear()\n",
    "print(list5)  # give you empty list."
   ]
  },
  {
   "cell_type": "markdown",
   "id": "552d67ce",
   "metadata": {},
   "source": [
    "## Loop Through the Index Numbers"
   ]
  },
  {
   "cell_type": "code",
   "execution_count": 26,
   "id": "b9701db0",
   "metadata": {},
   "outputs": [
    {
     "name": "stdout",
     "output_type": "stream",
     "text": [
      "Sachin\n",
      "Suresh\n",
      "Jyoti\n",
      "Avalika\n",
      "Nikita\n",
      "Sanjay\n",
      "Arun\n",
      "Babarahul\n",
      "Sreenu\n",
      "Ramatulsi\n"
     ]
    }
   ],
   "source": [
    "# normal looping over a list.\n",
    "for sac in list2:\n",
    "    print(sac)"
   ]
  },
  {
   "cell_type": "code",
   "execution_count": 27,
   "id": "389be3f2",
   "metadata": {},
   "outputs": [
    {
     "name": "stdout",
     "output_type": "stream",
     "text": [
      "Sachin\n",
      "Suresh\n",
      "Jyoti\n",
      "Avalika\n",
      "Nikita\n",
      "Sanjay\n",
      "Arun\n",
      "Babarahul\n",
      "Sreenu\n",
      "Ramatulsi\n"
     ]
    }
   ],
   "source": [
    "# loop through index. \n",
    "# First we will create index nuber using range and len fucntion\n",
    "for sac in range(len(list2)):    # range(len(list2)) this will convert to index numbers because range starts from 0 as well.\n",
    "    print(list2[sac])"
   ]
  },
  {
   "cell_type": "code",
   "execution_count": 28,
   "id": "5bd21c55",
   "metadata": {},
   "outputs": [
    {
     "name": "stdout",
     "output_type": "stream",
     "text": [
      "['Arun', 'Avalika', 'Babarahul', 'Jyoti', 'Nikita', 'Ramatulsi', 'Sachin', 'Sanjay', 'Sreenu', 'Suresh']\n"
     ]
    }
   ],
   "source": [
    "# Sort method---> to sort the list items\n",
    "list2.sort()\n",
    "print(list2) # list will be sorted."
   ]
  },
  {
   "cell_type": "markdown",
   "id": "b6a27e94",
   "metadata": {},
   "source": [
    "### You cannot copy a list simply by typing list2 = list1,\n",
    "\n",
    "### because: list2 will only be a reference to list1, and changes made in list1 will automatically also be made in list2.\n",
    "\n",
    "1. copy() method\n",
    "2. list() constructor"
   ]
  },
  {
   "cell_type": "code",
   "execution_count": 29,
   "id": "ce5547cb",
   "metadata": {},
   "outputs": [
    {
     "name": "stdout",
     "output_type": "stream",
     "text": [
      "['Arun', 'Avalika', 'Babarahul', 'Jyoti', 'Nikita', 'Ramatulsi', 'Sachin', 'Sanjay', 'Sreenu', 'Suresh']\n",
      "['Arun', 'Avalika', 'Babarahul', 'Jyoti', 'Nikita', 'Ramatulsi', 'Sachin', 'Sanjay', 'Sreenu', 'Suresh']\n"
     ]
    }
   ],
   "source": [
    "list_c = list2\n",
    "print(list2)\n",
    "print(list_c)\n",
    "# here it looks like list has been copied but in real it is not. We just assign the lsit. If we made any changes to old list\n",
    "# it will reflect in copied one as well."
   ]
  },
  {
   "cell_type": "code",
   "execution_count": 30,
   "id": "3824db0d",
   "metadata": {},
   "outputs": [
    {
     "name": "stdout",
     "output_type": "stream",
     "text": [
      "['Arun', 'Avalika', 'Babarahul', 'Jyoti', 'Nikita', 'Ramatulsi', 'Sachin', 'Sanjay', 'Sreenu', 'Suresh', 'Milan']\n"
     ]
    }
   ],
   "source": [
    "list2.append('Milan')\n",
    "print(list_c)  # you can see in output. your copied list will be affected but you have made changein old one."
   ]
  },
  {
   "cell_type": "code",
   "execution_count": 31,
   "id": "2b9e2d11",
   "metadata": {},
   "outputs": [
    {
     "name": "stdout",
     "output_type": "stream",
     "text": [
      "Old list --> ['Arun', 'Avalika', 'Babarahul', 'Jyoti', 'Nikita', 'Ramatulsi', 'Sachin', 'Sanjay', 'Sreenu', 'Suresh', 'Milan']\n",
      "Copied list --> ['Arun', 'Avalika', 'Babarahul', 'Jyoti', 'Nikita', 'Ramatulsi', 'Sachin', 'Sanjay', 'Sreenu', 'Suresh', 'Milan']\n"
     ]
    }
   ],
   "source": [
    "# copy method\n",
    "list_copy = list2.copy()\n",
    "print('Old list -->',list2)\n",
    "print('Copied list -->',list_copy)"
   ]
  },
  {
   "cell_type": "code",
   "execution_count": 32,
   "id": "94b79ef7",
   "metadata": {},
   "outputs": [
    {
     "name": "stdout",
     "output_type": "stream",
     "text": [
      "Old list ---> [['Sachin', 'Avalika', 'Nikita'], 'Meka Avalika', ['Data Science', 'Python', 'Pandas', 'Numpy'], 'Sachin Chaudhary', 1, 'Nikita', 2, 'Sreenu', 5.5]\n",
      "Copylist ---> [['Sachin', 'Avalika', 'Nikita'], 'Meka Avalika', ['Data Science', 'Python', 'Pandas', 'Numpy'], 'Sachin Chaudhary', 1, 'Nikita', 2, 'Sreenu', 5.5]\n"
     ]
    }
   ],
   "source": [
    "# using list constructor\n",
    "list_copy_1 = list(list3)\n",
    "print('Old list --->',list3)\n",
    "print('Copylist --->',list_copy_1)"
   ]
  },
  {
   "cell_type": "code",
   "execution_count": 33,
   "id": "e4cdc6cd",
   "metadata": {},
   "outputs": [
    {
     "name": "stdout",
     "output_type": "stream",
     "text": [
      "['Arun', 'Avalika', 'Babarahul', 'Jyoti', 'Nikita', 'Ramatulsi', 'Sachin', 'Sanjay', 'Sreenu', 'Suresh', 'Milan', 'Arun', 'Avalika', 'Babarahul', 'Jyoti', 'Nikita', 'Ramatulsi', 'Sachin', 'Sanjay', 'Sreenu', 'Suresh', 'Milan']\n"
     ]
    }
   ],
   "source": [
    "# Join two tables using + operator\n",
    "list_join = list2+list_c\n",
    "print(list_join)"
   ]
  },
  {
   "cell_type": "markdown",
   "id": "3fbb0705",
   "metadata": {},
   "source": [
    "## Question on list"
   ]
  },
  {
   "cell_type": "markdown",
   "id": "1d9e0a59",
   "metadata": {},
   "source": [
    "##### Q-1. Sort a list numbers without built-in function"
   ]
  },
  {
   "cell_type": "code",
   "execution_count": 34,
   "id": "02b0a142",
   "metadata": {},
   "outputs": [],
   "source": [
    "list7 = [-11,12,-20,3,-1,15,-25,9,-99]\n",
    "list_sort = []          # declare an empty list to store sorted items one by one.\n",
    "minimum = list7[0]      # assume  first element as smallest and assign it to minimum\n",
    "for abc in list7:       # will use for loop to iterate each element and compare with smallest.\n",
    "    if abc < minimum:   # putting a condition to check with minimum number.\n",
    "        minimum = abc   # if it is greater then smallest item then append it to empty list.\n",
    "        list_sort.append(abc)              "
   ]
  },
  {
   "cell_type": "code",
   "execution_count": 35,
   "id": "7d16aace",
   "metadata": {},
   "outputs": [
    {
     "name": "stdout",
     "output_type": "stream",
     "text": [
      "[-20, -25, -99]\n"
     ]
    }
   ],
   "source": [
    "print(list_sort)    # I am not getting all the items. It gives those items which are greater than first index item.\n",
    "\n",
    "\n",
    "## Solve this with another method."
   ]
  },
  {
   "cell_type": "code",
   "execution_count": 36,
   "id": "1a10c6bb",
   "metadata": {},
   "outputs": [
    {
     "name": "stdout",
     "output_type": "stream",
     "text": [
      "[-99, -25, -20, -11, -1, 3, 9, 12, 15]\n"
     ]
    }
   ],
   "source": [
    "my_list = [-11,12,-20,3,-1,15,-25,9,-99]\n",
    "\n",
    "for i in range(len(my_list)):                   # range(len(my_list)) --> This will give index from 0 to last item\n",
    "    for j in range(i + 1, len(my_list)):        #comparing i with j.\n",
    "\n",
    "        if my_list[i] > my_list[j]:             # i from first for loop and j from 2nd for loop and then compare\n",
    "            my_list[i], my_list[j] = my_list[j], my_list[i]    # assigning or swapping\n",
    "\n",
    "print(my_list)"
   ]
  },
  {
   "cell_type": "markdown",
   "id": "87f62cef",
   "metadata": {},
   "source": [
    "#### Q-2. Check if a list contains an element"
   ]
  },
  {
   "cell_type": "code",
   "execution_count": 37,
   "id": "c4637935",
   "metadata": {},
   "outputs": [
    {
     "name": "stdout",
     "output_type": "stream",
     "text": [
      "Item is present\n"
     ]
    }
   ],
   "source": [
    "list5 = ['Sudha','Sanjay','Arun','Babarahul','Sreenu','Ramatulsi']\n",
    "if 'Sudha' in list5:    #  in operator will be used to check membership\n",
    "    print('Item is present')"
   ]
  },
  {
   "cell_type": "markdown",
   "id": "873a049b",
   "metadata": {},
   "source": [
    "And many more questions needs to be practice"
   ]
  },
  {
   "cell_type": "markdown",
   "id": "a3214826",
   "metadata": {},
   "source": [
    "The **isinstance()** function in Python is used to check if an object is an instance (or subclass instance) of a specific class or a tuple of classes.\n",
    "\n",
    "* It's a built-in function\n",
    "* Returns **True** if the object is of the specified type, and **False** otherwise.\n",
    "\n",
    "**Syntax:**\n",
    "\n",
    "    isinstance(object, class_or_tuple)\n",
    "\n",
    "object: The object you want to check.\n",
    "\n",
    "class_or_tuple: A class, type, or a tuple of classes/types to check against."
   ]
  },
  {
   "cell_type": "markdown",
   "id": "cd9f449b",
   "metadata": {},
   "source": [
    "list_a = [1,2,36.7,0.9,'1',9,27,31,0,1.1,34,2,3.4,7,3,2]\n",
    "---\n",
    "\n",
    "1. Find the sum of elements in a list.\n",
    "2. Write programs to find the largest and smallest element in a list. Total 4 programs.\n",
    "    variation 1- Use first element for comparing values.\n",
    "    variation 2- Use last element for comparing values.\n",
    "3. Write a program to find the index of '1'.\n",
    "4. Write a program to separate all data type objects and store it in different collections.\n",
    "5. Write a program to find duplicate items in the list. Print all items which are not duplicates.\n",
    "6. Write a program to find the frequency of each element in the list."
   ]
  },
  {
   "cell_type": "code",
   "execution_count": 8,
   "id": "52a61ed2",
   "metadata": {},
   "outputs": [
    {
     "name": "stdout",
     "output_type": "stream",
     "text": [
      "160.1\n"
     ]
    }
   ],
   "source": [
    "list_a = [1,2,36.7,0.9,'1',9,27,31,0,1.1,34,2,3.4,7,3,2]\n",
    "summm = 0.0\n",
    "for i in list_a:\n",
    "    if type(i) == int or type(i) == float:\n",
    "        summm = summm + i\n",
    "print(summm)"
   ]
  },
  {
   "cell_type": "markdown",
   "id": "6cb3e0b3",
   "metadata": {},
   "source": [
    "## Q1. Find the Sum of Elements in a List\n",
    "\n",
    "**Problem Statement:**\n",
    "To perform the sum operation, ensure that all objects in the list are of a numeric data type.\n",
    "\n",
    "**Solution:**\n",
    "\n",
    "```python\n",
    "list_a = [1, 2, 36.7, 0.9, '1', 9, 27, 31, 0, 1.1, 34, 2, 3.4, 7, 3, 2]\n",
    "\n",
    "total = 0\n",
    "\n",
    "# Iterate through the list\n",
    "for x in list_a:\n",
    "    # Check if the element is an integer or float and add it to the total\n",
    "    if isinstance(x, (int, float)):\n",
    "        total += x\n",
    "    # If the element is a string that can be converted to a float, convert and add it\n",
    "    elif isinstance(x, str):\n",
    "        try:\n",
    "            total += float(x)\n",
    "        except ValueError:\n",
    "            # Ignore non-numeric strings\n",
    "            pass\n",
    "\n",
    "print(total)\n"
   ]
  },
  {
   "cell_type": "code",
   "execution_count": 14,
   "id": "ec543868",
   "metadata": {},
   "outputs": [
    {
     "name": "stdout",
     "output_type": "stream",
     "text": [
      "161.1\n"
     ]
    }
   ],
   "source": [
    "##    Convert the String to a Number and Then Sum:\n",
    "list_a = [1, 2, 36.7, 0.9, '1', 9, 27, 31, 0, 1.1, 34, 2, 3.4, 7, 3, 2]\n",
    "\n",
    "# Convert the string to numeric and sum all elements\n",
    "sum_list_a = sum(float(x) for x in list_a)\n",
    "print(sum_list_a)"
   ]
  },
  {
   "cell_type": "code",
   "execution_count": 15,
   "id": "9a8e833f",
   "metadata": {},
   "outputs": [
    {
     "name": "stdout",
     "output_type": "stream",
     "text": [
      "<class 'str'>\n",
      "161.1\n"
     ]
    }
   ],
   "source": [
    "# Alternate Approach\n",
    "total = 0\n",
    "for x in list_a:\n",
    "    if isinstance(x, (int, float)):\n",
    "        total += x\n",
    "    elif isinstance(x, str) and x.isdigit():\n",
    "        print(type(x))\n",
    "        total += int(x)\n",
    "print(total)"
   ]
  },
  {
   "cell_type": "code",
   "execution_count": 16,
   "id": "e44493a4",
   "metadata": {},
   "outputs": [
    {
     "name": "stdout",
     "output_type": "stream",
     "text": [
      "160.1\n"
     ]
    }
   ],
   "source": [
    "## Exclude Non-Numeric Values and Sum:\n",
    "list_a = [1, 2, 36.7, 0.9, '1', 9, 27, 31, 0, 1.1, 34, 2, 3.4, 7, 3, 2]\n",
    "\n",
    "# Sum only numeric elements\n",
    "sum_list_a = sum(x for x in list_a if isinstance(x, (int, float)))\n",
    "print(sum_list_a)\n"
   ]
  },
  {
   "cell_type": "code",
   "execution_count": null,
   "id": "abb4643c",
   "metadata": {},
   "outputs": [],
   "source": [
    "## Handle Non-Numeric Strings \n",
    "# list_a = [1, 2, 36.7, 0.9, '1', 9, 27, 31, 0, 1.1, 34, 2, 3.4, 7, 3, 2]\n",
    "\n",
    "# Sum by converting possible numeric strings and ignoring errors\n",
    "sum_list_a = sum(float(x) for x in list_a if isinstance(x, (int, float)) or (isinstance(x, str) and x.isdigit()))\n",
    "print(sum_list_a)\n",
    " \n",
    "# Alternate\n",
    "total = 0\n",
    "for x in list_a:\n",
    "    if isinstance(x, (int, float)):\n",
    "        total += x\n",
    "    elif isinstance(x, str) and x.isdigit():\n",
    "        total += int(x)\n",
    "print(total)\n"
   ]
  },
  {
   "cell_type": "code",
   "execution_count": null,
   "id": "6c3db5f1",
   "metadata": {},
   "outputs": [],
   "source": [
    "# Without any built in method\n",
    "list_a = [1, 2, 36.7, 0.9, '1', 9, 27, 31, 0, 1.1, 34, 2, 3.4, 7, 3, 2]\n",
    "\n",
    "total = 0\n",
    "\n",
    "# Iterate through the list\n",
    "for x in list_a:\n",
    "    # Check if the element is an integer or float and add it to the total\n",
    "    if isinstance(x, (int, float)):\n",
    "        total += x\n",
    "    # If the element is a string that can be converted to a float, convert and add it\n",
    "    elif isinstance(x, str):\n",
    "        try:\n",
    "            total += float(x)\n",
    "        except ValueError:\n",
    "            # Ignore non-numeric strings\n",
    "            pass\n",
    "\n",
    "print(total)\n"
   ]
  },
  {
   "cell_type": "markdown",
   "id": "27edbe5d",
   "metadata": {},
   "source": [
    "### Q2. Write Programs to Find the Largest and Smallest Element in a List\n",
    "\n",
    "**Problem Statement:**\n",
    "Using the given list, write four programs to find the largest and smallest elements in the list.\n",
    "\n",
    "- **Variation 1**: Use the first element for comparing values.\n",
    "- **Variation 2**: Use the last element for comparing values.\n"
   ]
  },
  {
   "cell_type": "code",
   "execution_count": null,
   "id": "fa31d75b",
   "metadata": {},
   "outputs": [],
   "source": [
    "# Find the smallest element using first element\n",
    "list_a = [1, 2, 36.7, 0.9, '1', 9, 27, 31, 0, 1.1, 34, 2, 3.4, 7, 3, 2]\n",
    "\n",
    "# Convert all elements to floats if possible\n",
    "for i in range(len(list_a)):\n",
    "    if isinstance(list_a[i], str):\n",
    "        list_a[i] = float(list_a[i])\n",
    "\n",
    "# Initialize the smallest value with the first element\n",
    "smallest = list_a[0]\n",
    "\n",
    "# Iterate through the list to find the smallest element\n",
    "for x in list_a:\n",
    "    if x < smallest:\n",
    "        smallest = x\n",
    "\n",
    "print(smallest)\n",
    "\n",
    "#-----------------------------------------------------------------------------\n",
    "# Find the smallest element using last element\n",
    "\n",
    "list_a = [1, 2, 36.7, 0.9, '1', 9, 27, 31, 0, 1.1, 34, 2, 3.4, 7, 3, 2]\n",
    "\n",
    "# Convert all elements to floats if possible\n",
    "for i in range(len(list_a)):\n",
    "    if isinstance(list_a[i], str):\n",
    "        list_a[i] = float(list_a[i])\n",
    "\n",
    "# Initialize the smallest value with the last element\n",
    "smallest = list_a[-1]\n",
    "\n",
    "# Iterate through the list to find the smallest element\n",
    "for x in list_a:\n",
    "    if x < smallest:\n",
    "        smallest = x\n",
    "\n",
    "print(smallest)\n"
   ]
  },
  {
   "cell_type": "code",
   "execution_count": null,
   "id": "80d4d3cf",
   "metadata": {},
   "outputs": [],
   "source": [
    "# Find the Largest Element using last elemnt\n",
    "# \n",
    "\n",
    "list_a = [1, 2, 36.7, 0.9, '1', 9, 27, 31, 0, 1.1, 34, 2, 3.4, 7, 3, 2]\n",
    "\n",
    "# Convert all elements to floats if possible\n",
    "for i in range(len(list_a)):\n",
    "    if isinstance(list_a[i], str):\n",
    "        list_a[i] = float(list_a[i])\n",
    "\n",
    "# Initialize the largest value with the last element\n",
    "largest = list_a[-1]\n",
    "\n",
    "# Iterate through the list to find the largest element\n",
    "for x in list_a:\n",
    "    if x > largest:\n",
    "        largest = x\n",
    "\n",
    "print(largest)\n",
    "\n",
    "#----------------------------------------------------------------------------\n",
    "# Find the Largest Element using first elemnt\n",
    "\n",
    "list_a = [1, 2, 36.7, 0.9, '1', 9, 27, 31, 0, 1.1, 34, 2, 3.4, 7, 3, 2]\n",
    "\n",
    "# Convert all elements to floats if possible\n",
    "for i in range(len(list_a)):\n",
    "    if isinstance(list_a[i], str):\n",
    "        list_a[i] = float(list_a[i])\n",
    "\n",
    "# Initialize the largest value with the first element\n",
    "largest = list_a[0]\n",
    "\n",
    "# Iterate through the list to find the largest element\n",
    "for x in list_a:\n",
    "    if x > largest:\n",
    "        largest = x\n",
    "\n",
    "print(largest)\n"
   ]
  },
  {
   "cell_type": "markdown",
   "id": "241fc77b",
   "metadata": {},
   "source": [
    "### Q3. Write a Program to Find the Index of `'1'`\n",
    "\n",
    "**Problem Statement:**\n",
    "Using the given list, write a program to find the index of the element `'1'`.\n"
   ]
  },
  {
   "cell_type": "code",
   "execution_count": 19,
   "id": "c1a3745f",
   "metadata": {},
   "outputs": [
    {
     "name": "stdout",
     "output_type": "stream",
     "text": [
      "4\n",
      "7\n"
     ]
    }
   ],
   "source": [
    "\n",
    "list_a = [1, 2, 36.7, 0.9, '1', 9, 27,'1', 31, 0, 1.1, 34, 2, 3.4, 7, 3, 2]\n",
    "\n",
    "# Initialize a variable to store the index\n",
    "index_of_1 = -1\n",
    "\n",
    "# Iterate through the list to find the index of '1'\n",
    "for i in range(len(list_a)):\n",
    "    if list_a[i] == '1':\n",
    "        index_of_1 = i\n",
    "        print(index_of_1)"
   ]
  },
  {
   "cell_type": "code",
   "execution_count": 3,
   "id": "c73d4d4a",
   "metadata": {},
   "outputs": [
    {
     "name": "stdout",
     "output_type": "stream",
     "text": [
      "-1\n"
     ]
    }
   ],
   "source": [
    "\n",
    "\n",
    "# --------------------------\n",
    "# Initialize a flag to indicate if '1' is found\n",
    "found = False\n",
    "\n",
    "# Iterate through the list to find the index of '1'\n",
    "for i in range(len(list_a)):\n",
    "    if list_a[i] == '1':\n",
    "        print(f\"Index of '1': {i}\")\n",
    "        found = True\n",
    "        break\n",
    "\n",
    "# If '1' is not found, print \"Not found\"\n",
    "if not found:\n",
    "    print(\"Not found\")"
   ]
  },
  {
   "cell_type": "markdown",
   "id": "dba50254",
   "metadata": {},
   "source": [
    "### Q4. Write a Program to Separate All Data Type Objects and Store Them in Different Collections\n",
    "\n",
    "**Problem Statement:**\n",
    "Using the given list, write a program to separate the elements by their data types and store them in different collections. Specifically, store integers, floats, and strings in separate lists.\n",
    "\n"
   ]
  },
  {
   "cell_type": "code",
   "execution_count": 28,
   "id": "69622f08",
   "metadata": {},
   "outputs": [
    {
     "data": {
      "text/plain": [
       "['__add__',\n",
       " '__class__',\n",
       " '__class_getitem__',\n",
       " '__contains__',\n",
       " '__delattr__',\n",
       " '__delitem__',\n",
       " '__dir__',\n",
       " '__doc__',\n",
       " '__eq__',\n",
       " '__format__',\n",
       " '__ge__',\n",
       " '__getattribute__',\n",
       " '__getitem__',\n",
       " '__gt__',\n",
       " '__hash__',\n",
       " '__iadd__',\n",
       " '__imul__',\n",
       " '__init__',\n",
       " '__init_subclass__',\n",
       " '__iter__',\n",
       " '__le__',\n",
       " '__len__',\n",
       " '__lt__',\n",
       " '__mul__',\n",
       " '__ne__',\n",
       " '__new__',\n",
       " '__reduce__',\n",
       " '__reduce_ex__',\n",
       " '__repr__',\n",
       " '__reversed__',\n",
       " '__rmul__',\n",
       " '__setattr__',\n",
       " '__setitem__',\n",
       " '__sizeof__',\n",
       " '__str__',\n",
       " '__subclasshook__',\n",
       " 'append',\n",
       " 'clear',\n",
       " 'copy',\n",
       " 'count',\n",
       " 'extend',\n",
       " 'index',\n",
       " 'insert',\n",
       " 'pop',\n",
       " 'remove',\n",
       " 'reverse',\n",
       " 'sort']"
      ]
     },
     "execution_count": 28,
     "metadata": {},
     "output_type": "execute_result"
    }
   ],
   "source": [
    "dir(list_a)"
   ]
  },
  {
   "cell_type": "code",
   "execution_count": 32,
   "id": "7c182a12",
   "metadata": {},
   "outputs": [
    {
     "name": "stdout",
     "output_type": "stream",
     "text": [
      "Hahahha\n"
     ]
    }
   ],
   "source": [
    "a = list(dir(list_a))\n",
    "if 'pop()' in a:\n",
    "    print('Hahahha')"
   ]
  },
  {
   "cell_type": "code",
   "execution_count": 29,
   "id": "d0a9233f",
   "metadata": {},
   "outputs": [
    {
     "name": "stdout",
     "output_type": "stream",
     "text": [
      "Integers: [1, 2, 9, 27, 31, 0, 34, 2, 7, 3, 2]\n",
      "Floats: [36.7, 0.9, 1.1, 3.4]\n",
      "Strings: ['1']\n"
     ]
    }
   ],
   "source": [
    "\n",
    "list_a = [1, 2, 36.7, 0.9, '1', 9, 27, 31, 0, 1.1, 34, 2, 3.4, 7, 3, 2,[1,1,2]]\n",
    "\n",
    "# Initialize empty lists to store different data types\n",
    "integers = []\n",
    "floats = []\n",
    "strings = []\n",
    "\n",
    "# Iterate through the list and categorize elements by type\n",
    "for x in list_a:\n",
    "    if isinstance(x, int):\n",
    "        integers.append(x)\n",
    "    elif isinstance(x, float):\n",
    "        floats.append(x)\n",
    "    elif isinstance(x, str):\n",
    "        strings.append(x)\n",
    "\n",
    "# Print the collections\n",
    "print(\"Integers:\", integers)\n",
    "print(\"Floats:\", floats)\n",
    "print(\"Strings:\", strings)\n"
   ]
  },
  {
   "cell_type": "code",
   "execution_count": 30,
   "id": "c842017c",
   "metadata": {},
   "outputs": [
    {
     "data": {
      "text/plain": [
       "2"
      ]
     },
     "execution_count": 30,
     "metadata": {},
     "output_type": "execute_result"
    }
   ],
   "source": [
    "integers.pop()"
   ]
  },
  {
   "cell_type": "markdown",
   "id": "2e648dcb",
   "metadata": {},
   "source": [
    "### Q5. Write a Program to Find Duplicate Items in the List and Print Non-Duplicate Items\n",
    "\n",
    "**Problem Statement:**\n",
    "Using the given list, write a program to find duplicate items. Print all items that are not duplicates.\n",
    "\n"
   ]
  },
  {
   "cell_type": "code",
   "execution_count": null,
   "id": "faae483c",
   "metadata": {},
   "outputs": [],
   "source": [
    "\n",
    "list_a = [1, 2, 36.7, 0.9, '1', 9, 27, 31, 0, 1.1, 34, 2, 3.4, 7, 3, 2]\n",
    "\n",
    "# Initialize dictionaries to count occurrences of each item\n",
    "counts = {}\n",
    "\n",
    "# Count occurrences of each item in the list\n",
    "for item in list_a:\n",
    "    if item in counts:\n",
    "        counts[item] += 1\n",
    "    else:\n",
    "        counts[item] = 1\n",
    "\n",
    "# Find and print non-duplicate items\n",
    "non_duplicates = [item for item, count in counts.items() if count == 1]\n",
    "\n",
    "print(\"Non-duplicate items:\", non_duplicates)\n"
   ]
  },
  {
   "cell_type": "markdown",
   "id": "2230d281",
   "metadata": {},
   "source": [
    "### Q6. Write a Program to Find the Frequency of Each Element in the List\n",
    "\n",
    "**Problem Statement:**\n",
    "Using the given list, write a program to find the frequency of each element.\n"
   ]
  },
  {
   "cell_type": "code",
   "execution_count": null,
   "id": "bab0e7f9",
   "metadata": {},
   "outputs": [],
   "source": [
    "\n",
    "list_a = [1, 2, 36.7, 0.9, '1', 9, 27, 31, 0, 1.1, 34, 2, 3.4, 7, 3, 2]\n",
    "\n",
    "# Initialize a dictionary to store the frequency of each item\n",
    "frequency = {}\n",
    "\n",
    "# Count the frequency of each item in the list\n",
    "for item in list_a:\n",
    "    if item in frequency:\n",
    "        frequency[item] += 1\n",
    "    else:\n",
    "        frequency[item] = 1\n",
    "\n",
    "# Print the frequency of each item\n",
    "for item, count in frequency.items():\n",
    "    print(f\"Item: {item}, Frequency: {count}\")\n"
   ]
  },
  {
   "cell_type": "markdown",
   "id": "d34337ca",
   "metadata": {},
   "source": [
    "## List Comprehension"
   ]
  },
  {
   "cell_type": "code",
   "execution_count": 42,
   "id": "d0a6cc1a",
   "metadata": {},
   "outputs": [
    {
     "data": {
      "text/plain": [
       "[12, 14, 16, 18, 20, 22, 24, 26, 28, 30, 32, 34, 36, 38, 40]"
      ]
     },
     "execution_count": 42,
     "metadata": {},
     "output_type": "execute_result"
    }
   ],
   "source": [
    "[butter_paneer for butter_paneer in range(11,41) if butter_paneer % 2 == 0 ]"
   ]
  },
  {
   "cell_type": "code",
   "execution_count": 36,
   "id": "e0aa30e7",
   "metadata": {},
   "outputs": [
    {
     "name": "stdout",
     "output_type": "stream",
     "text": [
      "<class 'list'>\n"
     ]
    }
   ],
   "source": [
    "print(type(b))"
   ]
  }
 ],
 "metadata": {
  "kernelspec": {
   "display_name": "Python 3 (ipykernel)",
   "language": "python",
   "name": "python3"
  },
  "language_info": {
   "codemirror_mode": {
    "name": "ipython",
    "version": 3
   },
   "file_extension": ".py",
   "mimetype": "text/x-python",
   "name": "python",
   "nbconvert_exporter": "python",
   "pygments_lexer": "ipython3",
   "version": "3.9.7"
  }
 },
 "nbformat": 4,
 "nbformat_minor": 5
}
