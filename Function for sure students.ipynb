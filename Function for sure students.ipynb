{
 "cells": [
  {
   "cell_type": "code",
   "execution_count": 46,
   "id": "7425963c",
   "metadata": {},
   "outputs": [
    {
     "ename": "SyntaxError",
     "evalue": "duplicate argument 's' in function definition (<ipython-input-46-35704f8349c5>, line 2)",
     "output_type": "error",
     "traceback": [
      "\u001b[0;36m  File \u001b[0;32m\"<ipython-input-46-35704f8349c5>\"\u001b[0;36m, line \u001b[0;32m2\u001b[0m\n\u001b[0;31m    def first_fun(n,m,g,dd,s,s,s,g,g):\u001b[0m\n\u001b[0m    ^\u001b[0m\n\u001b[0;31mSyntaxError\u001b[0m\u001b[0;31m:\u001b[0m duplicate argument 's' in function definition\n"
     ]
    }
   ],
   "source": [
    "#function definition and calling\n",
    "def first_fun(n,m,g,dd,s,s,s,g,g):\n",
    "    print('This is our first lecture in function section')\n",
    "    return n,m\n",
    "first_fun([12,23,'sachin'],{'sachin':['raghavendra','sai','arun','saiD']})  # calling the fubction"
   ]
  },
  {
   "cell_type": "code",
   "execution_count": 9,
   "id": "8d618ac5",
   "metadata": {},
   "outputs": [
    {
     "name": "stdout",
     "output_type": "stream",
     "text": [
      "This is our first lecture in function section\n"
     ]
    },
    {
     "data": {
      "text/plain": [
       "13"
      ]
     },
     "execution_count": 9,
     "metadata": {},
     "output_type": "execute_result"
    }
   ],
   "source": [
    "first_fun(13)"
   ]
  },
  {
   "cell_type": "code",
   "execution_count": 30,
   "id": "cb1e269f",
   "metadata": {},
   "outputs": [
    {
     "name": "stdout",
     "output_type": "stream",
     "text": [
      "Addition of n and m is 3 \n",
      "Difference of l and s is -8 \n",
      "Product of t and p is  24\n"
     ]
    }
   ],
   "source": [
    "# order and numbers of parameter and argumnents should match always\n",
    "def simplfication(n,m,l,p,s,t):\n",
    "    summ = n+m\n",
    "    diff = l-s\n",
    "    prd = t*p\n",
    "    print('Addition of n and m is',summ,'\\nDifference of l and s is',diff,'\\nProduct of t and p is ',prd)\n",
    "simplfication(1,2,-3,4,5,6)"
   ]
  },
  {
   "cell_type": "code",
   "execution_count": 32,
   "id": "381db63e",
   "metadata": {},
   "outputs": [
    {
     "data": {
      "text/plain": [
       "'Sai'"
      ]
     },
     "execution_count": 32,
     "metadata": {},
     "output_type": "execute_result"
    }
   ],
   "source": [
    "# default arguments\n",
    "def student(name = 'Arun'):\n",
    "    return name\n",
    "student('Sai')"
   ]
  },
  {
   "cell_type": "code",
   "execution_count": null,
   "id": "a020ec2f",
   "metadata": {},
   "outputs": [],
   "source": [
    "def summ_fun(a,b):\n",
    "    print(x+y)\n",
    "x= int(input('Enter a'))\n",
    "y= int(input('Enter b'))\n",
    "summ_fun(x,y)"
   ]
  },
  {
   "cell_type": "code",
   "execution_count": null,
   "id": "4a4db93a",
   "metadata": {},
   "outputs": [],
   "source": []
  },
  {
   "cell_type": "code",
   "execution_count": null,
   "id": "bd63b7ff",
   "metadata": {},
   "outputs": [],
   "source": []
  },
  {
   "cell_type": "code",
   "execution_count": null,
   "id": "21bb7ed4",
   "metadata": {},
   "outputs": [],
   "source": []
  },
  {
   "cell_type": "code",
   "execution_count": null,
   "id": "03ea2dff",
   "metadata": {},
   "outputs": [],
   "source": []
  },
  {
   "cell_type": "code",
   "execution_count": null,
   "id": "6a1ecddc",
   "metadata": {},
   "outputs": [],
   "source": []
  },
  {
   "cell_type": "code",
   "execution_count": null,
   "id": "70a16f20",
   "metadata": {},
   "outputs": [],
   "source": []
  },
  {
   "cell_type": "code",
   "execution_count": null,
   "id": "11faa0c7",
   "metadata": {},
   "outputs": [],
   "source": []
  },
  {
   "cell_type": "code",
   "execution_count": null,
   "id": "854bd0a9",
   "metadata": {},
   "outputs": [],
   "source": []
  },
  {
   "cell_type": "code",
   "execution_count": null,
   "id": "870bb06c",
   "metadata": {},
   "outputs": [],
   "source": []
  },
  {
   "cell_type": "code",
   "execution_count": null,
   "id": "2c96b28f",
   "metadata": {},
   "outputs": [],
   "source": []
  },
  {
   "cell_type": "code",
   "execution_count": null,
   "id": "576d2315",
   "metadata": {},
   "outputs": [],
   "source": []
  },
  {
   "cell_type": "code",
   "execution_count": null,
   "id": "165a1f80",
   "metadata": {},
   "outputs": [],
   "source": []
  },
  {
   "cell_type": "code",
   "execution_count": null,
   "id": "5b8f1e2f",
   "metadata": {},
   "outputs": [],
   "source": []
  },
  {
   "cell_type": "code",
   "execution_count": null,
   "id": "0ee75d91",
   "metadata": {},
   "outputs": [],
   "source": []
  },
  {
   "cell_type": "code",
   "execution_count": 5,
   "id": "a3d1b893",
   "metadata": {},
   "outputs": [
    {
     "ename": "TypeError",
     "evalue": "sun() takes 0 positional arguments but 1 was given",
     "output_type": "error",
     "traceback": [
      "\u001b[0;31m---------------------------------------------------------------------------\u001b[0m",
      "\u001b[0;31mTypeError\u001b[0m                                 Traceback (most recent call last)",
      "\u001b[0;32m<ipython-input-5-6eb4536f42da>\u001b[0m in \u001b[0;36m<module>\u001b[0;34m\u001b[0m\n\u001b[1;32m      1\u001b[0m \u001b[0;32mdef\u001b[0m \u001b[0msun\u001b[0m\u001b[0;34m(\u001b[0m\u001b[0;34m)\u001b[0m\u001b[0;34m:\u001b[0m\u001b[0;34m\u001b[0m\u001b[0;34m\u001b[0m\u001b[0m\n\u001b[1;32m      2\u001b[0m     \u001b[0mx\u001b[0m \u001b[0;34m=\u001b[0m \u001b[0;36m14\u001b[0m\u001b[0;34m\u001b[0m\u001b[0;34m\u001b[0m\u001b[0m\n\u001b[0;32m----> 3\u001b[0;31m \u001b[0mprint\u001b[0m\u001b[0;34m(\u001b[0m\u001b[0msun\u001b[0m\u001b[0;34m(\u001b[0m\u001b[0;36m12\u001b[0m\u001b[0;34m)\u001b[0m\u001b[0;34m)\u001b[0m\u001b[0;34m\u001b[0m\u001b[0;34m\u001b[0m\u001b[0m\n\u001b[0m",
      "\u001b[0;31mTypeError\u001b[0m: sun() takes 0 positional arguments but 1 was given"
     ]
    }
   ],
   "source": [
    "def sun():\n",
    "    x = 14\n",
    "print(sun(12))"
   ]
  },
  {
   "cell_type": "code",
   "execution_count": null,
   "id": "ca23f529",
   "metadata": {},
   "outputs": [],
   "source": []
  },
  {
   "cell_type": "code",
   "execution_count": null,
   "id": "8051da50",
   "metadata": {},
   "outputs": [],
   "source": []
  },
  {
   "cell_type": "code",
   "execution_count": null,
   "id": "4f624fba",
   "metadata": {},
   "outputs": [],
   "source": []
  },
  {
   "cell_type": "code",
   "execution_count": null,
   "id": "13f9d85a",
   "metadata": {},
   "outputs": [],
   "source": []
  },
  {
   "cell_type": "code",
   "execution_count": 19,
   "id": "9ab05f21",
   "metadata": {},
   "outputs": [
    {
     "name": "stdout",
     "output_type": "stream",
     "text": [
      "<function <lambda> at 0x7ffd08531280>\n"
     ]
    }
   ],
   "source": [
    "x = lambda x,y : x*y (2,3)\n",
    "print(x)"
   ]
  },
  {
   "cell_type": "code",
   "execution_count": 27,
   "id": "feb6f6da",
   "metadata": {},
   "outputs": [
    {
     "name": "stdout",
     "output_type": "stream",
     "text": [
      "256\n"
     ]
    }
   ],
   "source": [
    "Exp = (lambda x,y : x**y)(4,4)\n",
    "print(Exp)"
   ]
  },
  {
   "cell_type": "markdown",
   "id": "3605ab7f",
   "metadata": {},
   "source": [
    "### I am using lambda function to print a line"
   ]
  },
  {
   "cell_type": "code",
   "execution_count": 20,
   "id": "76797c6b",
   "metadata": {},
   "outputs": [
    {
     "data": {
      "text/plain": [
       "<function __main__.<lambda>(name)>"
      ]
     },
     "execution_count": 20,
     "metadata": {},
     "output_type": "execute_result"
    }
   ],
   "source": [
    "name = \"My name is Sachin chaudhary\"\n",
    "lambda name : print(name)"
   ]
  },
  {
   "cell_type": "markdown",
   "id": "cb5229ad",
   "metadata": {},
   "source": [
    "#### What is this? Why it is not printng the name"
   ]
  },
  {
   "cell_type": "code",
   "execution_count": 39,
   "id": "2fcc4ad0",
   "metadata": {},
   "outputs": [
    {
     "name": "stdout",
     "output_type": "stream",
     "text": [
      "My name is Sachin chaudhary\n"
     ]
    }
   ],
   "source": [
    "name = \"My name is Sachin chaudhary\"\n",
    "print((lambda name : name)(name))"
   ]
  },
  {
   "cell_type": "code",
   "execution_count": 43,
   "id": "1777b561",
   "metadata": {},
   "outputs": [
    {
     "name": "stdout",
     "output_type": "stream",
     "text": [
      "My name is Sachin chaudhary\n"
     ]
    }
   ],
   "source": [
    "name = \"My name is Sachin chaudhary\"\n",
    "def print_line(name):\n",
    "    print(name)\n",
    "print_line(name)\n",
    "first_func()"
   ]
  },
  {
   "cell_type": "code",
   "execution_count": null,
   "id": "9755555f",
   "metadata": {},
   "outputs": [],
   "source": []
  }
 ],
 "metadata": {
  "kernelspec": {
   "display_name": "Python 3 (ipykernel)",
   "language": "python",
   "name": "python3"
  },
  "language_info": {
   "codemirror_mode": {
    "name": "ipython",
    "version": 3
   },
   "file_extension": ".py",
   "mimetype": "text/x-python",
   "name": "python",
   "nbconvert_exporter": "python",
   "pygments_lexer": "ipython3",
   "version": "3.8.8"
  }
 },
 "nbformat": 4,
 "nbformat_minor": 5
}
