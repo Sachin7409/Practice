{
 "cells": [
  {
   "cell_type": "markdown",
   "id": "e48f12ba",
   "metadata": {},
   "source": [
    " Data types\n",
    " * **List** \n",
    "      1. rdered,mutable, allows duplicates\n",
    " * **Tuples**\n",
    " * Sets\n",
    " * Dictionaries"
   ]
  },
  {
   "cell_type": "code",
   "execution_count": 1,
   "id": "d1525890",
   "metadata": {
    "scrolled": true
   },
   "outputs": [
    {
     "name": "stdout",
     "output_type": "stream",
     "text": [
      "[1, 'Raghavendra', 2, 'KSR']\n"
     ]
    },
    {
     "data": {
      "text/plain": [
       "'Raghavendra'"
      ]
     },
     "execution_count": 1,
     "metadata": {},
     "output_type": "execute_result"
    }
   ],
   "source": [
    "# Declare or create a list\n",
    "list1 = [1,'Raghavendra',2,'KSR']\n",
    "list1[:3]\n",
    "print(list1)\n",
    "list1[1]"
   ]
  },
  {
   "cell_type": "markdown",
   "id": "409a7274",
   "metadata": {},
   "source": [
    "# Methods in list"
   ]
  },
  {
   "cell_type": "code",
   "execution_count": 2,
   "id": "711e4dda",
   "metadata": {},
   "outputs": [
    {
     "data": {
      "text/plain": [
       "4"
      ]
     },
     "execution_count": 2,
     "metadata": {},
     "output_type": "execute_result"
    }
   ],
   "source": [
    "# len()\n",
    "len(list1)"
   ]
  },
  {
   "cell_type": "code",
   "execution_count": 3,
   "id": "a54bf932",
   "metadata": {},
   "outputs": [
    {
     "name": "stdout",
     "output_type": "stream",
     "text": [
      "<class 'list'>\n"
     ]
    }
   ],
   "source": [
    "# type()\n",
    "print(type(list1))"
   ]
  },
  {
   "cell_type": "code",
   "execution_count": 7,
   "id": "73e3d2ab",
   "metadata": {},
   "outputs": [
    {
     "data": {
      "text/plain": [
       "'KSR'"
      ]
     },
     "execution_count": 7,
     "metadata": {},
     "output_type": "execute_result"
    }
   ],
   "source": [
    "list1\n",
    "list1[-1]\n",
    "# list.insert(index_num,Element)"
   ]
  },
  {
   "cell_type": "code",
   "execution_count": 5,
   "id": "f2a69838",
   "metadata": {},
   "outputs": [
    {
     "data": {
      "text/plain": [
       "[1, 'Raghavendra', 2, 'Arun', 'Sachin', 'KSR']"
      ]
     },
     "execution_count": 5,
     "metadata": {},
     "output_type": "execute_result"
    }
   ],
   "source": [
    "list1.insert(-1,'Sachin')\n",
    "list1"
   ]
  },
  {
   "cell_type": "code",
   "execution_count": 5,
   "id": "97f9c1c4",
   "metadata": {},
   "outputs": [
    {
     "data": {
      "text/plain": [
       "[1, 'Raghavendra', 2, 'Arun', 'KSR']"
      ]
     },
     "execution_count": 5,
     "metadata": {},
     "output_type": "execute_result"
    }
   ],
   "source": [
    "list1"
   ]
  },
  {
   "cell_type": "code",
   "execution_count": 6,
   "id": "ca130091",
   "metadata": {},
   "outputs": [
    {
     "data": {
      "text/plain": [
       "[1, 'Raghavendra', 2, 'Arun', 'KSR', 'Sai']"
      ]
     },
     "execution_count": 6,
     "metadata": {},
     "output_type": "execute_result"
    }
   ],
   "source": [
    "# append()\n",
    "list1.append('Sai')\n",
    "list1"
   ]
  },
  {
   "cell_type": "code",
   "execution_count": 8,
   "id": "0e757803",
   "metadata": {},
   "outputs": [
    {
     "data": {
      "text/plain": [
       "['teacher',\n",
       " 2,\n",
       " 3,\n",
       " 'Professor',\n",
       " 'lecturer',\n",
       " 1,\n",
       " 'Raghavendra',\n",
       " 2,\n",
       " 'Arun',\n",
       " 'KSR',\n",
       " 'Sai']"
      ]
     },
     "execution_count": 8,
     "metadata": {},
     "output_type": "execute_result"
    }
   ],
   "source": [
    "# extend()\n",
    "list2 = ['teacher',2,3,'Professor','lecturer']\n",
    "list2.extend(list1)\n",
    "list2"
   ]
  },
  {
   "cell_type": "code",
   "execution_count": 11,
   "id": "7778d3c8",
   "metadata": {},
   "outputs": [
    {
     "data": {
      "text/plain": [
       "[1, 'Raghavendra', 2]"
      ]
     },
     "execution_count": 11,
     "metadata": {},
     "output_type": "execute_result"
    }
   ],
   "source": [
    "list3 = []\n",
    "list3.extend(list1[0:3])\n",
    "list3"
   ]
  },
  {
   "cell_type": "code",
   "execution_count": 14,
   "id": "8dd180fd",
   "metadata": {},
   "outputs": [
    {
     "data": {
      "text/plain": [
       "[1, 'Raghavendra', 2, 'A', 'r', 'u', 'n', 'A', 'r', 'u', 'n']"
      ]
     },
     "execution_count": 14,
     "metadata": {},
     "output_type": "execute_result"
    }
   ],
   "source": [
    "list3.extend(list1[3])\n",
    "list3"
   ]
  },
  {
   "cell_type": "code",
   "execution_count": 15,
   "id": "5e21ac8f",
   "metadata": {
    "scrolled": true
   },
   "outputs": [
    {
     "data": {
      "text/plain": [
       "['teacher',\n",
       " 3,\n",
       " 'Professor',\n",
       " 'lecturer',\n",
       " 1,\n",
       " 'Raghavendra',\n",
       " 2,\n",
       " 'Arun',\n",
       " 'KSR',\n",
       " 'Sai']"
      ]
     },
     "execution_count": 15,
     "metadata": {},
     "output_type": "execute_result"
    }
   ],
   "source": [
    "# remove()\n",
    "list2.remove(2)\n",
    "list2"
   ]
  },
  {
   "cell_type": "code",
   "execution_count": 20,
   "id": "6af01180",
   "metadata": {},
   "outputs": [
    {
     "data": {
      "text/plain": [
       "['Professor', 'lecturer', 1, 'Raghavendra', 2, 'Arun', 'KSR', 'Sai']"
      ]
     },
     "execution_count": 20,
     "metadata": {},
     "output_type": "execute_result"
    }
   ],
   "source": [
    "list2.pop(0)\n",
    "list2"
   ]
  },
  {
   "cell_type": "code",
   "execution_count": 24,
   "id": "11c74cba",
   "metadata": {},
   "outputs": [
    {
     "data": {
      "text/plain": [
       "['Professor', 'lecturer', 1, 'Raghavendra', 2, 'Arun', 'KSR', 'Sai']"
      ]
     },
     "execution_count": 24,
     "metadata": {},
     "output_type": "execute_result"
    }
   ],
   "source": [
    "list2"
   ]
  },
  {
   "cell_type": "code",
   "execution_count": 25,
   "id": "fc976e63",
   "metadata": {},
   "outputs": [],
   "source": [
    "del list2[3]"
   ]
  },
  {
   "cell_type": "code",
   "execution_count": 26,
   "id": "90749c8b",
   "metadata": {},
   "outputs": [
    {
     "data": {
      "text/plain": [
       "['Professor', 'lecturer', 1, 2, 'Arun', 'KSR', 'Sai']"
      ]
     },
     "execution_count": 26,
     "metadata": {},
     "output_type": "execute_result"
    }
   ],
   "source": [
    "list2"
   ]
  },
  {
   "cell_type": "code",
   "execution_count": 27,
   "id": "49c33e80",
   "metadata": {},
   "outputs": [],
   "source": [
    "list1.clear()"
   ]
  },
  {
   "cell_type": "code",
   "execution_count": 28,
   "id": "c6b82f9b",
   "metadata": {},
   "outputs": [
    {
     "data": {
      "text/plain": [
       "[]"
      ]
     },
     "execution_count": 28,
     "metadata": {},
     "output_type": "execute_result"
    }
   ],
   "source": [
    "list1"
   ]
  },
  {
   "attachments": {
    "image.png": {
     "image/png": "[encoded data removed]"
    }
   },
   "cell_type": "markdown",
   "id": "5e79b083",
   "metadata": {},
   "source": [
    "# For loop in list\n",
    "\n",
    "**for loop** working\n",
    "![image.png](attachment:image.png)"
   ]
  },
  {
   "cell_type": "code",
   "execution_count": 29,
   "id": "679cafcd",
   "metadata": {},
   "outputs": [
    {
     "data": {
      "text/plain": [
       "range(0, 11)"
      ]
     },
     "execution_count": 29,
     "metadata": {},
     "output_type": "execute_result"
    }
   ],
   "source": [
    "range(5,11)"
   ]
  },
  {
   "cell_type": "code",
   "execution_count": 32,
   "id": "5e364789",
   "metadata": {},
   "outputs": [
    {
     "name": "stdout",
     "output_type": "stream",
     "text": [
      "0\n",
      "1\n",
      "2\n",
      "3\n",
      "4\n",
      "5\n",
      "6\n",
      "7\n",
      "8\n",
      "9\n",
      "10\n"
     ]
    }
   ],
   "source": [
    "for i in range(11):# range(11)--->5,6,7,8,9,10\n",
    "    print(i)"
   ]
  },
  {
   "cell_type": "code",
   "execution_count": 38,
   "id": "8e3e8b9a",
   "metadata": {},
   "outputs": [
    {
     "name": "stdout",
     "output_type": "stream",
     "text": [
      "1\n",
      "2\n",
      "3\n",
      "4\n",
      "5\n",
      "6\n",
      "7\n",
      "8\n",
      "9\n",
      "sachin\n",
      "wghcbaj\n",
      "dbvkjdbvj\n",
      "bfjvb\n"
     ]
    },
    {
     "data": {
      "text/plain": [
       "4"
      ]
     },
     "execution_count": 38,
     "metadata": {},
     "output_type": "execute_result"
    }
   ],
   "source": [
    "list4 = [1,2,3,4,5,6,7,8,9,'sachin','wghcbaj','dbvkjdbvj','bfjvb']\n",
    "for i in list4:\n",
    "    print(i)\n",
    "a=5\n",
    "b=4\n",
    "a\n",
    "b"
   ]
  },
  {
   "cell_type": "code",
   "execution_count": 44,
   "id": "b527dec6",
   "metadata": {},
   "outputs": [
    {
     "name": "stdout",
     "output_type": "stream",
     "text": [
      "[1, 'Raghavendra', 2, 'KSR']\n",
      "['Professor', 'lecturer', 1, 2, 'Arun', 'KSR', 'Sai']\n",
      "[1, 'Raghavendra', 2, 'A', 'r', 'u', 'n', 'A', 'r', 'u', 'n']\n",
      "[1, 2, 3, 4, 5, 6, 7, 8, 9, 'sachin', 'wghcbaj', 'dbvkjdbvj', 'bfjvb']\n"
     ]
    }
   ],
   "source": [
    "list5 = [list1,list2,list3,list4]\n",
    "list5\n",
    "for sachin in list5:\n",
    "    print(sachin)"
   ]
  },
  {
   "cell_type": "code",
   "execution_count": 50,
   "id": "ac2d93d0",
   "metadata": {},
   "outputs": [
    {
     "name": "stdout",
     "output_type": "stream",
     "text": [
      "[[1, 'Raghavendra', 2, 'KSR'], ['Professor', 'lecturer', 1, 2, 'Arun', 'KSR', 'Sai'], [1, 'Raghavendra', 2, 'A', 'r', 'u', 'n', 'A', 'r', 'u', 'n'], [1, 2, 3, 4, 5, 6, 7, 8, 9, 'sachin', 'wghcbaj', 'dbvkjdbvj', 'bfjvb']]\n"
     ]
    }
   ],
   "source": [
    "# append list items and for loop\n",
    "list6 =[]\n",
    "for x in list5:\n",
    "    list6.append(x)\n",
    "print(list6)"
   ]
  },
  {
   "cell_type": "markdown",
   "id": "86f4d11d",
   "metadata": {},
   "source": [
    "### Write a program to get the average of list."
   ]
  },
  {
   "cell_type": "code",
   "execution_count": 60,
   "id": "4f2a80ef",
   "metadata": {},
   "outputs": [
    {
     "name": "stdout",
     "output_type": "stream",
     "text": [
      "24.25\n"
     ]
    }
   ],
   "source": [
    "# First we create a list whcih contains integer\n",
    "list_avg = [11,22,15,35,56,6,3,14,24,23,46,36,]\n",
    "\n",
    "# to store the sum of elemnts of list\n",
    "sum = 0\n",
    "\n",
    "for a in list_avg:\n",
    "    sum = sum + a\n",
    "    length_of_list = len(list_avg)\n",
    "    avg_of_list = sum/length_of_list\n",
    "\n",
    "print(avg_of_list)\n",
    "    "
   ]
  },
  {
   "cell_type": "code",
   "execution_count": 1,
   "id": "654a9b0e",
   "metadata": {},
   "outputs": [
    {
     "name": "stdout",
     "output_type": "stream",
     "text": [
      "1\n",
      "2\n",
      "3\n",
      "4\n",
      "5\n",
      "56\n"
     ]
    }
   ],
   "source": [
    "set1 = {1,2,3,4,5,56,}\n",
    "for x in set1:\n",
    "    print(x)"
   ]
  },
  {
   "cell_type": "code",
   "execution_count": null,
   "id": "21c81a2c",
   "metadata": {},
   "outputs": [],
   "source": []
  }
 ],
 "metadata": {
  "kernelspec": {
   "display_name": "Python 3",
   "language": "python",
   "name": "python3"
  },
  "language_info": {
   "codemirror_mode": {
    "name": "ipython",
    "version": 3
   },
   "file_extension": ".py",
   "mimetype": "text/x-python",
   "name": "python",
   "nbconvert_exporter": "python",
   "pygments_lexer": "ipython3",
   "version": "3.8.8"
  }
 },
 "nbformat": 4,
 "nbformat_minor": 5
}
