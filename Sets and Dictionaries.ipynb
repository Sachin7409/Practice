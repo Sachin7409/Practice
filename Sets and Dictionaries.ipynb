{
 "cells": [
  {
   "cell_type": "markdown",
   "id": "4f604c25",
   "metadata": {},
   "source": [
    "# Sets and Dictionaries"
   ]
  },
  {
   "cell_type": "code",
   "execution_count": 1,
   "id": "cbdf912d",
   "metadata": {},
   "outputs": [
    {
     "data": {
      "text/plain": [
       "{'aman', 'naresh', 'raman', 'suresh'}"
      ]
     },
     "execution_count": 1,
     "metadata": {},
     "output_type": "execute_result"
    }
   ],
   "source": [
    "# initialise the sets\n",
    "set1 = {'naresh','suresh','aman','raman'}\n",
    "type(set1)\n",
    "set1"
   ]
  },
  {
   "cell_type": "code",
   "execution_count": 2,
   "id": "24292832",
   "metadata": {},
   "outputs": [],
   "source": [
    "# unordered\n",
    "# set1[1]"
   ]
  },
  {
   "cell_type": "code",
   "execution_count": 3,
   "id": "889743a3",
   "metadata": {},
   "outputs": [],
   "source": [
    "# unchangeable\n",
    "# set1[3] = 'chaman'"
   ]
  },
  {
   "cell_type": "code",
   "execution_count": 4,
   "id": "9642ca53",
   "metadata": {},
   "outputs": [],
   "source": [
    "# unindexed\n",
    "# set1[2]"
   ]
  },
  {
   "cell_type": "code",
   "execution_count": 5,
   "id": "bd4410bb",
   "metadata": {},
   "outputs": [
    {
     "data": {
      "text/plain": [
       "{1, 2.3, 'Pavan', 'bhupendra', 'pavan'}"
      ]
     },
     "execution_count": 5,
     "metadata": {},
     "output_type": "execute_result"
    }
   ],
   "source": [
    "# checking whether duplicates are allowed or not\n",
    "set2 = {1,2.3,'bhpuendra'}\n",
    "set2 = {1,2.3,'bhupendra','pavan','pavan','Pavan'}\n",
    "set2"
   ]
  },
  {
   "cell_type": "code",
   "execution_count": 6,
   "id": "af663718",
   "metadata": {},
   "outputs": [
    {
     "data": {
      "text/plain": [
       "('suresh', 'raman', 'naresh', 'aman')"
      ]
     },
     "execution_count": 6,
     "metadata": {},
     "output_type": "execute_result"
    }
   ],
   "source": [
    "tuple1 = tuple(set1)\n",
    "tuple1"
   ]
  },
  {
   "cell_type": "code",
   "execution_count": 7,
   "id": "70ec7d48",
   "metadata": {},
   "outputs": [
    {
     "data": {
      "text/plain": [
       "{'aman', 'naresh', 'raman', 'suresh'}"
      ]
     },
     "execution_count": 7,
     "metadata": {},
     "output_type": "execute_result"
    }
   ],
   "source": [
    "set3 = set(tuple1)\n",
    "set3"
   ]
  },
  {
   "cell_type": "code",
   "execution_count": 8,
   "id": "6410fe27",
   "metadata": {},
   "outputs": [],
   "source": [
    "set3.add(1)"
   ]
  },
  {
   "cell_type": "code",
   "execution_count": 9,
   "id": "6e0ed597",
   "metadata": {},
   "outputs": [
    {
     "data": {
      "text/plain": [
       "{1, 'aman', 'naresh', 'raman', 'suresh'}"
      ]
     },
     "execution_count": 9,
     "metadata": {},
     "output_type": "execute_result"
    }
   ],
   "source": [
    "# unordered property can be noticed clearly\n",
    "set3"
   ]
  },
  {
   "cell_type": "code",
   "execution_count": 10,
   "id": "22b372ab",
   "metadata": {},
   "outputs": [
    {
     "data": {
      "text/plain": [
       "{1, 'aman', 'naresh', 'raman', 'suresh'}"
      ]
     },
     "execution_count": 10,
     "metadata": {},
     "output_type": "execute_result"
    }
   ],
   "source": [
    "# set3.add(1,2)\n",
    "set3"
   ]
  },
  {
   "cell_type": "code",
   "execution_count": 13,
   "id": "d0df4da7",
   "metadata": {},
   "outputs": [
    {
     "data": {
      "text/plain": [
       "{1, 2.3, 'Pavan', 'aman', 'bhupendra', 'naresh', 'pavan', 'raman', 'suresh'}"
      ]
     },
     "execution_count": 13,
     "metadata": {},
     "output_type": "execute_result"
    }
   ],
   "source": [
    "# update()\n",
    "set3.update(set2)\n",
    "set3"
   ]
  },
  {
   "cell_type": "code",
   "execution_count": 14,
   "id": "53f53931",
   "metadata": {},
   "outputs": [
    {
     "data": {
      "text/plain": [
       "{1, 2.3, 'Pavan', 'aman', 'bhupendra', 'naresh', 'raman', 'suresh'}"
      ]
     },
     "execution_count": 14,
     "metadata": {},
     "output_type": "execute_result"
    }
   ],
   "source": [
    "# remove()\n",
    "set3.remove('pavan')\n",
    "set3"
   ]
  },
  {
   "cell_type": "code",
   "execution_count": 15,
   "id": "daffb2c4",
   "metadata": {},
   "outputs": [
    {
     "ename": "KeyError",
     "evalue": "'pavan'",
     "output_type": "error",
     "traceback": [
      "\u001b[0;31m---------------------------------------------------------------------------\u001b[0m",
      "\u001b[0;31mKeyError\u001b[0m                                  Traceback (most recent call last)",
      "\u001b[0;32m<ipython-input-15-c190934e4abe>\u001b[0m in \u001b[0;36m<module>\u001b[0;34m\u001b[0m\n\u001b[0;32m----> 1\u001b[0;31m \u001b[0mset3\u001b[0m\u001b[0;34m.\u001b[0m\u001b[0mremove\u001b[0m\u001b[0;34m(\u001b[0m\u001b[0;34m'pavan'\u001b[0m\u001b[0;34m)\u001b[0m\u001b[0;34m\u001b[0m\u001b[0;34m\u001b[0m\u001b[0m\n\u001b[0m\u001b[1;32m      2\u001b[0m \u001b[0mset3\u001b[0m\u001b[0;34m\u001b[0m\u001b[0;34m\u001b[0m\u001b[0m\n",
      "\u001b[0;31mKeyError\u001b[0m: 'pavan'"
     ]
    }
   ],
   "source": [
    "set3.remove('pavan')\n",
    "set3"
   ]
  },
  {
   "cell_type": "code",
   "execution_count": 16,
   "id": "0652f25f",
   "metadata": {},
   "outputs": [
    {
     "data": {
      "text/plain": [
       "{1, 2.3, 'Pavan', 'aman', 'bhupendra', 'naresh', 'raman', 'suresh'}"
      ]
     },
     "execution_count": 16,
     "metadata": {},
     "output_type": "execute_result"
    }
   ],
   "source": [
    "# discard()\n",
    "set3.discard('pavan')\n",
    "set3"
   ]
  },
  {
   "cell_type": "code",
   "execution_count": 17,
   "id": "0b17cd89",
   "metadata": {},
   "outputs": [
    {
     "data": {
      "text/plain": [
       "{2.3, 'Pavan', 'aman', 'bhupendra', 'naresh', 'raman', 'suresh'}"
      ]
     },
     "execution_count": 17,
     "metadata": {},
     "output_type": "execute_result"
    }
   ],
   "source": [
    "# pop()\n",
    "set3.pop()\n",
    "set3"
   ]
  },
  {
   "cell_type": "code",
   "execution_count": 18,
   "id": "2df505f1",
   "metadata": {},
   "outputs": [
    {
     "data": {
      "text/plain": [
       "{'Pavan', 'aman', 'bhupendra', 'naresh', 'raman', 'suresh'}"
      ]
     },
     "execution_count": 18,
     "metadata": {},
     "output_type": "execute_result"
    }
   ],
   "source": [
    "set3.pop()\n",
    "set3"
   ]
  },
  {
   "cell_type": "code",
   "execution_count": 19,
   "id": "93a4e752",
   "metadata": {},
   "outputs": [
    {
     "data": {
      "text/plain": [
       "{1, 2.3, 'Pavan', 'aman', 'bhupendra', 'naresh', 'pavan', 'raman', 'suresh'}"
      ]
     },
     "execution_count": 19,
     "metadata": {},
     "output_type": "execute_result"
    }
   ],
   "source": [
    "# union()\n",
    "set4 = set2.union(set3)\n",
    "set4"
   ]
  },
  {
   "cell_type": "code",
   "execution_count": 20,
   "id": "beef160b",
   "metadata": {},
   "outputs": [
    {
     "name": "stdout",
     "output_type": "stream",
     "text": [
      "{1, 2, 4, 5, 6}\n"
     ]
    }
   ],
   "source": [
    "# intersection\n",
    "set6 = {1,2,33,4,5,6}\n",
    "set7 = {1,2,3,4,5,6,7,8,9}\n",
    "set6.intersection_update(set7)\n",
    "print(set6)"
   ]
  },
  {
   "cell_type": "code",
   "execution_count": 21,
   "id": "d33f6926",
   "metadata": {},
   "outputs": [
    {
     "name": "stdout",
     "output_type": "stream",
     "text": [
      "{1, 2, 4, 5, 6}\n"
     ]
    }
   ],
   "source": [
    "set7.intersection_update(set6)\n",
    "print(set7)"
   ]
  },
  {
   "cell_type": "markdown",
   "id": "845243d4",
   "metadata": {},
   "source": [
    "# Dictionaries\n",
    "* Dictionaries are used to store data values in key:value pairs.\n",
    "* ordered*, changeable and does not allow duplicates.\n",
    "* Duplicate values will overwrite existing values.\n",
    "* "
   ]
  },
  {
   "cell_type": "code",
   "execution_count": 22,
   "id": "4ec543b4",
   "metadata": {},
   "outputs": [
    {
     "data": {
      "text/plain": [
       "{'name': 'sachin', 'gender': 'male', 'age': 24, 'qualification': 'B.tech'}"
      ]
     },
     "execution_count": 22,
     "metadata": {},
     "output_type": "execute_result"
    }
   ],
   "source": [
    "# defining or intialising dictionaries\n",
    "dict1 = {'name':'sachin',\n",
    "         'gender':'male',\n",
    "         'age': 24,\n",
    "         'qualification': 'B.tech'\n",
    "        }\n",
    "dict1"
   ]
  },
  {
   "cell_type": "code",
   "execution_count": 23,
   "id": "96fc6656",
   "metadata": {},
   "outputs": [
    {
     "data": {
      "text/plain": [
       "{'happy': 'khus', 'sad': 'dukhi', 'sorrow': 'dvbdjb', 'year': 2}"
      ]
     },
     "execution_count": 23,
     "metadata": {},
     "output_type": "execute_result"
    }
   ],
   "source": [
    "# duplicacy\n",
    "dict2 = {'happy':'khus',\n",
    "         'sad':'dukhi',\n",
    "         'sorrow':'dukhi',\n",
    "         'sorrow':'dvbdjb',\n",
    "         'year':2\n",
    "        }\n",
    "dict2"
   ]
  },
  {
   "cell_type": "code",
   "execution_count": 24,
   "id": "512830ce",
   "metadata": {},
   "outputs": [
    {
     "data": {
      "text/plain": [
       "{'data': 'electricity',\n",
       " 'science': 'subject',\n",
       " 'field': 'area',\n",
       " 'math': 'subject',\n",
       " 'marks': 20}"
      ]
     },
     "execution_count": 24,
     "metadata": {},
     "output_type": "execute_result"
    }
   ],
   "source": [
    "dict3 = {'data':'electricity',\n",
    "         'science':'subject',\n",
    "         'field':'area',\n",
    "         'math':'subject',\n",
    "         'marks':20\n",
    "        }\n",
    "dict3"
   ]
  },
  {
   "cell_type": "code",
   "execution_count": 25,
   "id": "01173ed4",
   "metadata": {},
   "outputs": [
    {
     "data": {
      "text/plain": [
       "'area'"
      ]
     },
     "execution_count": 25,
     "metadata": {},
     "output_type": "execute_result"
    }
   ],
   "source": [
    "dict3['field']"
   ]
  },
  {
   "cell_type": "code",
   "execution_count": 26,
   "id": "a5101a6b",
   "metadata": {},
   "outputs": [],
   "source": [
    "# we cannnot pass two keys\n",
    "#dict3['field','marks']"
   ]
  },
  {
   "cell_type": "code",
   "execution_count": 27,
   "id": "e00325c4",
   "metadata": {},
   "outputs": [
    {
     "data": {
      "text/plain": [
       "'dukhi'"
      ]
     },
     "execution_count": 27,
     "metadata": {},
     "output_type": "execute_result"
    }
   ],
   "source": [
    "# get()\n",
    "dict2.get('sad')"
   ]
  },
  {
   "cell_type": "code",
   "execution_count": 28,
   "id": "c7cb2c92",
   "metadata": {},
   "outputs": [
    {
     "data": {
      "text/plain": [
       "dict_keys(['name', 'gender', 'age', 'qualification'])"
      ]
     },
     "execution_count": 28,
     "metadata": {},
     "output_type": "execute_result"
    }
   ],
   "source": [
    "# keys()\n",
    "dict1.keys()"
   ]
  },
  {
   "cell_type": "code",
   "execution_count": 29,
   "id": "9dd45359",
   "metadata": {},
   "outputs": [
    {
     "data": {
      "text/plain": [
       "dict_values(['sachin', 'male', 24, 'B.tech'])"
      ]
     },
     "execution_count": 29,
     "metadata": {},
     "output_type": "execute_result"
    }
   ],
   "source": [
    "# values\n",
    "dict1.values()"
   ]
  },
  {
   "cell_type": "code",
   "execution_count": 30,
   "id": "892938ce",
   "metadata": {},
   "outputs": [
    {
     "data": {
      "text/plain": [
       "dict_items([('happy', 'khus'), ('sad', 'dukhi'), ('sorrow', 'dvbdjb'), ('year', 2)])"
      ]
     },
     "execution_count": 30,
     "metadata": {},
     "output_type": "execute_result"
    }
   ],
   "source": [
    "# items()\n",
    "dict2.items()"
   ]
  },
  {
   "cell_type": "code",
   "execution_count": 31,
   "id": "21c027e8",
   "metadata": {},
   "outputs": [
    {
     "name": "stdout",
     "output_type": "stream",
     "text": [
      "Present\n",
      "{'data': 'electricity', 'science': 'subject', 'field': 'area', 'math': 'subject', 'marks': 20}\n"
     ]
    }
   ],
   "source": [
    "# in operator\n",
    "if 'marks' in dict3:\n",
    "    print('Present')\n",
    "else:\n",
    "    print('Not present')\n",
    "    \n",
    "print(dict3)"
   ]
  },
  {
   "cell_type": "code",
   "execution_count": 38,
   "id": "a6d8e2ba",
   "metadata": {},
   "outputs": [
    {
     "data": {
      "text/plain": [
       "{'name': 'sachin',\n",
       " 'gender': 'male',\n",
       " 'age': 24,\n",
       " 'qualification': 'B.tech',\n",
       " 'domain': 'data science'}"
      ]
     },
     "execution_count": 38,
     "metadata": {},
     "output_type": "execute_result"
    }
   ],
   "source": [
    "# add a new item in dictionary\n",
    "\n",
    "dict1['domain']='data science'\n",
    "dict1"
   ]
  },
  {
   "cell_type": "markdown",
   "id": "d16c5900",
   "metadata": {},
   "source": [
    "# dict_.update( )"
   ]
  },
  {
   "cell_type": "code",
   "execution_count": 32,
   "id": "feb32f02",
   "metadata": {},
   "outputs": [
    {
     "name": "stdout",
     "output_type": "stream",
     "text": [
      "5\n"
     ]
    },
    {
     "data": {
      "text/plain": [
       "{'data': 'electricity',\n",
       " 'science': 'subject',\n",
       " 'field': 'area',\n",
       " 'math': 'subject',\n",
       " 'marks': 20,\n",
       " 'year': 2021}"
      ]
     },
     "execution_count": 32,
     "metadata": {},
     "output_type": "execute_result"
    }
   ],
   "source": [
    "# concatenate dict in another dict using uodate() method\n",
    "\n",
    "print(len(dict3))\n",
    "\n",
    "dict3.update({'year':2021})\n",
    "\n",
    "dict3\n",
    "\n"
   ]
  },
  {
   "cell_type": "code",
   "execution_count": 33,
   "id": "49044a05",
   "metadata": {},
   "outputs": [
    {
     "ename": "ValueError",
     "evalue": "dictionary update sequence element #0 has length 1; 2 is required",
     "output_type": "error",
     "traceback": [
      "\u001b[0;31m---------------------------------------------------------------------------\u001b[0m",
      "\u001b[0;31mValueError\u001b[0m                                Traceback (most recent call last)",
      "\u001b[0;32m<ipython-input-33-21539fc8ccc1>\u001b[0m in \u001b[0;36m<module>\u001b[0;34m\u001b[0m\n\u001b[1;32m      1\u001b[0m \u001b[0;31m# trying to pass a list which conatains dictionary as a element\u001b[0m\u001b[0;34m\u001b[0m\u001b[0;34m\u001b[0m\u001b[0;34m\u001b[0m\u001b[0m\n\u001b[1;32m      2\u001b[0m \u001b[0mlen\u001b[0m\u001b[0;34m(\u001b[0m\u001b[0mdict3\u001b[0m\u001b[0;34m)\u001b[0m\u001b[0;34m\u001b[0m\u001b[0;34m\u001b[0m\u001b[0m\n\u001b[0;32m----> 3\u001b[0;31m \u001b[0mdict3\u001b[0m\u001b[0;34m.\u001b[0m\u001b[0mupdate\u001b[0m\u001b[0;34m(\u001b[0m\u001b[0;34m[\u001b[0m\u001b[0;34m{\u001b[0m\u001b[0;34m'year'\u001b[0m\u001b[0;34m:\u001b[0m\u001b[0;36m21\u001b[0m\u001b[0;34m}\u001b[0m\u001b[0;34m]\u001b[0m\u001b[0;34m)\u001b[0m\u001b[0;34m\u001b[0m\u001b[0;34m\u001b[0m\u001b[0m\n\u001b[0m\u001b[1;32m      4\u001b[0m \u001b[0mdict3\u001b[0m\u001b[0;34m\u001b[0m\u001b[0;34m\u001b[0m\u001b[0m\n",
      "\u001b[0;31mValueError\u001b[0m: dictionary update sequence element #0 has length 1; 2 is required"
     ]
    }
   ],
   "source": [
    "# trying to pass a list which conatains dictionary as a element\n",
    "len(dict3)\n",
    "dict3.update([{'year':21}])\n",
    "dict3\n",
    "\n",
    "# it is showing error as expected.\n",
    "# we have to pass sequence in key value pairs then only it will work."
   ]
  },
  {
   "cell_type": "code",
   "execution_count": 34,
   "id": "af608138",
   "metadata": {},
   "outputs": [
    {
     "data": {
      "text/plain": [
       "{'data': 'electricity',\n",
       " 'science': 'subject',\n",
       " 'field': 'area',\n",
       " 'math': 'subject',\n",
       " 'marks': 20,\n",
       " 'year': 2021,\n",
       " 'x': 2,\n",
       " 'y': 3,\n",
       " 'z': 'sai'}"
      ]
     },
     "execution_count": 34,
     "metadata": {},
     "output_type": "execute_result"
    }
   ],
   "source": [
    "# passing an expression in dictionary\n",
    "\n",
    "dict3.update(x=2,y=3,z='sai')\n",
    "\n",
    "dict3\n"
   ]
  },
  {
   "cell_type": "code",
   "execution_count": 35,
   "id": "ec791a7c",
   "metadata": {},
   "outputs": [
    {
     "data": {
      "text/plain": [
       "{'data': 'electricity',\n",
       " 'science': 'subject',\n",
       " 'field': 'area',\n",
       " 'math': 'subject',\n",
       " 'marks': 20,\n",
       " 'year': 2021,\n",
       " 'x': 2,\n",
       " 'y': 3,\n",
       " 'z': 'sai',\n",
       " 'roll_no': 21,\n",
       " 'student': 'ragahv'}"
      ]
     },
     "execution_count": 35,
     "metadata": {},
     "output_type": "execute_result"
    }
   ],
   "source": [
    "# passing a list to concatenate to dictionary using update method.\n",
    "list1 = ['student','ragahv',]\n",
    "list2 = ['roll_no',21]\n",
    "dict3.update([list2])\n",
    "dict3.update([list1])\n",
    "dict3"
   ]
  },
  {
   "cell_type": "code",
   "execution_count": 36,
   "id": "ee612bcc",
   "metadata": {},
   "outputs": [
    {
     "data": {
      "text/plain": [
       "{'data': 'electricity',\n",
       " 'science': 'subject',\n",
       " 'field': 'area',\n",
       " 'math': 'subject',\n",
       " 'marks': {'math': 20, 'science': 25, 'physics': 22}}"
      ]
     },
     "execution_count": 36,
     "metadata": {},
     "output_type": "execute_result"
    }
   ],
   "source": [
    "# nested dictionaries\n",
    "dict4 = {'math':20,'science':25,'physics':22}\n",
    "dict3 = {'data':'electricity',\n",
    "         'science':'subject',\n",
    "         'field':'area',\n",
    "         'math':'subject',\n",
    "         'marks':dict4\n",
    "        }\n",
    "dict3"
   ]
  },
  {
   "cell_type": "markdown",
   "id": "54c051bd",
   "metadata": {},
   "source": [
    "# Removing items from dictionary\n",
    "\n",
    "##  pop( )   ---  \n",
    "* The pop() method will removes the item with the specified key name. So we have to pass the key to remove the record.\n",
    "\n",
    "##  popitem( ) ---\n",
    "* The popitem() method will removes the last inserted item. So no need to pass anything.\n",
    "\n",
    "##  del ---\n",
    "* removes the item with the particular key name. del can delete dictionary completely as well.\n",
    "\n",
    "##  clear( ) ---\n",
    "* empties the dictionary"
   ]
  },
  {
   "cell_type": "code",
   "execution_count": 46,
   "id": "8c657374",
   "metadata": {},
   "outputs": [
    {
     "name": "stdout",
     "output_type": "stream",
     "text": [
      "{'name': 'sachin', 'qualification': 'B.tech', 'domain': 'data science'}\n"
     ]
    }
   ],
   "source": [
    "# pop() method\n",
    "\n",
    "dict1\n",
    "dict1.pop('age')\n",
    "print(dict1)"
   ]
  },
  {
   "cell_type": "code",
   "execution_count": 48,
   "id": "8306a74f",
   "metadata": {},
   "outputs": [
    {
     "data": {
      "text/plain": [
       "{'name': 'sachin', 'qualification': 'B.tech'}"
      ]
     },
     "execution_count": 48,
     "metadata": {},
     "output_type": "execute_result"
    }
   ],
   "source": [
    "# popitem() method\n",
    "\n",
    "dict1.popitem()\n",
    "dict1\n",
    "\n",
    "\n",
    "# we inserted 'domain': 'data science' this entry last so it will be deleted."
   ]
  },
  {
   "cell_type": "code",
   "execution_count": 52,
   "id": "55535a22",
   "metadata": {},
   "outputs": [
    {
     "data": {
      "text/plain": [
       "{'sad': 'dukhi', 'sorrow': 'dvbdjb', 'year': 2}"
      ]
     },
     "execution_count": 52,
     "metadata": {},
     "output_type": "execute_result"
    }
   ],
   "source": [
    "# del keyword\n",
    "del dict2['happy']\n",
    "\n",
    "dict2\n",
    "\n",
    "\n",
    "# del can delete dictionary completely from the memory and \n",
    "# if we print that dictionary then it will show error because dictionary was deleted already"
   ]
  },
  {
   "cell_type": "code",
   "execution_count": 55,
   "id": "45715424",
   "metadata": {},
   "outputs": [
    {
     "data": {
      "text/plain": [
       "{}"
      ]
     },
     "execution_count": 55,
     "metadata": {},
     "output_type": "execute_result"
    }
   ],
   "source": [
    "# clear() method\n",
    "dict3\n",
    "dict3.clear()\n",
    "\n",
    "dict3\n",
    "\n",
    "# delete the dictionary but empty dictionary remains in memory"
   ]
  },
  {
   "cell_type": "markdown",
   "id": "e4d04a93",
   "metadata": {},
   "source": [
    "# Copy dictionary\n",
    "\n",
    "#### There  are two ways to create copy of dictionary \n",
    "1. copy( )\n",
    "2. dict() constructor"
   ]
  },
  {
   "cell_type": "code",
   "execution_count": 57,
   "id": "573f3b2f",
   "metadata": {
    "scrolled": true
   },
   "outputs": [
    {
     "data": {
      "text/plain": [
       "{'data': 'electricity',\n",
       " 'science': 'subject',\n",
       " 'field': 'area',\n",
       " 'math': 'subject',\n",
       " 'marks': 20}"
      ]
     },
     "execution_count": 57,
     "metadata": {},
     "output_type": "execute_result"
    }
   ],
   "source": [
    "# copy() method\n",
    "\n",
    "dict3 = {'data':'electricity',\n",
    "         'science':'subject',\n",
    "         'field':'area',\n",
    "         'math':'subject',\n",
    "         'marks':20\n",
    "        }\n",
    "dict5 = dict3.copy()\n",
    "\n",
    "dict5"
   ]
  },
  {
   "cell_type": "code",
   "execution_count": null,
   "id": "d3712f39",
   "metadata": {},
   "outputs": [],
   "source": [
    "# dict( )  constructor\n",
    "\n",
    "d"
   ]
  }
 ],
 "metadata": {
  "kernelspec": {
   "display_name": "Python 3",
   "language": "python",
   "name": "python3"
  },
  "language_info": {
   "codemirror_mode": {
    "name": "ipython",
    "version": 3
   },
   "file_extension": ".py",
   "mimetype": "text/x-python",
   "name": "python",
   "nbconvert_exporter": "python",
   "pygments_lexer": "ipython3",
   "version": "3.8.8"
  }
 },
 "nbformat": 4,
 "nbformat_minor": 5
}
