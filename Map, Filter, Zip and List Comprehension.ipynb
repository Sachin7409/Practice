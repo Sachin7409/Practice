{
 "cells": [
  {
   "cell_type": "markdown",
   "id": "83a8a21e",
   "metadata": {},
   "source": [
    "The map function makes a new list where each item in the original list is transformed in some way."
   ]
  },
  {
   "cell_type": "code",
   "execution_count": 4,
   "id": "dfd77380",
   "metadata": {},
   "outputs": [
    {
     "name": "stdout",
     "output_type": "stream",
     "text": [
      "[1, 2, 3, 4, 5]\n",
      "[2, 4, 6, 8, 10]\n"
     ]
    }
   ],
   "source": [
    "def double(a):\n",
    "    newlist = []\n",
    "    for value in a:\n",
    "        newitem = 2*value\n",
    "        newlist.append(newitem)\n",
    "    return newlist\n",
    "a = [1,2,3,4,5]\n",
    "b = double(a)\n",
    "print(a)\n",
    "print(b)"
   ]
  },
  {
   "cell_type": "markdown",
   "id": "d6bf950d",
   "metadata": {},
   "source": [
    "Here we transformed the each item of list \"a\" and we can see that as well in list 'b'.\n",
    "\n",
    "Item of list 'b' are doubled."
   ]
  },
  {
   "cell_type": "markdown",
   "id": "7139f57d",
   "metadata": {},
   "source": [
    "## A map is a function, it takes a sequence as its second input and it takes a function as its first input."
   ]
  },
  {
   "cell_type": "code",
   "execution_count": null,
   "id": "bd33c63b",
   "metadata": {},
   "outputs": [],
   "source": []
  }
 ],
 "metadata": {
  "kernelspec": {
   "display_name": "Python 3",
   "language": "python",
   "name": "python3"
  },
  "language_info": {
   "codemirror_mode": {
    "name": "ipython",
    "version": 3
   },
   "file_extension": ".py",
   "mimetype": "text/x-python",
   "name": "python",
   "nbconvert_exporter": "python",
   "pygments_lexer": "ipython3",
   "version": "3.8.8"
  }
 },
 "nbformat": 4,
 "nbformat_minor": 5
}
