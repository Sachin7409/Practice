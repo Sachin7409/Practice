{
 "cells": [
  {
   "cell_type": "code",
   "execution_count": 1,
   "id": "b21fc7e9",
   "metadata": {},
   "outputs": [],
   "source": [
    "# Create a nested dictionary. Access elements of the dictionary."
   ]
  },
  {
   "cell_type": "code",
   "execution_count": 2,
   "id": "3d661809",
   "metadata": {},
   "outputs": [],
   "source": [
    "dict2 = {'personal data': \n",
    "                           {'name':'Sachin',\n",
    "                           'age': 24,\n",
    "                           'major': 'Data Science',\n",
    "                           'physical_features': {'color':\n",
    "                                                        {'eye':'blue',\n",
    "                                                         'hair':'brown'\n",
    "                                                        },\n",
    "                                                 'height': \"5'10\"                                              \n",
    "                                                }\n",
    "                           },\n",
    "         'others': \n",
    "                   {'favorite_colors': ['Royal Blue', 'Black', 'blue'],\n",
    "                    'interested_in': ['New Tech', 'Gym', 'Growth', 'music', 'books']\n",
    "                   }\n",
    "        }\n",
    "\n"
   ]
  },
  {
   "cell_type": "code",
   "execution_count": 3,
   "id": "3ac122c4",
   "metadata": {},
   "outputs": [],
   "source": [
    "dict3 = {'Personal_data':'abc',\n",
    "         'name': {'Class':[1,2,3,4]},\n",
    "          'age': 24,\n",
    "          'major': 'Data Science'}"
   ]
  },
  {
   "cell_type": "code",
   "execution_count": 4,
   "id": "082b6ca9",
   "metadata": {},
   "outputs": [
    {
     "data": {
      "text/plain": [
       "{'Class': [1, 2, 3, 4]}"
      ]
     },
     "execution_count": 4,
     "metadata": {},
     "output_type": "execute_result"
    }
   ],
   "source": [
    "dict3['name']"
   ]
  },
  {
   "cell_type": "code",
   "execution_count": 5,
   "id": "3640686d",
   "metadata": {},
   "outputs": [
    {
     "data": {
      "text/plain": [
       "[1, 2, 3, 4]"
      ]
     },
     "execution_count": 5,
     "metadata": {},
     "output_type": "execute_result"
    }
   ],
   "source": [
    "dict3['name']['Class']"
   ]
  },
  {
   "cell_type": "code",
   "execution_count": 6,
   "id": "c24d3444",
   "metadata": {},
   "outputs": [
    {
     "data": {
      "text/plain": [
       "{'eye': 'blue', 'hair': 'brown'}"
      ]
     },
     "execution_count": 6,
     "metadata": {},
     "output_type": "execute_result"
    }
   ],
   "source": [
    "dict2['personal data']['physical_features']['color']"
   ]
  },
  {
   "cell_type": "markdown",
   "id": "d3e5e2cd",
   "metadata": {},
   "source": [
    "# keys( )  method"
   ]
  },
  {
   "cell_type": "code",
   "execution_count": 7,
   "id": "cf500042",
   "metadata": {},
   "outputs": [
    {
     "name": "stdout",
     "output_type": "stream",
     "text": [
      "dict_keys(['personal data', 'others'])\n"
     ]
    }
   ],
   "source": [
    "print(dict2.keys())"
   ]
  },
  {
   "cell_type": "code",
   "execution_count": 8,
   "id": "13c96e08",
   "metadata": {},
   "outputs": [
    {
     "data": {
      "text/plain": [
       "dict_keys(['name', 'age', 'major', 'physical_features'])"
      ]
     },
     "execution_count": 8,
     "metadata": {},
     "output_type": "execute_result"
    }
   ],
   "source": [
    "dict2['personal data'].keys()"
   ]
  },
  {
   "cell_type": "code",
   "execution_count": 9,
   "id": "dcb34948",
   "metadata": {},
   "outputs": [
    {
     "name": "stdout",
     "output_type": "stream",
     "text": [
      "{'name': 'Sachin', 'age': 24, 'major': 'Data Science', 'physical_features': {'color': {'eye': 'blue', 'hair': 'brown'}, 'height': \"5'10\"}}\n"
     ]
    }
   ],
   "source": [
    "print(dict2.get('personal data'))"
   ]
  },
  {
   "cell_type": "code",
   "execution_count": 10,
   "id": "ec24e308",
   "metadata": {
    "scrolled": true
   },
   "outputs": [
    {
     "data": {
      "text/plain": [
       "{'name': 'Sachin',\n",
       " 'age': 24,\n",
       " 'major': 'Data Science',\n",
       " 'physical_features': {'color': {'eye': 'blue', 'hair': 'brown'},\n",
       "  'height': \"5'10\"}}"
      ]
     },
     "execution_count": 10,
     "metadata": {},
     "output_type": "execute_result"
    }
   ],
   "source": [
    "dict2['personal data']"
   ]
  },
  {
   "cell_type": "markdown",
   "id": "89a347e6",
   "metadata": {},
   "source": [
    "# values( ) method"
   ]
  },
  {
   "cell_type": "code",
   "execution_count": 11,
   "id": "3cf88b29",
   "metadata": {},
   "outputs": [
    {
     "name": "stdout",
     "output_type": "stream",
     "text": [
      "<class 'dict_values'>\n"
     ]
    }
   ],
   "source": [
    "print(type(dict2.values()))"
   ]
  },
  {
   "cell_type": "code",
   "execution_count": 12,
   "id": "8341c0d6",
   "metadata": {},
   "outputs": [
    {
     "data": {
      "text/plain": [
       "dict_values(['Sachin', 24, 'Data Science', {'color': {'eye': 'blue', 'hair': 'brown'}, 'height': \"5'10\"}])"
      ]
     },
     "execution_count": 12,
     "metadata": {},
     "output_type": "execute_result"
    }
   ],
   "source": [
    "dict2['personal data'].values()"
   ]
  },
  {
   "cell_type": "code",
   "execution_count": 13,
   "id": "28d7712c",
   "metadata": {},
   "outputs": [
    {
     "data": {
      "text/plain": [
       "dict_values(['blue', 'brown'])"
      ]
     },
     "execution_count": 13,
     "metadata": {},
     "output_type": "execute_result"
    }
   ],
   "source": [
    "dict2['personal data']['physical_features']['color'].values()"
   ]
  },
  {
   "cell_type": "code",
   "execution_count": 14,
   "id": "26d11784",
   "metadata": {},
   "outputs": [
    {
     "name": "stdout",
     "output_type": "stream",
     "text": [
      "<class 'dict_values'>\n"
     ]
    }
   ],
   "source": [
    "print(type(dict2.values()))"
   ]
  },
  {
   "cell_type": "code",
   "execution_count": 15,
   "id": "5ab6d155",
   "metadata": {},
   "outputs": [],
   "source": [
    "dict2['personal data']['physical_features']['color']['eye'] = 'yellow'"
   ]
  },
  {
   "cell_type": "code",
   "execution_count": 16,
   "id": "59900560",
   "metadata": {
    "scrolled": true
   },
   "outputs": [
    {
     "data": {
      "text/plain": [
       "'yellow'"
      ]
     },
     "execution_count": 16,
     "metadata": {},
     "output_type": "execute_result"
    }
   ],
   "source": [
    "dict2['personal data']['physical_features']['color']['eye']"
   ]
  },
  {
   "cell_type": "code",
   "execution_count": 17,
   "id": "e816d1b4",
   "metadata": {
    "scrolled": true
   },
   "outputs": [
    {
     "data": {
      "text/plain": [
       "{'personal data': {'name': 'Sachin',\n",
       "  'age': 24,\n",
       "  'major': 'Data Science',\n",
       "  'physical_features': {'color': {'eye': 'yellow', 'hair': 'brown'},\n",
       "   'height': \"5'10\"}},\n",
       " 'others': {'favorite_colors': ['Royal Blue', 'Black', 'blue'],\n",
       "  'interested_in': ['New Tech', 'Gym', 'Growth', 'music', 'books']}}"
      ]
     },
     "execution_count": 17,
     "metadata": {},
     "output_type": "execute_result"
    }
   ],
   "source": [
    "dict2"
   ]
  },
  {
   "cell_type": "code",
   "execution_count": 18,
   "id": "f93294d5",
   "metadata": {},
   "outputs": [
    {
     "data": {
      "text/plain": [
       "{'eye': 'yellow', 'hair': 'brown'}"
      ]
     },
     "execution_count": 18,
     "metadata": {},
     "output_type": "execute_result"
    }
   ],
   "source": [
    "# pop() method\n",
    "\n",
    "dict2['personal data']['physical_features'].pop('color')"
   ]
  },
  {
   "cell_type": "code",
   "execution_count": 19,
   "id": "a3dd18f3",
   "metadata": {},
   "outputs": [
    {
     "data": {
      "text/plain": [
       "{'personal data': {'name': 'Sachin',\n",
       "  'age': 24,\n",
       "  'major': 'Data Science',\n",
       "  'physical_features': {'height': \"5'10\"}},\n",
       " 'others': {'favorite_colors': ['Royal Blue', 'Black', 'blue'],\n",
       "  'interested_in': ['New Tech', 'Gym', 'Growth', 'music', 'books']}}"
      ]
     },
     "execution_count": 19,
     "metadata": {},
     "output_type": "execute_result"
    }
   ],
   "source": [
    "dict2"
   ]
  },
  {
   "cell_type": "code",
   "execution_count": 20,
   "id": "294140fe",
   "metadata": {},
   "outputs": [],
   "source": [
    "# popitem() method\n",
    "\n",
    "# dict2['personal data']['physical_features'].popitem()\n"
   ]
  },
  {
   "cell_type": "code",
   "execution_count": 21,
   "id": "88781f7c",
   "metadata": {},
   "outputs": [],
   "source": [
    "dict2['personal data']['physical_features'] = {'height':\"'10\"}"
   ]
  },
  {
   "cell_type": "code",
   "execution_count": 22,
   "id": "9d5afb1f",
   "metadata": {},
   "outputs": [
    {
     "data": {
      "text/plain": [
       "{'personal data': {'name': 'Sachin',\n",
       "  'age': 24,\n",
       "  'major': 'Data Science',\n",
       "  'physical_features': {'height': \"'10\"}},\n",
       " 'others': {'favorite_colors': ['Royal Blue', 'Black', 'blue'],\n",
       "  'interested_in': ['New Tech', 'Gym', 'Growth', 'music', 'books']}}"
      ]
     },
     "execution_count": 22,
     "metadata": {},
     "output_type": "execute_result"
    }
   ],
   "source": [
    "dict2"
   ]
  },
  {
   "cell_type": "code",
   "execution_count": 23,
   "id": "28aaac05",
   "metadata": {},
   "outputs": [],
   "source": [
    "del dict2['personal data']"
   ]
  },
  {
   "cell_type": "code",
   "execution_count": 24,
   "id": "bc3dc0d7",
   "metadata": {},
   "outputs": [
    {
     "data": {
      "text/plain": [
       "{'others': {'favorite_colors': ['Royal Blue', 'Black', 'blue'],\n",
       "  'interested_in': ['New Tech', 'Gym', 'Growth', 'music', 'books']}}"
      ]
     },
     "execution_count": 24,
     "metadata": {},
     "output_type": "execute_result"
    }
   ],
   "source": [
    "dict2"
   ]
  },
  {
   "cell_type": "code",
   "execution_count": 25,
   "id": "d0e10d9f",
   "metadata": {},
   "outputs": [],
   "source": [
    "del dict2['others']['interested_in'][2]"
   ]
  },
  {
   "cell_type": "code",
   "execution_count": 26,
   "id": "7fd8d356",
   "metadata": {},
   "outputs": [
    {
     "data": {
      "text/plain": [
       "{'others': {'favorite_colors': ['Royal Blue', 'Black', 'blue'],\n",
       "  'interested_in': ['New Tech', 'Gym', 'music', 'books']}}"
      ]
     },
     "execution_count": 26,
     "metadata": {},
     "output_type": "execute_result"
    }
   ],
   "source": [
    "dict2"
   ]
  },
  {
   "cell_type": "code",
   "execution_count": null,
   "id": "f357d987",
   "metadata": {},
   "outputs": [],
   "source": []
  }
 ],
 "metadata": {
  "kernelspec": {
   "display_name": "Python 3",
   "language": "python",
   "name": "python3"
  },
  "language_info": {
   "codemirror_mode": {
    "name": "ipython",
    "version": 3
   },
   "file_extension": ".py",
   "mimetype": "text/x-python",
   "name": "python",
   "nbconvert_exporter": "python",
   "pygments_lexer": "ipython3",
   "version": "3.8.8"
  }
 },
 "nbformat": 4,
 "nbformat_minor": 5
}
