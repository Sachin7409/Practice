{
 "cells": [
  {
   "cell_type": "markdown",
   "id": "a0ecf50e",
   "metadata": {},
   "source": [
    "**f\"string\"**  &ensp; &ensp;&ensp;&ensp;  vs &nbsp; &nbsp; &ensp;&ensp;&ensp;&ensp;&ensp;   **format( )**  &emsp; in strings.\n"
   ]
  },
  {
   "cell_type": "markdown",
   "id": "bfbe3398",
   "metadata": {},
   "source": [
    "1. String formatting uses a process of string interpolation or **variable substitution**.\n",
    "2. To evaluate a string literal containing one or more placeholders, yielding a result in which the placeholders are replaced with their corresponding values."
   ]
  },
  {
   "cell_type": "code",
   "execution_count": 11,
   "id": "05256b40",
   "metadata": {},
   "outputs": [
    {
     "name": "stdout",
     "output_type": "stream",
     "text": [
      "Hello Sachin Chaudhary\n",
      "Hello Sachin Chaudhary\n"
     ]
    }
   ],
   "source": [
    "name = 'Sachin Chaudhary'\n",
    "print('Hello',format(name))\n",
    "print('Hello',name)"
   ]
  },
  {
   "cell_type": "markdown",
   "id": "4a04a8c3",
   "metadata": {},
   "source": [
    "1. So we can not concatenate or add string and int.\n",
    "2. But with the help of **format()** we can achieve this.\n",
    "3. We place the placeholders in string.\n",
    "4. String format() function use that template string with placeholders and pass the value of that variable."
   ]
  },
  {
   "cell_type": "code",
   "execution_count": 2,
   "id": "531bb60a",
   "metadata": {},
   "outputs": [
    {
     "name": "stdout",
     "output_type": "stream",
     "text": [
      "My name is Sachin Chaudhary, and I am 24 years old.\n"
     ]
    }
   ],
   "source": [
    "# simplest way to use format() function\n",
    "age = 24\n",
    "text = 'My name is {}, and I am {} years old.'\n",
    "print(text.format(name,age))"
   ]
  },
  {
   "cell_type": "code",
   "execution_count": 3,
   "id": "146efa77",
   "metadata": {},
   "outputs": [
    {
     "name": "stdout",
     "output_type": "stream",
     "text": [
      "My salary is  50000\n"
     ]
    }
   ],
   "source": [
    "# second method to do concatenation without format method\n",
    "salary = 50000\n",
    "print('My salary is ',salary)"
   ]
  },
  {
   "cell_type": "code",
   "execution_count": 13,
   "id": "dd459c17",
   "metadata": {},
   "outputs": [
    {
     "name": "stdout",
     "output_type": "stream",
     "text": [
      "Enter number35\n",
      "I want 35 fruits from the following ['Apple', 'Banana', 'Mango', 'Grapes', 'Orange']\n"
     ]
    }
   ],
   "source": [
    "n = int(input('Enter number'))\n",
    "alist = ['Apple','Banana','Mango','Grapes','Orange']\n",
    "fruit = 'I want {} fruits from the following {}'\n",
    "print(fruit.format(n,alist))"
   ]
  },
  {
   "cell_type": "code",
   "execution_count": 14,
   "id": "c916a3ba",
   "metadata": {},
   "outputs": [
    {
     "name": "stdout",
     "output_type": "stream",
     "text": [
      "My name is Sachin Chaudhary, and I am 24 years old. and I teach in SURE trust\n"
     ]
    }
   ],
   "source": [
    "inst = 'SURE'\n",
    "text1 = 'and I teach in {} trust'\n",
    "print(text.format(name,age),text1.format(inst))"
   ]
  },
  {
   "cell_type": "markdown",
   "id": "f9999fe4",
   "metadata": {},
   "source": [
    "### f\"string\""
   ]
  },
  {
   "cell_type": "code",
   "execution_count": 15,
   "id": "1fc6882d",
   "metadata": {},
   "outputs": [
    {
     "name": "stdout",
     "output_type": "stream",
     "text": [
      "My name is Sachin Chaudhary and I am 24 years old, SURE)\n"
     ]
    }
   ],
   "source": [
    "# f\"string\"\n",
    "print(f'My name is {name} and I am {age} years old, {inst})')"
   ]
  },
  {
   "cell_type": "code",
   "execution_count": 8,
   "id": "db92c406",
   "metadata": {},
   "outputs": [
    {
     "name": "stdout",
     "output_type": "stream",
     "text": [
      "SURE is an Educational organisation\n"
     ]
    }
   ],
   "source": [
    "ed = 'Educational'\n",
    "print(f'{inst} is an {ed} organisation')"
   ]
  },
  {
   "cell_type": "markdown",
   "id": "e1c53908",
   "metadata": {},
   "source": [
    "#### Using + operator"
   ]
  },
  {
   "cell_type": "code",
   "execution_count": 9,
   "id": "ba08ac9b",
   "metadata": {},
   "outputs": [
    {
     "name": "stdout",
     "output_type": "stream",
     "text": [
      "I completed my graduation in Bachelor of Technology in Computer Science and Engineering\n"
     ]
    }
   ],
   "source": [
    "grad = 'Bachelor of Technology in Computer Science and Engineering'\n",
    "des = 'I completed my graduation in '\n",
    "print(des+grad)"
   ]
  },
  {
   "cell_type": "code",
   "execution_count": 10,
   "id": "5aa21048",
   "metadata": {},
   "outputs": [
    {
     "ename": "TypeError",
     "evalue": "can only concatenate str (not \"int\") to str",
     "output_type": "error",
     "traceback": [
      "\u001b[0;31m---------------------------------------------------------------------------\u001b[0m",
      "\u001b[0;31mTypeError\u001b[0m                                 Traceback (most recent call last)",
      "\u001b[0;32m<ipython-input-10-fb5744d0aa33>\u001b[0m in \u001b[0;36m<module>\u001b[0;34m\u001b[0m\n\u001b[1;32m      1\u001b[0m \u001b[0ma\u001b[0m \u001b[0;34m=\u001b[0m \u001b[0;36m2\u001b[0m\u001b[0;34m\u001b[0m\u001b[0;34m\u001b[0m\u001b[0m\n\u001b[0;32m----> 2\u001b[0;31m \u001b[0mprint\u001b[0m\u001b[0;34m(\u001b[0m\u001b[0mdes\u001b[0m\u001b[0;34m+\u001b[0m\u001b[0ma\u001b[0m\u001b[0;34m)\u001b[0m\u001b[0;34m\u001b[0m\u001b[0;34m\u001b[0m\u001b[0m\n\u001b[0m",
      "\u001b[0;31mTypeError\u001b[0m: can only concatenate str (not \"int\") to str"
     ]
    }
   ],
   "source": [
    "a = 2\n",
    "print(des+a)"
   ]
  },
  {
   "cell_type": "code",
   "execution_count": null,
   "id": "a983acdf",
   "metadata": {},
   "outputs": [],
   "source": []
  }
 ],
 "metadata": {
  "kernelspec": {
   "display_name": "Python 3",
   "language": "python",
   "name": "python3"
  },
  "language_info": {
   "codemirror_mode": {
    "name": "ipython",
    "version": 3
   },
   "file_extension": ".py",
   "mimetype": "text/x-python",
   "name": "python",
   "nbconvert_exporter": "python",
   "pygments_lexer": "ipython3",
   "version": "3.8.8"
  }
 },
 "nbformat": 4,
 "nbformat_minor": 5
}
