{
 "cells": [
  {
   "cell_type": "code",
   "execution_count": null,
   "id": "55152f42",
   "metadata": {},
   "outputs": [],
   "source": [
    "\"\"\"\"You are a teacher and you have students records containinng Id of students and\n",
    "the marks list in each sunject where different students have taken different number of subjects. \n",
    "All these records are in hard copy and you want to enter all the data in computer and \n",
    "want to compute average marks of student and display\"\"\""
   ]
  },
  {
   "cell_type": "code",
   "execution_count": 13,
   "id": "113cfd62",
   "metadata": {},
   "outputs": [],
   "source": [
    "def getdata():\n",
    "    dict1 = {}\n",
    "    while True:\n",
    "        Studentid = int(input('Enter id number of student : '))\n",
    "        marks = input('Enter marks of subjects and separated by comma : ')\n",
    "        moredata = input('You want to enter more data :')\n",
    "        if Studentid in dict1:\n",
    "            print(Studentid, 'Id is already present ')\n",
    "        else :\n",
    "            dict1[Studentid] = marks.split(',')\n",
    "        if moredata.lower() == 'no':\n",
    "            return dict1\n",
    "        "
   ]
  },
  {
   "cell_type": "code",
   "execution_count": 14,
   "id": "28a954bc",
   "metadata": {
    "scrolled": true
   },
   "outputs": [
    {
     "name": "stdout",
     "output_type": "stream",
     "text": [
      "Enter id number of student : 101\n",
      "Enter marks of subjects and separated by comma : 12,23,32,09\n",
      "You want to enter more data :yes\n",
      "Enter id number of student : 102\n",
      "Enter marks of subjects and separated by comma : 32,28,37\n",
      "You want to enter more data :yes\n",
      "Enter id number of student : 103\n",
      "Enter marks of subjects and separated by comma : 44,32,36,09,85\n",
      "You want to enter more data :no\n"
     ]
    }
   ],
   "source": [
    "data = getdata()"
   ]
  },
  {
   "cell_type": "code",
   "execution_count": 21,
   "id": "626bd2a3",
   "metadata": {},
   "outputs": [
    {
     "data": {
      "text/plain": [
       "{101: ['12', '23', '32', '09'],\n",
       " 102: ['32', '28', '37'],\n",
       " 103: ['44', '32', '36', '09', '85']}"
      ]
     },
     "execution_count": 21,
     "metadata": {},
     "output_type": "execute_result"
    }
   ],
   "source": [
    "data"
   ]
  },
  {
   "cell_type": "code",
   "execution_count": 22,
   "id": "00b725fe",
   "metadata": {},
   "outputs": [],
   "source": [
    "def avgmarks(data):\n",
    "    avg = {}\n",
    "    for x in data:\n",
    "        list1 = data[x]\n",
    "        s = 0\n",
    "        for mark in list1:\n",
    "            s += int(mark)\n",
    "        avg[x] = s/len(list1)\n",
    "    return avg"
   ]
  },
  {
   "cell_type": "code",
   "execution_count": 23,
   "id": "37c340a0",
   "metadata": {},
   "outputs": [],
   "source": [
    "result = avgmarks(data)\n"
   ]
  },
  {
   "cell_type": "code",
   "execution_count": 24,
   "id": "1b5cc861",
   "metadata": {},
   "outputs": [
    {
     "name": "stdout",
     "output_type": "stream",
     "text": [
      "Student  101  got average marks  19.0\n",
      "Student  102  got average marks  32.333333333333336\n",
      "Student  103  got average marks  41.2\n"
     ]
    }
   ],
   "source": [
    "for x in result:\n",
    "    print('Student ',x,' got average marks ',result[x])"
   ]
  },
  {
   "cell_type": "code",
   "execution_count": null,
   "id": "9836a670",
   "metadata": {},
   "outputs": [],
   "source": []
  }
 ],
 "metadata": {
  "kernelspec": {
   "display_name": "Python 3",
   "language": "python",
   "name": "python3"
  },
  "language_info": {
   "codemirror_mode": {
    "name": "ipython",
    "version": 3
   },
   "file_extension": ".py",
   "mimetype": "text/x-python",
   "name": "python",
   "nbconvert_exporter": "python",
   "pygments_lexer": "ipython3",
   "version": "3.8.8"
  }
 },
 "nbformat": 4,
 "nbformat_minor": 5
}
