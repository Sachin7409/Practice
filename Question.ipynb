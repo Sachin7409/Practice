{
 "cells": [
  {
   "cell_type": "code",
   "execution_count": null,
   "id": "4a83499e",
   "metadata": {},
   "outputs": [],
   "source": [
    "\"\"\"\"You are a teacher and you have students records containinng Id of students and\n",
    "the marks list in each sunject where different students have taken different number of subjects. \n",
    "All these records are in hard copy and you want to enter all the data in computer and \n",
    "want to compute average marks of student and display\"\"\""
   ]
  },
  {
   "cell_type": "code",
   "execution_count": 31,
   "id": "35118b27",
   "metadata": {},
   "outputs": [],
   "source": [
    "def student_data():\n",
    "    dict2 = {}\n",
    "    while True:\n",
    "        student_id = int(input(\"Enter the student id :\"))\n",
    "        marks = input('Marks according to number of subjects :')\n",
    "        more_data = input('Do you want to add more data :')\n",
    "        if student_id in dict2:\n",
    "            print(student_id, 'Id is already exist')\n",
    "        else:\n",
    "            dict2[student_id] = marks.split(',')\n",
    "        if more_data.lower() == 'no':\n",
    "            \n",
    "            return dict2"
   ]
  },
  {
   "cell_type": "code",
   "execution_count": null,
   "id": "40528e13",
   "metadata": {},
   "outputs": [],
   "source": [
    "get_data = student_data()"
   ]
  },
  {
   "cell_type": "code",
   "execution_count": null,
   "id": "4fcb8ed6",
   "metadata": {},
   "outputs": [],
   "source": [
    "get_data"
   ]
  },
  {
   "cell_type": "code",
   "execution_count": null,
   "id": "3469a3d7",
   "metadata": {},
   "outputs": [],
   "source": [
    "def avg_marks(get_data):\n",
    "    avg = {}\n",
    "    for i in get_data:\n",
    "        list1 = get_data[i]\n",
    "        s = 0\n",
    "        for x in list1:\n",
    "            s += int(x)\n",
    "        avg[i] = s/len(list1)\n",
    "    return avg\n"
   ]
  },
  {
   "cell_type": "code",
   "execution_count": null,
   "id": "f541dc8e",
   "metadata": {},
   "outputs": [],
   "source": [
    "result = avg_marks(get_data)"
   ]
  },
  {
   "cell_type": "code",
   "execution_count": null,
   "id": "a2d24990",
   "metadata": {},
   "outputs": [],
   "source": [
    "for w in result:\n",
    "    print(result[w])"
   ]
  },
  {
   "cell_type": "code",
   "execution_count": null,
   "id": "8e90873c",
   "metadata": {},
   "outputs": [],
   "source": []
  }
 ],
 "metadata": {
  "kernelspec": {
   "display_name": "Python 3",
   "language": "python",
   "name": "python3"
  },
  "language_info": {
   "codemirror_mode": {
    "name": "ipython",
    "version": 3
   },
   "file_extension": ".py",
   "mimetype": "text/x-python",
   "name": "python",
   "nbconvert_exporter": "python",
   "pygments_lexer": "ipython3",
   "version": "3.8.8"
  }
 },
 "nbformat": 4,
 "nbformat_minor": 5
}
